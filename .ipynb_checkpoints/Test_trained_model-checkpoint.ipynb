{
 "cells": [
  {
   "cell_type": "code",
   "execution_count": 1,
   "metadata": {},
   "outputs": [],
   "source": [
    "import torch\n",
    "from torch.autograd import Variable\n",
    "import torch.nn.functional as F\n",
    "import torch.utils.data as Data\n",
    "from torchvision import datasets, transforms, models\n",
    "import matplotlib.pyplot as plt\n",
    "%matplotlib qt\n",
    "import numpy as np\n",
    "import imageio\n",
    "import pandas as pd\n",
    "# from data_prep_gasflow import features, targets, features_test, targets_test\n",
    "from torchsummary import summary"
   ]
  },
  {
   "cell_type": "code",
   "execution_count": 2,
   "metadata": {},
   "outputs": [],
   "source": [
    "# import checkpoint file from training\n",
    "# path = 'C:/Users/david.wagner/Desktop/Biomasse-Institut/Machine_Learning_Corr/Netze_Regressionen_ASIM/checkpoint_xy_16dim_101920.pth.tar' # absolute path\n",
    "path1 = 'checkpoint_xy_16dim_101920.pth.tar' # relative path"
   ]
  },
  {
   "cell_type": "code",
   "execution_count": 3,
   "metadata": {},
   "outputs": [
    {
     "name": "stdout",
     "output_type": "stream",
     "text": [
      "Sequential(\n",
      "  (0): Linear(in_features=4, out_features=512, bias=True)\n",
      "  (1): ReLU()\n",
      "  (2): Linear(in_features=512, out_features=512, bias=True)\n",
      "  (3): ReLU()\n",
      "  (4): Linear(in_features=512, out_features=256, bias=True)\n",
      "  (5): ReLU()\n",
      "  (6): Linear(in_features=256, out_features=256, bias=True)\n",
      "  (7): ReLU()\n",
      "  (8): Linear(in_features=256, out_features=128, bias=True)\n",
      "  (9): ReLU()\n",
      "  (10): Linear(in_features=128, out_features=64, bias=True)\n",
      "  (11): ReLU()\n",
      "  (12): Linear(in_features=64, out_features=64, bias=True)\n",
      "  (13): ReLU()\n",
      "  (14): Linear(in_features=64, out_features=32, bias=True)\n",
      "  (15): ReLU()\n",
      "  (16): Linear(in_features=32, out_features=16, bias=True)\n",
      "  (17): ReLU()\n",
      "  (18): Linear(in_features=16, out_features=16, bias=True)\n",
      ")\n"
     ]
    }
   ],
   "source": [
    "# load file from storage\n",
    "checkpoint_1 = torch.load(path1,  map_location=lambda storage, loc: storage)\n",
    "model_structure_1 = print(checkpoint_1['model'])"
   ]
  },
  {
   "cell_type": "code",
   "execution_count": 4,
   "metadata": {},
   "outputs": [],
   "source": [
    "# define the trained network\n",
    "net = torch.nn.Sequential(\n",
    "        torch.nn.Linear(4, 512),\n",
    "        torch.nn.ReLU(),\n",
    "        torch.nn.Linear(512, 512),\n",
    "        torch.nn.ReLU(),\n",
    "        torch.nn.Linear(512, 256),\n",
    "        torch.nn.ReLU(),\n",
    "        torch.nn.Linear(256, 256),\n",
    "        torch.nn.ReLU(),\n",
    "        torch.nn.Linear(256, 128),\n",
    "        torch.nn.ReLU(),\n",
    "        torch.nn.Linear(128, 64),\n",
    "        torch.nn.ReLU(),\n",
    "        torch.nn.Linear(64, 64),\n",
    "        torch.nn.ReLU(),\n",
    "        torch.nn.Linear(64, 32),\n",
    "        torch.nn.ReLU(),\n",
    "        torch.nn.Linear(32, 16),\n",
    "        torch.nn.ReLU(),\n",
    "        torch.nn.Linear(16, 16),\n",
    "    )"
   ]
  },
  {
   "cell_type": "code",
   "execution_count": 5,
   "metadata": {},
   "outputs": [
    {
     "name": "stdout",
     "output_type": "stream",
     "text": [
      "----------------------------------------------------------------\n",
      "        Layer (type)               Output Shape         Param #\n",
      "================================================================\n",
      "            Linear-1               [-1, 2, 512]           2,560\n",
      "              ReLU-2               [-1, 2, 512]               0\n",
      "            Linear-3               [-1, 2, 512]         262,656\n",
      "              ReLU-4               [-1, 2, 512]               0\n",
      "            Linear-5               [-1, 2, 256]         131,328\n",
      "              ReLU-6               [-1, 2, 256]               0\n",
      "            Linear-7               [-1, 2, 256]          65,792\n",
      "              ReLU-8               [-1, 2, 256]               0\n",
      "            Linear-9               [-1, 2, 128]          32,896\n",
      "             ReLU-10               [-1, 2, 128]               0\n",
      "           Linear-11                [-1, 2, 64]           8,256\n",
      "             ReLU-12                [-1, 2, 64]               0\n",
      "           Linear-13                [-1, 2, 64]           4,160\n",
      "             ReLU-14                [-1, 2, 64]               0\n",
      "           Linear-15                [-1, 2, 32]           2,080\n",
      "             ReLU-16                [-1, 2, 32]               0\n",
      "           Linear-17                [-1, 2, 16]             528\n",
      "             ReLU-18                [-1, 2, 16]               0\n",
      "           Linear-19                [-1, 2, 16]             272\n",
      "================================================================\n",
      "Total params: 510,528\n",
      "Trainable params: 510,528\n",
      "Non-trainable params: 0\n",
      "----------------------------------------------------------------\n",
      "Input size (MB): 0.00\n",
      "Forward/backward pass size (MB): 0.06\n",
      "Params size (MB): 1.95\n",
      "Estimated Total Size (MB): 2.00\n",
      "----------------------------------------------------------------\n"
     ]
    }
   ],
   "source": [
    "# show statistics from model\n",
    "model = net\n",
    "model.load_state_dict(checkpoint_1['state_dict'])\n",
    "model.eval()\n",
    "summary(model, (2,4)) # 2 Dimensionen und 4 Inputs"
   ]
  },
  {
   "cell_type": "code",
   "execution_count": 6,
   "metadata": {},
   "outputs": [],
   "source": [
    "# # read csv. Isn't necessary when only determining the accuracy of the prediction\n",
    "data_raw= pd.read_csv('gasflowdata_mitA_16dim.csv')"
   ]
  },
  {
   "cell_type": "code",
   "execution_count": 7,
   "metadata": {},
   "outputs": [],
   "source": [
    "# read data from checkpoint\n",
    "x_data = checkpoint_1['x_data']\n",
    "y_data = checkpoint_1['y_data']\n",
    "x_test = checkpoint_1['x_test']\n",
    "y_test = checkpoint_1['y_test']"
   ]
  },
  {
   "cell_type": "code",
   "execution_count": 22,
   "metadata": {},
   "outputs": [],
   "source": [
    "# define loss function\n",
    "def my_loss(output, target):\n",
    "    abw = (output - target)\n",
    "    loss = ((output - target)**2).sum()\n",
    "    return loss, abw"
   ]
  },
  {
   "cell_type": "code",
   "execution_count": 23,
   "metadata": {},
   "outputs": [],
   "source": [
    "# predict test values\n",
    "prediction_test = net(x_test)"
   ]
  },
  {
   "cell_type": "code",
   "execution_count": 26,
   "metadata": {},
   "outputs": [],
   "source": [
    "# calculate loss\n",
    "lossvalue, abw = my_loss(prediction_test, y_test)"
   ]
  },
  {
   "cell_type": "code",
   "execution_count": 20,
   "metadata": {},
   "outputs": [],
   "source": [
    "# save prediction and real values (in case you want to plot them outside)\n",
    "import csv\n",
    "\n",
    "with open(\"out_prediction_1.csv\", \"w\", newline=\"\") as f:\n",
    "    writer = csv.writer(f)\n",
    "    writer.writerows(prediction_test.detach().numpy())\n",
    "    \n",
    "with open(\"out_real_1.csv\", \"w\", newline=\"\") as g:\n",
    "    writer = csv.writer(g)\n",
    "    writer.writerows(y_test.detach().numpy())"
   ]
  },
  {
   "cell_type": "code",
   "execution_count": 12,
   "metadata": {},
   "outputs": [
    {
     "name": "stdout",
     "output_type": "stream",
     "text": [
      "[  3.03030303  18.18181818  33.33333333  48.48484848  63.63636364\n",
      "  78.78787879  93.93939394 109.09090909 124.24242424 139.39393939\n",
      " 148.48484848 178.78787879 209.09090909 239.39393939 269.6969697\n",
      " 300.        ]          time_1     time_2     time_3     time_4     time_5     time_6  \\\n",
      "0      3.030303  18.181818  33.333333  48.484848  63.636364  78.787879   \n",
      "1      3.030303  18.181818  33.333333  48.484848  63.636364  78.787879   \n",
      "2      3.030303  18.181818  33.333333  48.484848  63.636364  78.787879   \n",
      "3      3.030303  18.181818  33.333333  48.484848  63.636364  78.787879   \n",
      "4      3.030303  18.181818  33.333333  48.484848  63.636364  78.787879   \n",
      "...         ...        ...        ...        ...        ...        ...   \n",
      "11995  3.030303  18.181818  33.333333  48.484848  63.636364  78.787879   \n",
      "11996  3.030303  18.181818  33.333333  48.484848  63.636364  78.787879   \n",
      "11997  3.030303  18.181818  33.333333  48.484848  63.636364  78.787879   \n",
      "11998  3.030303  18.181818  33.333333  48.484848  63.636364  78.787879   \n",
      "11999  3.030303  18.181818  33.333333  48.484848  63.636364  78.787879   \n",
      "\n",
      "          time_7      time_8      time_9     time_10     time_11     time_12  \\\n",
      "0      93.939394  109.090909  124.242424  139.393939  148.484848  178.787879   \n",
      "1      93.939394  109.090909  124.242424  139.393939  148.484848  178.787879   \n",
      "2      93.939394  109.090909  124.242424  139.393939  148.484848  178.787879   \n",
      "3      93.939394  109.090909  124.242424  139.393939  148.484848  178.787879   \n",
      "4      93.939394  109.090909  124.242424  139.393939  148.484848  178.787879   \n",
      "...          ...         ...         ...         ...         ...         ...   \n",
      "11995  93.939394  109.090909  124.242424  139.393939  148.484848  178.787879   \n",
      "11996  93.939394  109.090909  124.242424  139.393939  148.484848  178.787879   \n",
      "11997  93.939394  109.090909  124.242424  139.393939  148.484848  178.787879   \n",
      "11998  93.939394  109.090909  124.242424  139.393939  148.484848  178.787879   \n",
      "11999  93.939394  109.090909  124.242424  139.393939  148.484848  178.787879   \n",
      "\n",
      "          time_13     time_14    time_15  time_16  \n",
      "0      209.090909  239.393939  269.69697      300  \n",
      "1      209.090909  239.393939  269.69697      300  \n",
      "2      209.090909  239.393939  269.69697      300  \n",
      "3      209.090909  239.393939  269.69697      300  \n",
      "4      209.090909  239.393939  269.69697      300  \n",
      "...           ...         ...        ...      ...  \n",
      "11995  209.090909  239.393939  269.69697      300  \n",
      "11996  209.090909  239.393939  269.69697      300  \n",
      "11997  209.090909  239.393939  269.69697      300  \n",
      "11998  209.090909  239.393939  269.69697      300  \n",
      "11999  209.090909  239.393939  269.69697      300  \n",
      "\n",
      "[12000 rows x 16 columns]\n"
     ]
    }
   ],
   "source": [
    "# read time list from data\n",
    "time_list = []\n",
    "for ii in range(16):\n",
    "    time_list.append('time_' + str(ii+1))\n",
    "\n",
    "time_series = data_raw[time_list]\n",
    "t = time_series.loc[0].to_numpy()\n",
    "# print(t, time_series)"
   ]
  },
  {
   "cell_type": "code",
   "execution_count": 28,
   "metadata": {},
   "outputs": [],
   "source": [
    "# detach abw values and make sum over columns\n",
    "abw = (torch.sum(abw, 1)).detach().numpy()\n",
    "abs_abw = abs(abw)\n",
    "\n",
    "x_plt = np.linspace(0,len(abw)-1,len(abw))"
   ]
  },
  {
   "cell_type": "code",
   "execution_count": 29,
   "metadata": {},
   "outputs": [
    {
     "name": "stdout",
     "output_type": "stream",
     "text": [
      "1200 1200\n"
     ]
    }
   ],
   "source": [
    "# print(len(x_plt),len(abw))"
   ]
  },
  {
   "cell_type": "code",
   "execution_count": 34,
   "metadata": {},
   "outputs": [
    {
     "data": {
      "text/plain": [
       "<function matplotlib.pyplot.show(*args, **kw)>"
      ]
     },
     "execution_count": 34,
     "metadata": {},
     "output_type": "execute_result"
    }
   ],
   "source": [
    "# plot the residuals\n",
    "fig = plt.figure()\n",
    "plt.scatter(x_plt, abw)\n",
    "plt.show"
   ]
  },
  {
   "cell_type": "code",
   "execution_count": 35,
   "metadata": {},
   "outputs": [],
   "source": [
    "# sort absolute residuals\n",
    "sort_abw = sorted(range(len(abs_abw)), reverse=True, key = lambda k: abs_abw[k])"
   ]
  },
  {
   "cell_type": "code",
   "execution_count": 36,
   "metadata": {},
   "outputs": [],
   "source": [
    "# only residuals with more than 100 % difference are important\n",
    "indices = [index for index,value in enumerate(abs_abw) if value > 1]"
   ]
  },
  {
   "cell_type": "code",
   "execution_count": 37,
   "metadata": {},
   "outputs": [],
   "source": [
    "# plot those\n",
    "for i in range(len(indices)):\n",
    "    fig = plt.figure()\n",
    "    plt.plot(t, prediction_test.detach().numpy()[sort_abw[i],:], 'bo--', label=r'$\\dot m(CH_4)$ ADM1' , alpha=0.5)\n",
    "    plt.plot(t, y_test.detach().numpy()[sort_abw[i],:], marker=6, color='r', label=r'$\\dot m(CH_4)$ DNN', alpha=0.5)\n",
    "    plt.legend(loc='best')\n",
    "    plt.xlabel('Zeit [d]')\n",
    "    plt.ylabel(r'$\\dot m(CH_4)(skaliert)$')\n",
    "    plt.show()"
   ]
  },
  {
   "cell_type": "code",
   "execution_count": null,
   "metadata": {},
   "outputs": [],
   "source": []
  }
 ],
 "metadata": {
  "kernelspec": {
   "display_name": "Python 3",
   "language": "python",
   "name": "python3"
  },
  "language_info": {
   "codemirror_mode": {
    "name": "ipython",
    "version": 3
   },
   "file_extension": ".py",
   "mimetype": "text/x-python",
   "name": "python",
   "nbconvert_exporter": "python",
   "pygments_lexer": "ipython3",
   "version": "3.7.7"
  }
 },
 "nbformat": 4,
 "nbformat_minor": 4
}
