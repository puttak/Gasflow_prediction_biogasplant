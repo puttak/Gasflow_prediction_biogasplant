{
 "cells": [
  {
   "cell_type": "code",
   "execution_count": 1,
   "metadata": {},
   "outputs": [],
   "source": [
    "import torch\n",
    "from torch.autograd import Variable\n",
    "import torch.nn.functional as F\n",
    "import torch.utils.data as Data\n",
    "from torchvision import datasets, transforms, models\n",
    "import matplotlib.pyplot as plt\n",
    "%matplotlib qt\n",
    "import numpy as np\n",
    "import imageio\n",
    "import pandas as pd\n",
    "# from data_prep_gasflow import features, targets, features_test, targets_test\n",
    "from torchsummary import summary\n",
    "\n",
    "from scipy import optimize\n",
    "import matlab.engine\n",
    "eng = matlab.engine.start_matlab()\n",
    "import numpy as np\n",
    "from scipy.optimize import minimize\n",
    "import numpy.matlib \n",
    "import timeit, time\n",
    "\n",
    "from scipy.optimize import Bounds\n",
    "from scipy.optimize import BFGS\n",
    "from scipy.optimize import NonlinearConstraint"
   ]
  },
  {
   "cell_type": "markdown",
   "metadata": {},
   "source": [
    "## Import trained deep neural net"
   ]
  },
  {
   "cell_type": "code",
   "execution_count": 2,
   "metadata": {},
   "outputs": [],
   "source": [
    "# path = 'C:/Users/david.wagner/Desktop/Biomasse-Institut/Machine_Learning_Corr/checkpoint_ohneneu_16dim.pth.tar'\n",
    "path = 'checkp_xy_mit_16dim.pth.tar'\n",
    "path1 = 'checkpoint_xy_16dim_101920.pth.tar' # relative path"
   ]
  },
  {
   "cell_type": "code",
   "execution_count": 28,
   "metadata": {},
   "outputs": [
    {
     "name": "stdout",
     "output_type": "stream",
     "text": [
      "Sequential(\n",
      "  (0): Linear(in_features=4, out_features=512, bias=True)\n",
      "  (1): ReLU()\n",
      "  (2): Linear(in_features=512, out_features=512, bias=True)\n",
      "  (3): ReLU()\n",
      "  (4): Linear(in_features=512, out_features=256, bias=True)\n",
      "  (5): ReLU()\n",
      "  (6): Linear(in_features=256, out_features=256, bias=True)\n",
      "  (7): ReLU()\n",
      "  (8): Linear(in_features=256, out_features=128, bias=True)\n",
      "  (9): ReLU()\n",
      "  (10): Linear(in_features=128, out_features=64, bias=True)\n",
      "  (11): ReLU()\n",
      "  (12): Linear(in_features=64, out_features=64, bias=True)\n",
      "  (13): ReLU()\n",
      "  (14): Linear(in_features=64, out_features=32, bias=True)\n",
      "  (15): ReLU()\n",
      "  (16): Linear(in_features=32, out_features=16, bias=True)\n",
      "  (17): ReLU()\n",
      "  (18): Linear(in_features=16, out_features=16, bias=True)\n",
      ")\n"
     ]
    },
    {
     "name": "stderr",
     "output_type": "stream",
     "text": [
      "D:\\Anaconda\\lib\\site-packages\\torch\\serialization.py:657: SourceChangeWarning: source code of class 'torch.nn.modules.linear.Linear' has changed. you can retrieve the original source code by accessing the object's source attribute or set `torch.nn.Module.dump_patches = True` and use the patch tool to revert the changes.\n",
      "  warnings.warn(msg, SourceChangeWarning)\n",
      "D:\\Anaconda\\lib\\site-packages\\torch\\serialization.py:657: SourceChangeWarning: source code of class 'torch.nn.modules.activation.ReLU' has changed. you can retrieve the original source code by accessing the object's source attribute or set `torch.nn.Module.dump_patches = True` and use the patch tool to revert the changes.\n",
      "  warnings.warn(msg, SourceChangeWarning)\n"
     ]
    }
   ],
   "source": [
    "# map_location=torch.device('cpu')\n",
    "checkpoint = torch.load(path,  map_location=lambda storage, loc: storage)\n",
    "model_structure = print(checkpoint['model'])\n",
    "\n",
    "# checkpoint = torch.load(path1,  map_location=lambda storage, loc: storage)\n",
    "# model_structure = print(checkpoint['model'])"
   ]
  },
  {
   "cell_type": "code",
   "execution_count": 29,
   "metadata": {},
   "outputs": [],
   "source": [
    "# another way to define a network\n",
    "net = torch.nn.Sequential(\n",
    "        torch.nn.Linear(4, 512),\n",
    "        torch.nn.ReLU(),\n",
    "        torch.nn.Linear(512, 512),\n",
    "        torch.nn.ReLU(),\n",
    "        torch.nn.Linear(512, 256),\n",
    "        torch.nn.ReLU(),\n",
    "        torch.nn.Linear(256, 256),\n",
    "        torch.nn.ReLU(),\n",
    "        torch.nn.Linear(256, 128),\n",
    "        torch.nn.ReLU(),\n",
    "        torch.nn.Linear(128, 64),\n",
    "        torch.nn.ReLU(),\n",
    "        torch.nn.Linear(64, 64),\n",
    "        torch.nn.ReLU(),\n",
    "        torch.nn.Linear(64, 32),\n",
    "        torch.nn.ReLU(),\n",
    "        torch.nn.Linear(32, 16),\n",
    "        torch.nn.ReLU(),\n",
    "        torch.nn.Linear(16, 16),\n",
    "    )"
   ]
  },
  {
   "cell_type": "code",
   "execution_count": 30,
   "metadata": {},
   "outputs": [
    {
     "name": "stdout",
     "output_type": "stream",
     "text": [
      "----------------------------------------------------------------\n",
      "        Layer (type)               Output Shape         Param #\n",
      "================================================================\n",
      "            Linear-1               [-1, 2, 512]           2,560\n",
      "              ReLU-2               [-1, 2, 512]               0\n",
      "            Linear-3               [-1, 2, 512]         262,656\n",
      "              ReLU-4               [-1, 2, 512]               0\n",
      "            Linear-5               [-1, 2, 256]         131,328\n",
      "              ReLU-6               [-1, 2, 256]               0\n",
      "            Linear-7               [-1, 2, 256]          65,792\n",
      "              ReLU-8               [-1, 2, 256]               0\n",
      "            Linear-9               [-1, 2, 128]          32,896\n",
      "             ReLU-10               [-1, 2, 128]               0\n",
      "           Linear-11                [-1, 2, 64]           8,256\n",
      "             ReLU-12                [-1, 2, 64]               0\n",
      "           Linear-13                [-1, 2, 64]           4,160\n",
      "             ReLU-14                [-1, 2, 64]               0\n",
      "           Linear-15                [-1, 2, 32]           2,080\n",
      "             ReLU-16                [-1, 2, 32]               0\n",
      "           Linear-17                [-1, 2, 16]             528\n",
      "             ReLU-18                [-1, 2, 16]               0\n",
      "           Linear-19                [-1, 2, 16]             272\n",
      "================================================================\n",
      "Total params: 510,528\n",
      "Trainable params: 510,528\n",
      "Non-trainable params: 0\n",
      "----------------------------------------------------------------\n",
      "Input size (MB): 0.00\n",
      "Forward/backward pass size (MB): 0.06\n",
      "Params size (MB): 1.95\n",
      "Estimated Total Size (MB): 2.00\n",
      "----------------------------------------------------------------\n"
     ]
    }
   ],
   "source": [
    "model = net\n",
    "model.load_state_dict(checkpoint['state_dict'])\n",
    "model.eval()\n",
    "summary(model, (2,4)) # 2 Dimensionen und 4 Inputs"
   ]
  },
  {
   "cell_type": "markdown",
   "metadata": {},
   "source": [
    "## Import and normalize test-data"
   ]
  },
  {
   "cell_type": "code",
   "execution_count": 31,
   "metadata": {},
   "outputs": [],
   "source": [
    "data_raw= pd.read_csv('C:/Users/david.wagner/Desktop/Biomasse-Institut/Machine_Learning_Corr/gasflowdata_mitA_16dim.csv')\n",
    "# data_raw= pd.read_csv('gasflowdata_mitA_16dim.csv')"
   ]
  },
  {
   "cell_type": "code",
   "execution_count": 32,
   "metadata": {},
   "outputs": [],
   "source": [
    "gas = data_raw\n",
    "for ii in range(16):\n",
    "    gas = gas.drop(['time_'+str(ii+1)], axis=1)\n",
    "#     print(ii)\n",
    "    \n",
    "# gas.head()"
   ]
  },
  {
   "cell_type": "code",
   "execution_count": 33,
   "metadata": {},
   "outputs": [
    {
     "data": {
      "text/plain": [
       "<torch._C.Generator at 0x21c49791770>"
      ]
     },
     "execution_count": 33,
     "metadata": {},
     "output_type": "execute_result"
    }
   ],
   "source": [
    "torch.manual_seed(0)  "
   ]
  },
  {
   "cell_type": "code",
   "execution_count": 34,
   "metadata": {},
   "outputs": [],
   "source": [
    "# normalisieren\n",
    "\n",
    "max_field_dil = []\n",
    "\n",
    "for field in ['dilution']:\n",
    "# for field in ['dilution', 'Gasflow_end']:\n",
    "    max_field_dil = gas[field].max()\n",
    "    gas.loc[:,field] = (gas[field])/max_field_dil"
   ]
  },
  {
   "cell_type": "code",
   "execution_count": 35,
   "metadata": {},
   "outputs": [],
   "source": [
    "# gas.head()"
   ]
  },
  {
   "cell_type": "code",
   "execution_count": 36,
   "metadata": {},
   "outputs": [],
   "source": [
    "gasflow_list = []\n",
    "for ii in range(16):\n",
    "    gasflow_list.append('Gasflow_' + str(ii+1))\n",
    "\n",
    "# print(gasflow_list)"
   ]
  },
  {
   "cell_type": "code",
   "execution_count": 37,
   "metadata": {},
   "outputs": [],
   "source": [
    "for field in [gasflow_list]:\n",
    "# for field in ['dilution', 'Gasflow_end']:\n",
    "    max_field = gas[field].max()\n",
    "    gas.loc[:,field] = (gas[field])/max_field\n",
    "\n",
    "# gas.head()"
   ]
  },
  {
   "cell_type": "code",
   "execution_count": 38,
   "metadata": {},
   "outputs": [],
   "source": [
    "# print(max_field, max_field_dil)"
   ]
  },
  {
   "cell_type": "code",
   "execution_count": 39,
   "metadata": {},
   "outputs": [],
   "source": [
    "sample = np.random.choice(gas.index, size=int(len(gas)*0.9), replace=False)\n",
    "data_raw_1, test_data_1 = gas.loc[sample], gas.drop(sample)\n",
    "\n",
    "# # split into features and targets\n",
    "columns = gasflow_list\n",
    "\n",
    "features, targets = data_raw_1.drop(columns, axis=1), data_raw_1[columns]\n",
    "features_test, targets_test = test_data_1.drop(columns, axis=1), test_data_1[columns]"
   ]
  },
  {
   "cell_type": "code",
   "execution_count": 40,
   "metadata": {},
   "outputs": [],
   "source": [
    "# features_test.head()"
   ]
  },
  {
   "cell_type": "code",
   "execution_count": 41,
   "metadata": {},
   "outputs": [],
   "source": [
    "# targets_test.head()"
   ]
  },
  {
   "cell_type": "code",
   "execution_count": 42,
   "metadata": {},
   "outputs": [],
   "source": [
    "# x_data = torch.tensor(features.values, dtype=torch.float)\n",
    "# y_data = torch.tensor(targets.values, dtype=torch.float)\n",
    "\n",
    "# x_test = torch.tensor(features_test.values, dtype=torch.float)\n",
    "# y_test = torch.tensor(targets_test.values, dtype=torch.float)\n",
    "\n",
    "x_data = checkpoint['x_data']\n",
    "y_data = checkpoint['y_data']\n",
    "x_test = checkpoint['x_test']\n",
    "y_test = checkpoint['y_test']"
   ]
  },
  {
   "cell_type": "markdown",
   "metadata": {},
   "source": [
    "## Test loaded net"
   ]
  },
  {
   "cell_type": "code",
   "execution_count": 43,
   "metadata": {},
   "outputs": [],
   "source": [
    "def my_loss(output, target):\n",
    "    loss = ((output - target)**2).sum()\n",
    "    return loss"
   ]
  },
  {
   "cell_type": "code",
   "execution_count": 44,
   "metadata": {},
   "outputs": [
    {
     "data": {
      "text/plain": [
       "tensor([0.8147, 0.0791, 0.1062, 0.1338])"
      ]
     },
     "execution_count": 44,
     "metadata": {},
     "output_type": "execute_result"
    }
   ],
   "source": [
    "x_test[0]"
   ]
  },
  {
   "cell_type": "code",
   "execution_count": 45,
   "metadata": {},
   "outputs": [
    {
     "data": {
      "text/plain": [
       "tensor([6.4523e-01, 6.8614e-05, 9.6559e-06, 7.8648e-06, 7.5854e-06, 7.5538e-06,\n",
       "        7.5499e-06, 7.5493e-06, 7.5492e-06, 7.5492e-06, 7.5492e-06, 7.5492e-06,\n",
       "        7.5492e-06, 7.5492e-06, 7.5492e-06, 7.5492e-06])"
      ]
     },
     "execution_count": 45,
     "metadata": {},
     "output_type": "execute_result"
    }
   ],
   "source": [
    "y_test[0]"
   ]
  },
  {
   "cell_type": "code",
   "execution_count": 46,
   "metadata": {},
   "outputs": [
    {
     "name": "stdout",
     "output_type": "stream",
     "text": [
      "tensor([ 6.4617e-01, -4.7266e-05,  1.5363e-05,  2.0117e-05,  2.0280e-05,\n",
      "         1.9491e-05,  1.8433e-05,  1.8865e-05,  1.8224e-05,  1.7911e-05,\n",
      "         1.6913e-05,  1.9178e-05,  1.8597e-05,  1.8895e-05,  1.8209e-05,\n",
      "         1.7241e-05], grad_fn=<SelectBackward>)\n",
      "tensor([6.4523e-01, 6.8614e-05, 9.6559e-06, 7.8648e-06, 7.5854e-06, 7.5538e-06,\n",
      "        7.5499e-06, 7.5493e-06, 7.5492e-06, 7.5492e-06, 7.5492e-06, 7.5492e-06,\n",
      "        7.5492e-06, 7.5492e-06, 7.5492e-06, 7.5492e-06])\n"
     ]
    }
   ],
   "source": [
    "prediction_test = net(x_test)\n",
    "print(prediction_test[0])\n",
    "print(y_test[0])"
   ]
  },
  {
   "cell_type": "code",
   "execution_count": 47,
   "metadata": {},
   "outputs": [
    {
     "data": {
      "text/plain": [
       "tensor(8.9905e-07, grad_fn=<SumBackward0>)"
      ]
     },
     "execution_count": 47,
     "metadata": {},
     "output_type": "execute_result"
    }
   ],
   "source": [
    "my_loss(prediction_test[0], y_test[0])"
   ]
  },
  {
   "cell_type": "code",
   "execution_count": 48,
   "metadata": {},
   "outputs": [],
   "source": [
    "# features_test.head()"
   ]
  },
  {
   "cell_type": "code",
   "execution_count": 49,
   "metadata": {},
   "outputs": [],
   "source": [
    "# targets_test.head()"
   ]
  },
  {
   "cell_type": "code",
   "execution_count": 50,
   "metadata": {},
   "outputs": [],
   "source": [
    "features_test_tensor = torch.tensor(features_test.values, dtype=torch.float)\n",
    "# print(features_test_tensor)"
   ]
  },
  {
   "cell_type": "code",
   "execution_count": 53,
   "metadata": {},
   "outputs": [],
   "source": [
    "# pred_sample = net(features_test_tensor)\n",
    "pred = net(x_test)\n",
    "# pred_sample = pred_sample.detach().numpy()\n",
    "# print(pred_sample)\n",
    "# targets_test_tensor = torch.tensor(targets_test.values, dtype=torch.float)\n",
    "# targets_test_tensor = torch.tensor(targets_test.values, dtype=torch.float)\n",
    "# print(targets_test_tensor[0])"
   ]
  },
  {
   "cell_type": "code",
   "execution_count": 54,
   "metadata": {},
   "outputs": [
    {
     "data": {
      "text/plain": [
       "tensor(85.5266, grad_fn=<SumBackward0>)"
      ]
     },
     "execution_count": 54,
     "metadata": {},
     "output_type": "execute_result"
    }
   ],
   "source": [
    "my_loss(pred, y_test)"
   ]
  },
  {
   "cell_type": "code",
   "execution_count": 55,
   "metadata": {},
   "outputs": [],
   "source": [
    "# print(x_test)"
   ]
  },
  {
   "cell_type": "code",
   "execution_count": 56,
   "metadata": {},
   "outputs": [],
   "source": [
    "# features_np = np.array(features_test)"
   ]
  },
  {
   "cell_type": "markdown",
   "metadata": {},
   "source": [
    "## Find optimal dilution at specific substrate values"
   ]
  },
  {
   "cell_type": "code",
   "execution_count": 57,
   "metadata": {},
   "outputs": [],
   "source": [
    "# model_ADM = 'C:\\Users\\david.wagner\\Desktop\\Biomasse-Institut\\Machine_Learning_Corr\\Netze_Regressionen_ASIM\\ADM_model\\ADM_Sim.m'"
   ]
  },
  {
   "cell_type": "code",
   "execution_count": 58,
   "metadata": {},
   "outputs": [],
   "source": [
    "# carbo = features_np[0, 0]\n",
    "# protein = features_np[0, 1]\n",
    "# inert_x = 0.0\n",
    "# inert_s = 0.0\n",
    "# fat = features_np[0, 2]\n",
    "\n",
    "# dilution = features_np[0, 3] * max_field_dil\n",
    "# sub = [carbo, protein, fat, dilution]\n",
    "# time_end = 60.0\n",
    "\n",
    "carbo = 0.8147\n",
    "protein = 0.0791\n",
    "inert_x = 0.0\n",
    "inert_s = 0.0\n",
    "fat = 0.1062\n",
    "\n",
    "dilution = 0.1338\n",
    "sub = [carbo, protein, fat, dilution]\n",
    "time_end = 60.0"
   ]
  },
  {
   "cell_type": "code",
   "execution_count": 59,
   "metadata": {},
   "outputs": [],
   "source": [
    "# print(sub)"
   ]
  },
  {
   "cell_type": "code",
   "execution_count": 60,
   "metadata": {},
   "outputs": [],
   "source": [
    "t_full = np.linspace(0,300,100)\n",
    "t_red_1 = t_full[1:49:5]\n",
    "t_red_2 = t_full[49:100:10]\n",
    "# print(t_red_1, t_red_2)\n",
    "\n",
    "t_red = np.concatenate((t_red_1, t_red_2), axis=0)\n",
    "# print(t_red)"
   ]
  },
  {
   "cell_type": "code",
   "execution_count": 61,
   "metadata": {},
   "outputs": [],
   "source": [
    "gg_test = eng.ADM_Sim_ML_remote(carbo, protein, fat, dilution)"
   ]
  },
  {
   "cell_type": "code",
   "execution_count": 62,
   "metadata": {},
   "outputs": [],
   "source": [
    "gg_np = np.array(gg_test)\n",
    "gg_np_red_1 = np.array(gg_test[1:49:5])\n",
    "gg_np_red_2 = np.array(gg_test[49:len(t_full):10])\n",
    "\n",
    "gg_np_red = np.concatenate((gg_np_red_1 ,gg_np_red_2), axis=0)"
   ]
  },
  {
   "cell_type": "code",
   "execution_count": 63,
   "metadata": {},
   "outputs": [],
   "source": [
    "# print(gg_np, gg_np_red)"
   ]
  },
  {
   "cell_type": "code",
   "execution_count": 64,
   "metadata": {},
   "outputs": [
    {
     "data": {
      "text/plain": [
       "(100, 2)"
      ]
     },
     "execution_count": 64,
     "metadata": {},
     "output_type": "execute_result"
    }
   ],
   "source": [
    "gg_np.shape"
   ]
  },
  {
   "cell_type": "code",
   "execution_count": 65,
   "metadata": {},
   "outputs": [],
   "source": [
    "# print(max_field)"
   ]
  },
  {
   "cell_type": "code",
   "execution_count": 66,
   "metadata": {},
   "outputs": [],
   "source": [
    "norm_gg = gg_np_red[:,0]\n",
    "gg_norm = []\n",
    "dil_norm = []\n",
    "\n",
    "gg_norm.append(norm_gg[:]/max_field.values) \n",
    "# print(gg_norm)"
   ]
  },
  {
   "cell_type": "code",
   "execution_count": 67,
   "metadata": {},
   "outputs": [],
   "source": [
    "fig, ax = plt.subplots()\n",
    "ax.plot(gg_np_red[:,1], np.reshape(norm_gg, (16,1)), 'b.')\n",
    "ax.plot(gg_np[:,1], np.reshape(gg_np[:,0], (100,1)), 'r-.')\n",
    "ax.set_xlabel('Time [d]')\n",
    "ax.set_ylabel('Concentration [m³/d]')\n",
    "plt.show()"
   ]
  },
  {
   "cell_type": "code",
   "execution_count": 68,
   "metadata": {},
   "outputs": [],
   "source": [
    "setpoint = 1500 # m³/d\n",
    "set_ch4_DNN = setpoint/max_field[-1]"
   ]
  },
  {
   "cell_type": "code",
   "execution_count": 69,
   "metadata": {},
   "outputs": [
    {
     "name": "stdout",
     "output_type": "stream",
     "text": [
      "0.5835784854217567\n"
     ]
    }
   ],
   "source": [
    "print(set_ch4_DNN)"
   ]
  },
  {
   "cell_type": "code",
   "execution_count": 70,
   "metadata": {},
   "outputs": [
    {
     "name": "stdout",
     "output_type": "stream",
     "text": [
      "[0.8147, 0.0791, 0.1062, 0.1338]\n"
     ]
    }
   ],
   "source": [
    "print(sub)"
   ]
  },
  {
   "cell_type": "code",
   "execution_count": 71,
   "metadata": {},
   "outputs": [],
   "source": [
    "DNN_test = torch.tensor(sub, dtype=torch.float)"
   ]
  },
  {
   "cell_type": "code",
   "execution_count": 72,
   "metadata": {},
   "outputs": [
    {
     "name": "stdout",
     "output_type": "stream",
     "text": [
      "2570.34835497052 1500\n"
     ]
    }
   ],
   "source": [
    "max_f = max_field[-1]\n",
    "target_ch4 = setpoint\n",
    "sub = [0.8147, 0.0791, 0.1062, 0]\n",
    "\n",
    "print(max_f, target_ch4)"
   ]
  },
  {
   "cell_type": "code",
   "execution_count": 73,
   "metadata": {},
   "outputs": [
    {
     "name": "stdout",
     "output_type": "stream",
     "text": [
      "Warning: Desired error not necessarily achieved due to precision loss.\n",
      "         Current function value: 0.000000\n",
      "         Iterations: 3\n",
      "         Function evaluations: 62\n",
      "         Gradient evaluations: 25\n",
      "Warning: Desired error not necessarily achieved due to precision loss.\n",
      "         Current function value: 0.000000\n",
      "         Iterations: 6\n",
      "         Function evaluations: 60\n",
      "         Gradient evaluations: 24\n",
      "Warning: Desired error not necessarily achieved due to precision loss.\n",
      "         Current function value: 0.000000\n",
      "         Iterations: 8\n",
      "         Function evaluations: 99\n",
      "         Gradient evaluations: 43\n",
      "Warning: Desired error not necessarily achieved due to precision loss.\n",
      "         Current function value: 0.000000\n",
      "         Iterations: 4\n",
      "         Function evaluations: 62\n",
      "         Gradient evaluations: 25\n",
      "Optimization terminated successfully.\n",
      "         Current function value: 244676.268411\n",
      "         Iterations: 1\n",
      "         Function evaluations: 6\n",
      "         Gradient evaluations: 3\n",
      "Optimization terminated successfully.\n",
      "         Current function value: 3626.769905\n",
      "         Iterations: 1\n",
      "         Function evaluations: 6\n",
      "         Gradient evaluations: 3\n",
      "Optimization terminated successfully.\n",
      "         Current function value: 820703.594111\n",
      "         Iterations: 1\n",
      "         Function evaluations: 4\n",
      "         Gradient evaluations: 2\n",
      "Optimization terminated successfully.\n",
      "         Current function value: 2248615.510659\n",
      "         Iterations: 0\n",
      "         Function evaluations: 2\n",
      "         Gradient evaluations: 1\n",
      "Optimization terminated successfully.\n",
      "         Current function value: 2249356.471375\n",
      "         Iterations: 0\n",
      "         Function evaluations: 2\n",
      "         Gradient evaluations: 1\n",
      "Optimization terminated successfully.\n",
      "         Current function value: 2249390.248307\n",
      "         Iterations: 1\n",
      "         Function evaluations: 18\n",
      "         Gradient evaluations: 9\n",
      "Optimization terminated successfully.\n",
      "         Current function value: 2249938.067426\n",
      "         Iterations: 0\n",
      "         Function evaluations: 2\n",
      "         Gradient evaluations: 1\n",
      "Optimization terminated successfully.\n",
      "         Current function value: 2249898.081727\n",
      "         Iterations: 1\n",
      "         Function evaluations: 12\n",
      "         Gradient evaluations: 6\n",
      "Optimization terminated successfully.\n",
      "         Current function value: 2249922.210986\n",
      "         Iterations: 0\n",
      "         Function evaluations: 2\n",
      "         Gradient evaluations: 1\n",
      "Optimization terminated successfully.\n",
      "         Current function value: 2249878.433712\n",
      "         Iterations: 0\n",
      "         Function evaluations: 2\n",
      "         Gradient evaluations: 1\n",
      "Optimization terminated successfully.\n",
      "         Current function value: 2249845.227613\n",
      "         Iterations: 0\n",
      "         Function evaluations: 2\n",
      "         Gradient evaluations: 1\n",
      "Optimization terminated successfully.\n",
      "         Current function value: 2249918.878842\n",
      "         Iterations: 1\n",
      "         Function evaluations: 30\n",
      "         Gradient evaluations: 15\n",
      "Optimization terminated successfully.\n",
      "         Current function value: 2249860.049682\n",
      "         Iterations: 0\n",
      "         Function evaluations: 2\n",
      "         Gradient evaluations: 1\n",
      "Optimization terminated successfully.\n",
      "         Current function value: 380.572761\n",
      "         Iterations: 2\n",
      "         Function evaluations: 30\n",
      "         Gradient evaluations: 15\n",
      "Optimization terminated successfully.\n",
      "         Current function value: 2249805.242739\n",
      "         Iterations: 1\n",
      "         Function evaluations: 10\n",
      "         Gradient evaluations: 5\n",
      "Optimization terminated successfully.\n",
      "         Current function value: 2249846.606408\n",
      "         Iterations: 0\n",
      "         Function evaluations: 2\n",
      "         Gradient evaluations: 1\n",
      "Systemzeit: 0.533s\n",
      "[[0.027633274695476648, 1.2447565119598914e-07], [0.027633273955964693, 1.2447565119598914e-07], [0.027633280758680562, 2.153114876387699e-09], [0.027633274988134053, 1.2447565119598914e-07], [-0.28943830326794423, 244676.26841131496], [-0.4944406538563589, 3626.7699048687286], [-0.95, 820703.5941109231], [0.07, 2248615.5106588984], [0.08, 2249356.471374682], [0.09017995472707549, 2249390.24830664], [0.1, 2249938.067425952], [0.14481484374511683, 2249898.081727069], [0.12, 2249922.2109856056], [0.13, 2249878.4337121216], [0.14, 2249845.227612873], [0.19099373672531683, 2249918.878842203], [0.16, 2249860.049682259], [-0.5320884019027972, 380.57276051523655], [0.1894314601936745, 2249805.242738973], [0.19, 2249846.606407966]]\n"
     ]
    }
   ],
   "source": [
    "def ch4_ADM_DNN(Dil_test, max_f, target_ch4, sub):\n",
    "    \"\"\"ADM DNN Difference\"\"\"\n",
    "#     print(Dil_test)\n",
    "    dil = float(Dil_test)\n",
    "    sub[3] = dil\n",
    "    DNN_test = torch.tensor(sub, dtype=torch.float)\n",
    "    \n",
    "    pred_sample_opt = net(DNN_test)\n",
    "    pred_sample_opt = pred_sample_opt.detach().numpy()\n",
    "    return (target_ch4 - (pred_sample_opt[-1] * max_f))**2\n",
    "\n",
    "\n",
    "result_list = []\n",
    "target_list = []\n",
    "\n",
    "bounds = Bounds([0], [0.2])\n",
    "\n",
    "start_proc = []\n",
    "ende_proc = []\n",
    "\n",
    "start_time = time.time()\n",
    "sub = [0.8147, 0.0791, 0.1062, 0]\n",
    "\n",
    "for iv in range(20):\n",
    "    x0 = np.array([iv/100])\n",
    "    res = minimize(ch4_ADM_DNN, x0, args=(max_f, target_ch4, sub), method='BFGS', options={'disp': True})\n",
    "    result_list.append([float(res.x), res.fun])\n",
    "\n",
    "end_time = time.time()\n",
    "print('Systemzeit: {:5.3f}s'.format(end_time - start_time))\n",
    "print(result_list)"
   ]
  },
  {
   "cell_type": "code",
   "execution_count": 74,
   "metadata": {},
   "outputs": [
    {
     "name": "stdout",
     "output_type": "stream",
     "text": [
      "[[ 2.76332747e-02  1.24475651e-07]\n",
      " [ 2.76332740e-02  1.24475651e-07]\n",
      " [ 2.76332808e-02  2.15311488e-09]\n",
      " [ 2.76332750e-02  1.24475651e-07]\n",
      " [-2.89438303e-01  2.44676268e+05]\n",
      " [-4.94440654e-01  3.62676990e+03]\n",
      " [-9.50000000e-01  8.20703594e+05]\n",
      " [ 7.00000000e-02  2.24861551e+06]\n",
      " [ 8.00000000e-02  2.24935647e+06]\n",
      " [ 9.01799547e-02  2.24939025e+06]\n",
      " [ 1.00000000e-01  2.24993807e+06]\n",
      " [ 1.44814844e-01  2.24989808e+06]\n",
      " [ 1.20000000e-01  2.24992221e+06]\n",
      " [ 1.30000000e-01  2.24987843e+06]\n",
      " [ 1.40000000e-01  2.24984523e+06]\n",
      " [ 1.90993737e-01  2.24991888e+06]\n",
      " [ 1.60000000e-01  2.24986005e+06]\n",
      " [-5.32088402e-01  3.80572761e+02]\n",
      " [ 1.89431460e-01  2.24980524e+06]\n",
      " [ 1.90000000e-01  2.24984661e+06]]\n",
      "(array([2], dtype=int64), array([1], dtype=int64))\n",
      "2\n",
      "[2.76332808e-02 2.15311488e-09]\n"
     ]
    }
   ],
   "source": [
    "results_min = np.array(result_list)\n",
    "print(results_min)\n",
    "\n",
    "np.min(results_min)\n",
    "result = numpy.where(results_min == numpy.amin(results_min[:,1]))\n",
    "print(result)\n",
    "\n",
    "listOfCordinates = list(zip(result[0], result[1]))\n",
    "print(listOfCordinates[0][0])\n",
    "\n",
    "dil_fun = results_min[listOfCordinates[0][0]]\n",
    "print(dil_fun)"
   ]
  },
  {
   "cell_type": "code",
   "execution_count": 75,
   "metadata": {},
   "outputs": [
    {
     "name": "stdout",
     "output_type": "stream",
     "text": [
      "[[1705.35487687    0.        ]\n",
      " [ 523.27119622    3.03030303]\n",
      " [1213.38521457    6.06060606]\n",
      " [2225.75531715    9.09090909]\n",
      " [1753.31161673   12.12121212]\n",
      " [1470.87173611   15.15151515]\n",
      " [1476.58041502   18.18181818]\n",
      " [1480.72421348   21.21212121]\n",
      " [1483.64551649   24.24242424]\n",
      " [1485.96974642   27.27272727]\n",
      " [1487.93751985   30.3030303 ]\n",
      " [1489.64657536   33.33333333]\n",
      " [1491.14441738   36.36363636]\n",
      " [1492.46048985   39.39393939]\n",
      " [1493.61708946   42.42424242]\n",
      " [1494.63300943   45.45454545]\n",
      " [1495.52476831   48.48484848]\n",
      " [1496.30705911   51.51515152]\n",
      " [1496.99296304   54.54545455]\n",
      " [1497.59410131   57.57575758]\n",
      " [1498.12076904   60.60606061]\n",
      " [1498.58206456   63.63636364]\n",
      " [1498.9860115    66.66666667]\n",
      " [1499.33967461   69.6969697 ]\n",
      " [1499.64926669   72.72727273]\n",
      " [1499.92024523   75.75757576]\n",
      " [1500.15740215   78.78787879]\n",
      " [1500.36493986   81.81818182]\n",
      " [1500.54654392   84.84848485]\n",
      " [1500.70544503   87.87878788]\n",
      " [1500.84447436   90.90909091]\n",
      " [1500.96611027   93.93939394]\n",
      " [1501.07252491   96.96969697]\n",
      " [1501.16561949  100.        ]\n",
      " [1501.24705885  103.03030303]\n",
      " [1501.31830011  106.06060606]\n",
      " [1501.38061866  109.09090909]\n",
      " [1501.43513092  112.12121212]\n",
      " [1501.48281374  115.15151515]\n",
      " [1501.524522    118.18181818]\n",
      " [1501.56100369  121.21212121]\n",
      " [1501.59291328  124.24242424]\n",
      " [1501.6208234   127.27272727]\n",
      " [1501.64523504  130.3030303 ]\n",
      " [1501.66658647  133.33333333]\n",
      " [1501.68526111  136.36363636]\n",
      " [1501.70159441  139.39393939]\n",
      " [1501.71587979  142.42424242]\n",
      " [1501.72837387  145.45454545]\n",
      " [1501.73930126  148.48484848]\n",
      " [1501.74885827  151.51515152]\n",
      " [1501.75721676  154.54545455]\n",
      " [1501.76452696  157.57575758]\n",
      " [1501.77092028  160.60606061]\n",
      " [1501.77651174  163.63636364]\n",
      " [1501.78140185  166.66666667]\n",
      " [1501.78567873  169.6969697 ]\n",
      " [1501.78941885  172.72727273]\n",
      " [1501.79268996  175.75757576]\n",
      " [1501.79555068  178.78787879]\n",
      " [1501.79805267  181.81818182]\n",
      " [1501.80024059  184.84848485]\n",
      " [1501.80215395  187.87878788]\n",
      " [1501.80382746  190.90909091]\n",
      " [1501.80529098  193.93939394]\n",
      " [1501.80657083  196.96969697]\n",
      " [1501.80769013  200.        ]\n",
      " [1501.80866898  203.03030303]\n",
      " [1501.80952505  206.06060606]\n",
      " [1501.81027361  209.09090909]\n",
      " [1501.81092848  212.12121212]\n",
      " [1501.81150085  215.15151515]\n",
      " [1501.81200165  218.18181818]\n",
      " [1501.81243946  221.21212121]\n",
      " [1501.81282241  224.24242424]\n",
      " [1501.81315732  227.27272727]\n",
      " [1501.81345016  230.3030303 ]\n",
      " [1501.81370629  233.33333333]\n",
      " [1501.81393027  236.36363636]\n",
      " [1501.81412614  239.39393939]\n",
      " [1501.81429742  242.42424242]\n",
      " [1501.81444721  245.45454545]\n",
      " [1501.81457826  248.48484848]\n",
      " [1501.81469277  251.51515152]\n",
      " [1501.81479299  254.54545455]\n",
      " [1501.81488056  257.57575758]\n",
      " [1501.81495713  260.60606061]\n",
      " [1501.81502422  263.63636364]\n",
      " [1501.81508276  266.66666667]\n",
      " [1501.81513406  269.6969697 ]\n",
      " [1501.81517882  272.72727273]\n",
      " [1501.81521802  275.75757576]\n",
      " [1501.81525229  278.78787879]\n",
      " [1501.81528225  281.81818182]\n",
      " [1501.81530847  284.84848485]\n",
      " [1501.81533138  287.87878788]\n",
      " [1501.81535139  290.90909091]\n",
      " [1501.81536899  293.93939394]\n",
      " [1501.81538425  296.96969697]\n",
      " [1501.81539769  300.        ]]\n"
     ]
    }
   ],
   "source": [
    "gg_opt_dil_endpoint = eng.ADM_Sim_ML_remote(float(sub[0]), float(sub[1]), float(sub[2]), float(dil_fun[0]))\n",
    "gg_ADM_np_endpoint = np.array(gg_opt_dil_endpoint)\n",
    "print(gg_ADM_np_endpoint)"
   ]
  },
  {
   "cell_type": "code",
   "execution_count": 76,
   "metadata": {},
   "outputs": [
    {
     "name": "stdout",
     "output_type": "stream",
     "text": [
      "[ 515.7944 1338.411  1344.5698 1495.1083 1497.1091 1498.3658 1499.1113\n",
      " 1499.4316 1499.6815 1499.823  1499.9464 1499.791  1499.8733 1499.8513\n",
      " 1499.9117 1500.    ]\n"
     ]
    }
   ],
   "source": [
    "sub[3] = dil_fun[0]\n",
    "\n",
    "DNN_endpoint = torch.tensor(sub, dtype=torch.float)\n",
    "pred_sample_endpoint = net(DNN_endpoint)\n",
    "pred_sample_endpoint = pred_sample_endpoint.detach().numpy()\n",
    "pred_sample_endpoint = (pred_sample_endpoint * max_f)\n",
    "\n",
    "print(pred_sample_endpoint)"
   ]
  },
  {
   "cell_type": "code",
   "execution_count": 77,
   "metadata": {},
   "outputs": [
    {
     "name": "stdout",
     "output_type": "stream",
     "text": [
      "Warning: Desired error not necessarily achieved due to precision loss.\n",
      "         Current function value: 0.000000\n",
      "         Iterations: 4\n",
      "         Function evaluations: 109\n",
      "         Gradient evaluations: 49\n",
      "Systemzeit: 193.465s\n",
      "[[0.02759341084204177, 7.434404147794414e-09]]\n"
     ]
    }
   ],
   "source": [
    "# Definition der Referenztrajektorie\n",
    "def ch4_ADM(Dil, max_f, target_ch4, sub):\n",
    "    \"\"\"ADM DNN Difference\"\"\"\n",
    "#     print(Dil_test)\n",
    "    dil = float(Dil)\n",
    "    sub[3] = dil\n",
    "    gg_opt_test = eng.ADM_Sim_ML_remote(float(sub[0]), float(sub[1]), float(sub[2]), float(Dil))\n",
    "    return (target_ch4 - np.array(gg_opt_test[-1][0]))**2\n",
    "\n",
    "\n",
    "result_list_ADM = []\n",
    "target_list_ADM = []\n",
    "bounds = Bounds([0], [0.2])\n",
    "start_proc_1 = []\n",
    "ende_proc_1 = []\n",
    "\n",
    "start_time_1  = time.time()\n",
    "\n",
    "x1_1 = np.array([0.02])\n",
    "res1 = minimize(ch4_ADM, x1_1, args=(max_f, target_ch4, sub), method='BFGS', options={'disp': True})\n",
    "result_list_ADM.append([float(res1.x), res1.fun])\n",
    "\n",
    "# for iv in range(5):\n",
    "#     x1_1 = np.array([iv/100])\n",
    "#     res1 = minimize(ch4_ADM, x1_1, args=(max_f, target_ch4, sub), method='BFGS', options={'disp': True})\n",
    "#     result_list_ADM.append([float(res1.x), res1.fun])\n",
    "\n",
    "end_time_1  = time.time()\n",
    "print('Systemzeit: {:5.3f}s'.format(end_time_1 - start_time_1))\n",
    "print(result_list_ADM)"
   ]
  },
  {
   "cell_type": "code",
   "execution_count": 78,
   "metadata": {},
   "outputs": [
    {
     "name": "stdout",
     "output_type": "stream",
     "text": [
      "[[2.75934108e-02 7.43440415e-09]]\n",
      "(array([0], dtype=int64), array([1], dtype=int64))\n",
      "0\n",
      "[2.75934108e-02 7.43440415e-09]\n"
     ]
    }
   ],
   "source": [
    "results_min_ADM = np.array(result_list_ADM)\n",
    "print(results_min_ADM)\n",
    "\n",
    "np.min(results_min_ADM)\n",
    "result = numpy.where(results_min_ADM == numpy.amin(results_min_ADM[:,1]))\n",
    "print(result)\n",
    "\n",
    "listOfCordinates = list(zip(result[0], result[1]))\n",
    "print(listOfCordinates[0][0])\n",
    "\n",
    "dil_fun_ADM = results_min_ADM[listOfCordinates[0][0]]\n",
    "print(dil_fun_ADM)"
   ]
  },
  {
   "cell_type": "code",
   "execution_count": 79,
   "metadata": {},
   "outputs": [],
   "source": [
    "gg_opt_dil = eng.ADM_Sim_ML_remote(float(sub[0]), float(sub[1]), float(sub[2]), float(dil_fun_ADM[0]))"
   ]
  },
  {
   "cell_type": "code",
   "execution_count": 80,
   "metadata": {},
   "outputs": [],
   "source": [
    "gg_ADM_np = np.array(gg_opt_dil)\n",
    "set_repd = np.matlib.repmat(np.array(setpoint), gg_ADM_np.shape[0], 1)"
   ]
  },
  {
   "cell_type": "code",
   "execution_count": 81,
   "metadata": {},
   "outputs": [],
   "source": [
    "# print(set_repd)"
   ]
  },
  {
   "cell_type": "code",
   "execution_count": 82,
   "metadata": {},
   "outputs": [],
   "source": [
    "gg_opt_dil_discrete = eng.ADM_Sim_ML_remote_discrete(float(sub[0]), float(sub[1]), float(sub[2]), float(dil_fun_ADM[0]), float(t_red[0]))"
   ]
  },
  {
   "cell_type": "code",
   "execution_count": 83,
   "metadata": {},
   "outputs": [],
   "source": [
    "# print(gg_opt_dil_discrete)"
   ]
  },
  {
   "cell_type": "code",
   "execution_count": 84,
   "metadata": {},
   "outputs": [],
   "source": [
    "t_neu = np.linspace(0,t_red[0],100)"
   ]
  },
  {
   "cell_type": "code",
   "execution_count": 85,
   "metadata": {},
   "outputs": [],
   "source": [
    "fig, ax = plt.subplots()\n",
    "ax.plot(t_neu, np.reshape(np.array(gg_opt_dil_discrete)[:,0], (100,1)), 'b-.')\n",
    "ax.set_xlabel('Time [d]')\n",
    "ax.set_ylabel('Concentration [m³/d]')\n",
    "plt.show()"
   ]
  },
  {
   "cell_type": "code",
   "execution_count": 86,
   "metadata": {},
   "outputs": [],
   "source": [
    "fig, ax = plt.subplots()\n",
    "ax.plot(gg_ADM_np[:,1], np.reshape(gg_ADM_np[:,0], (100,1)), 'b-.')\n",
    "ax.plot(gg_ADM_np[:,1], np.reshape(set_repd, (100,1)), 'r-')\n",
    "ax.set_xlabel('Time [d]')\n",
    "ax.set_ylabel('Concentration [m³/d]')\n",
    "plt.show()"
   ]
  },
  {
   "cell_type": "code",
   "execution_count": 87,
   "metadata": {},
   "outputs": [],
   "source": [
    "sub = [0.8147, 0.0791, 0.1062, 0.02759341084204177]\n",
    "DNN_test = torch.tensor(sub, dtype=torch.float)\n",
    "pred_sample_opt = net(DNN_test)\n",
    "pred_sample_opt = pred_sample_opt.detach().numpy()"
   ]
  },
  {
   "cell_type": "code",
   "execution_count": 88,
   "metadata": {},
   "outputs": [
    {
     "name": "stdout",
     "output_type": "stream",
     "text": [
      "[ 515.30096 1336.721   1342.8506  1493.1967  1495.194   1496.4518\n",
      " 1497.1993  1497.5186  1497.7699  1497.9133  1498.0381  1497.8778\n",
      " 1497.962   1497.9393  1498.0006  1498.0907 ]\n"
     ]
    }
   ],
   "source": [
    "print(pred_sample_opt * max_f)"
   ]
  },
  {
   "cell_type": "code",
   "execution_count": 89,
   "metadata": {},
   "outputs": [],
   "source": [
    "def ch4_ADM_DNN_mpc(Dil_test, max_f, target_ch4, sub, i):\n",
    "    \"\"\"ADM DNN Difference\"\"\"\n",
    "    dil = float(Dil_test)\n",
    "    sub[3] = dil\n",
    "    DNN_test = torch.tensor(sub, dtype=torch.float)\n",
    "    \n",
    "    pred_sample_opt = net(DNN_test)\n",
    "    pred_sample_opt = pred_sample_opt.detach().numpy()\n",
    "    return (target_ch4 - (pred_sample_opt[i] * max_f))**2\n",
    "\n",
    "# ende_proc = time.process_time()\n",
    "# end_time = time.time()\n",
    "# print('Systemzeit: {:5.3f}s'.format(end_time - start_time))\n",
    "# print(result_list)"
   ]
  },
  {
   "cell_type": "code",
   "execution_count": 90,
   "metadata": {},
   "outputs": [
    {
     "name": "stdout",
     "output_type": "stream",
     "text": [
      "[[ 522.77367063    3.03030303]\n",
      " [1474.77411586   18.18181818]\n",
      " [1487.82888827   33.33333333]\n",
      " [1493.7044664    48.48484848]\n",
      " [1496.76218353   63.63636364]\n",
      " [1498.3386721    78.78787879]\n",
      " [1499.14845409   93.93939394]\n",
      " [1499.56376099  109.09090909]\n",
      " [1499.77659228  124.24242424]\n",
      " [1499.88561369  139.39393939]\n",
      " [1499.92345761  148.48484848]\n",
      " [1499.97994915  178.78787879]\n",
      " [1499.99475344  209.09090909]\n",
      " [1499.99863179  239.39393939]\n",
      " [1499.99964762  269.6969697 ]\n",
      " [1499.99991378  300.        ]]\n",
      "0.02819874247480169\n",
      "[530.3489517020652,3.0303030303030303]\n",
      "0.030859375\n",
      "[1620.8726528895288,18.18181818181818]\n",
      "0.031066059149329306\n",
      "[1643.8472611086206,33.333333333333336]\n",
      "0.02763671875\n",
      "[1495.681702587879,48.484848484848484]\n",
      "0.02762605281851725\n",
      "[1498.2521916627265,63.63636363636363]\n",
      "0.027632713921982934\n",
      "[1500.1315496535046,78.78787878787878]\n",
      "0.027634053893953636\n",
      "[1501.0013505577974,93.93939393939394]\n",
      "0.027636031193653775\n",
      "[1501.5059297405235,109.0909090909091]\n",
      "0.027635263614949255\n",
      "[1501.683226850817,124.24242424242424]\n",
      "0.02763458260672685\n",
      "[1501.7608791037408,139.3939393939394]\n",
      "0.027632804344912994\n",
      "[1501.7176074203646,148.48484848484847]\n",
      "0.02763722085040763\n",
      "[1501.974938256581,178.78787878787878]\n",
      "0.02763581111575199\n",
      "[1501.9254733673454,209.0909090909091]\n",
      "0.0276363449211155\n",
      "[1501.9536261004907,239.3939393939394]\n",
      "0.027635107800758802\n",
      "[1501.8983125994655,269.6969696969697]\n",
      "0.027633275885906132\n",
      "[1501.815175841188,300.0]\n"
     ]
    }
   ],
   "source": [
    "i = 0\n",
    "di = 1\n",
    "\n",
    "result_mpc = []\n",
    "\n",
    "gg_opt_red_1 = np.array(gg_ADM_np[1:49:5])\n",
    "gg_opt_red_2 = np.array(gg_ADM_np[49:100:10])\n",
    "gg_opt_red = np.concatenate((gg_opt_red_1 ,gg_opt_red_2), axis=0)\n",
    "\n",
    "print(gg_opt_red)\n",
    "\n",
    "result_ADM = []\n",
    "result_DNN = []\n",
    "\n",
    "while i < len(t_red):\n",
    "    \n",
    "    result_list = []\n",
    "    results_min = []\n",
    "    result = []\n",
    "    listOfCordinates = []\n",
    "    dil_fun = []\n",
    "    \n",
    "#     for iv in range(20):\n",
    "#         x0 = np.array([iv/100])\n",
    "#         res = minimize(ch4_ADM_DNN_mpc, x0, args=(max_f, gg_opt_red[i][0], sub, i), method='BFGS', options={'disp': True})\n",
    "#         result_list.append([float(res.x), res.fun])\n",
    "        \n",
    "    bounds_1 = [(0, 0.2)]\n",
    "    results_2 = dict()\n",
    "#         start_proc = time.time()\n",
    "    results_2['shgo_sobol'] = optimize.shgo(ch4_ADM_DNN_mpc, bounds_1, args=(max_f, gg_opt_red[i][0], sub, i), n=20, iters=60,\n",
    "                                          sampling_method='sobol')\n",
    "    result_list.append([float(results_2['shgo_sobol'].x), results_2['shgo_sobol'].fun])\n",
    "    \n",
    "    sub[3] = results_2['shgo_sobol'].x\n",
    "    DNN_test = torch.tensor(sub, dtype=torch.float)\n",
    "    pred_sample_opt = net(DNN_test)\n",
    "    pred_sample_opt = pred_sample_opt.detach().numpy()\n",
    "    result_DNN.append([(pred_sample_opt[i] * max_f).tolist(), t_red[i]])\n",
    "        \n",
    "#     results_min = np.array(result_list)\n",
    "#     result = numpy.where(results_min == numpy.amin(results_min[:,1]))\n",
    "#     listOfCordinates = list(zip(result[0], result[1]))\n",
    "#     dil_fun = results_min[listOfCordinates[0][0]]\n",
    "    \n",
    "#     print(dil_fun)\n",
    "#     break\n",
    "    dil_fun = float(results_2['shgo_sobol'].x)\n",
    "    print(dil_fun)  \n",
    "    \n",
    "#     gg_opt_dil_discrete_red = eng.ADM_Sim_ML_remote_discrete(float(sub[0]), \n",
    "#                                                          float(sub[1]), float(sub[2]), \n",
    "#                                                          float(dil_fun[0]), float(t_red[i]))\n",
    "    gg_opt_dil_discrete_red = eng.ADM_Sim_ML_remote_discrete(float(sub[0]), \n",
    "                                                         float(sub[1]), float(sub[2]), \n",
    "                                                         float(dil_fun), float(t_red[i]))\n",
    "    print(gg_opt_dil_discrete_red[-1])\n",
    "#     result_mpc.append([dil_fun.tolist()])\n",
    "    result_mpc.append([dil_fun, results_2['shgo_sobol'].fun])\n",
    "    result_ADM.append([gg_opt_dil_discrete_red[-1]])\n",
    "    i += di\n",
    "    "
   ]
  },
  {
   "cell_type": "code",
   "execution_count": 91,
   "metadata": {},
   "outputs": [
    {
     "name": "stdout",
     "output_type": "stream",
     "text": [
      "[[2.81987425e-02 1.35103503e-10]\n",
      " [3.08593750e-02 1.26165621e+01]\n",
      " [3.10660591e-02 7.95883908e-08]\n",
      " [2.76367188e-02 2.46070224e+00]\n",
      " [2.76260528e-02 4.46411372e-08]\n",
      " [2.76327139e-02 4.93798435e-09]\n",
      " [2.76340539e-02 1.49206496e-10]\n",
      " [2.76360312e-02 8.27050322e-08]\n",
      " [2.76352636e-02 2.70082603e-08]\n",
      " [2.76345826e-02 6.61532728e-08]\n",
      " [2.76328043e-02 1.13135413e-08]\n",
      " [2.76372209e-02 4.27335300e-09]\n",
      " [2.76358111e-02 9.93608080e-08]\n",
      " [2.76363449e-02 1.32092326e-07]\n",
      " [2.76351078e-02 9.41524750e-08]\n",
      " [2.76332759e-02 7.10692040e-08]]\n",
      "[[ 530.3489517     3.03030303]\n",
      " [1620.87265289   18.18181818]\n",
      " [1643.84726111   33.33333333]\n",
      " [1495.68170259   48.48484848]\n",
      " [1498.25219166   63.63636364]\n",
      " [1500.13154965   78.78787879]\n",
      " [1501.00135056   93.93939394]\n",
      " [1501.50592974  109.09090909]\n",
      " [1501.68322685  124.24242424]\n",
      " [1501.7608791   139.39393939]\n",
      " [1501.71760742  148.48484848]\n",
      " [1501.97493826  178.78787879]\n",
      " [1501.92547337  209.09090909]\n",
      " [1501.9536261   239.39393939]\n",
      " [1501.8983126   269.6969697 ]\n",
      " [1501.81517584  300.        ]]\n",
      "[[ 522.77365901    3.03030303]\n",
      " [1471.22213583   18.18181818]\n",
      " [1487.82860616   33.33333333]\n",
      " [1495.27312897   48.48484848]\n",
      " [1496.76197225   63.63636364]\n",
      " [1498.33860182   78.78787879]\n",
      " [1499.14844187   93.93939394]\n",
      " [1499.56347341  109.09090909]\n",
      " [1499.77642794  124.24242424]\n",
      " [1499.88535648  139.39393939]\n",
      " [1499.92335125  148.48484848]\n",
      " [1499.97988378  178.78787879]\n",
      " [1499.99443823  209.09090909]\n",
      " [1499.99826835  239.39393939]\n",
      " [1499.99934078  269.6969697 ]\n",
      " [1499.99964719  300.        ]]\n"
     ]
    }
   ],
   "source": [
    "result_mpc_np = np.array(result_mpc).reshape(i,2)\n",
    "print(result_mpc_np)\n",
    "\n",
    "result_ADM_np = np.array(result_ADM).reshape(i,2)\n",
    "print(result_ADM_np)\n",
    "\n",
    "result_DNN_np = np.array(result_DNN).reshape(i,2)\n",
    "print(result_DNN_np)"
   ]
  },
  {
   "cell_type": "code",
   "execution_count": 92,
   "metadata": {},
   "outputs": [
    {
     "name": "stdout",
     "output_type": "stream",
     "text": [
      "[[0.027633275885906132, 7.106920401670655e-08]]\n"
     ]
    }
   ],
   "source": [
    "print(result_list, )"
   ]
  },
  {
   "cell_type": "code",
   "execution_count": 93,
   "metadata": {},
   "outputs": [
    {
     "name": "stdout",
     "output_type": "stream",
     "text": [
      "[  94.95280646  530.3489517   882.5042633  1159.52651522 1369.52348148\n",
      " 1520.60293604 1620.87265289 1678.44040603 1701.41396943 1697.90111709\n",
      " 1676.00962298 1643.84726111 1608.58530287 1573.64900937 1541.52713914\n",
      " 1514.7084507  1495.68170259 1486.08540193 1484.15705031 1487.28389794\n",
      " 1492.85319499 1498.25219166 1501.41921915 1502.49693257 1502.17906805\n",
      " 1501.1593617  1500.13154965 1499.64416548 1499.6649326  1500.0163719\n",
      " 1500.52100426 1501.00135056 1501.31736294 1501.47871859 1501.53252598\n",
      " 1501.52589354 1501.50592974 1501.51036936 1501.53945247 1501.58404548\n",
      " 1501.63501481 1501.68322685 1501.72112903 1501.74749284 1501.76267079\n",
      " 1501.76701537 1501.7608791  1501.74589216 1501.72879542 1501.71760742\n",
      " 1501.71862687 1501.73127306 1501.75324543 1501.78224342 1501.81596648\n",
      " 1501.85211404 1501.88838556 1501.92248048 1501.95209823 1501.97493826\n",
      " 1501.98930104 1501.99589118 1501.99601431 1501.99097608 1501.9820821\n",
      " 1501.97063802 1501.95794947 1501.94532209 1501.93406151 1501.92547337\n",
      " 1501.92054311 1501.91897542 1501.9201548  1501.92346574 1501.92829274\n",
      " 1501.9340203  1501.94003293 1501.9457151  1501.95045133 1501.9536261\n",
      " 1501.95475815 1501.95390312 1501.95125088 1501.9469913  1501.94131426\n",
      " 1501.93440963 1501.92646727 1501.91767707 1501.90822889 1501.8983126\n",
      " 1501.88811808 1501.8778352  1501.86765383 1501.85776385 1501.84835512\n",
      " 1501.83961752 1501.83174092 1501.82491519 1501.81933021 1501.81517584] [ 118.35613964  522.77365901  843.14168757 1088.81538742 1269.14992067\n",
      " 1393.50044944 1471.22213583 1511.67014197 1524.19962996 1518.16576191\n",
      " 1502.92369994 1487.82860616 1480.26192103 1479.71019848 1483.68627077\n",
      " 1489.70297018 1495.27312897 1498.44867566 1499.43792366 1498.98828266\n",
      " 1497.8471623  1496.76197225 1496.32015647 1496.4692961  1496.99700658\n",
      " 1497.69090334 1498.33860182 1498.77329972 1499.01052372 1499.11138278\n",
      " 1499.13698585 1499.14844187 1499.19430896 1499.2729418  1499.37014425\n",
      " 1499.47172017 1499.56347341 1499.63439496 1499.68622443 1499.72388858\n",
      " 1499.75231417 1499.77642794 1499.80020146 1499.8237855  1499.84637563\n",
      " 1499.86716744 1499.88535648 1499.90040088 1499.91280888 1499.92335125\n",
      " 1499.93268292 1499.9409954  1499.94836435 1499.95486544 1499.96057433\n",
      " 1499.96556666 1499.96991812 1499.97370435 1499.97700102 1499.97988378\n",
      " 1499.98242015 1499.98464502 1499.98658512 1499.98826719 1499.98971796\n",
      " 1499.99096418 1499.99203258 1499.9929499  1499.99374287 1499.99443823\n",
      " 1499.99505908 1499.99561398 1499.99610783 1499.99654555 1499.99693206\n",
      " 1499.99727227 1499.99757108 1499.99783343 1499.99806421 1499.99826835\n",
      " 1499.99845017 1499.99861166 1499.99875424 1499.9988793  1499.99898827\n",
      " 1499.99908253 1499.99916351 1499.99923261 1499.99929123 1499.99934078\n",
      " 1499.99938267 1499.99941831 1499.99944911 1499.99947646 1499.99950179\n",
      " 1499.99952649 1499.99955197 1499.99957964 1499.99961091 1499.99964719] [ 115.85506749  522.77367063  844.93215897 1091.77099009 1272.73062155\n",
      " 1397.25151095 1474.77411586 1514.73889385 1526.58630251 1519.75679941\n",
      " 1503.69084214 1487.82888827 1479.62506963 1478.58821504 1482.24082759\n",
      " 1488.10541035 1493.7044664  1497.08656066 1498.40450539 1498.33717471\n",
      " 1497.56344272 1496.76218353 1496.47015206 1496.65562633 1497.1447652\n",
      " 1497.76372751 1498.3386721  1498.73319592 1498.96064845 1499.07181726\n",
      " 1499.11748995 1499.14845409 1499.20512566 1499.28643421 1499.38093766\n",
      " 1499.47719394 1499.56376099 1499.63180319 1499.68291076 1499.72128035\n",
      " 1499.75110864 1499.77659228 1499.80112707 1499.82490524 1499.84731816\n",
      " 1499.86775719 1499.88561369 1499.9004959  1499.91287965 1499.92345761\n",
      " 1499.93282014 1499.9411481  1499.94852    1499.95501438 1499.96070973\n",
      " 1499.96568457 1499.97001742 1499.97378679 1499.9770712  1499.97994915\n",
      " 1499.98249028 1499.98472863 1499.98668934 1499.98839758 1499.98987849\n",
      " 1499.99115722 1499.99225893 1499.99320877 1499.99403189 1499.99475344\n",
      " 1499.9953953  1499.99596618 1499.99647154 1499.99691682 1499.99730746\n",
      " 1499.99764892 1499.99794664 1499.99820606 1499.99843263 1499.99863179\n",
      " 1499.99880833 1499.99896435 1499.99910131 1499.99922065 1499.99932381\n",
      " 1499.99941224 1499.9994874  1499.99955071 1499.99960364 1499.99964762\n",
      " 1499.99968411 1499.99971455 1499.99974038 1499.99976305 1499.99978402\n",
      " 1499.99980471 1499.99982659 1499.9998511  1499.99987968 1499.99991378] [ 136.14530776  515.79437256  809.53476155 1028.0165473  1181.88980238\n",
      " 1281.80459933 1338.41101074 1362.35910916 1364.29896716 1354.88065729\n",
      " 1344.75425212 1344.56982422 1362.01407329 1392.92020761 1430.15806261\n",
      " 1466.59747372 1495.10827637 1510.3837598  1514.41102857 1511.00064108\n",
      " 1503.96315572 1497.10913086 1493.44436799 1492.75564099 1494.0249668\n",
      " 1496.23436239 1498.36584473 1499.61652018 1500.04385279 1499.92039601\n",
      " 1499.5187033  1499.11132812 1498.91404837 1498.91553967 1499.04770209\n",
      " 1499.24243572 1499.43164062 1499.56137913 1499.63436257 1499.66746456\n",
      " 1499.67755869 1499.68151855 1499.6932027  1499.71440945 1499.74392208\n",
      " 1499.78052385 1499.82299805 1499.86912509 1499.91267404 1499.94641113\n",
      " 1499.96474091 1499.96862117 1499.96064804 1499.94341765 1499.91952612\n",
      " 1499.89156957 1499.86214412 1499.8338459  1499.80927102 1499.79101563\n",
      " 1499.78102193 1499.77861663 1499.7824725  1499.79126234 1499.80365895\n",
      " 1499.8183351  1499.83396359 1499.84921721 1499.86276876 1499.87329102\n",
      " 1499.87978818 1499.88259005 1499.88235782 1499.8797527  1499.87543588\n",
      " 1499.87006856 1499.86431195 1499.85882725 1499.85427565 1499.85131836\n",
      " 1499.85047342 1499.85168627 1499.85475918 1499.85949445 1499.86569435\n",
      " 1499.87316116 1499.88169716 1499.89110465 1499.90118589 1499.91174316\n",
      " 1499.92257876 1499.93349496 1499.94429405 1499.95477829 1499.96474999\n",
      " 1499.97401141 1499.98236484 1499.98961256 1499.99555685 1500.        ]\n"
     ]
    }
   ],
   "source": [
    "from scipy import interpolate\n",
    "\n",
    "x_ADM = result_ADM_np[:,1]\n",
    "y_ADM = result_ADM_np[:,0]\n",
    "\n",
    "tck_ADM = interpolate.splrep(x_ADM, y_ADM)\n",
    "y_spline_ADM = interpolate.splev(t_full, tck_ADM, der=0)\n",
    "\n",
    "x_DNN = result_DNN_np[:,1]\n",
    "y_DNN = result_DNN_np[:,0]\n",
    "\n",
    "tck_DNN = interpolate.splrep(x_DNN, y_DNN)\n",
    "y_spline_DNN = interpolate.splev(t_full, tck_DNN, der=0)\n",
    "\n",
    "x_DNN_endpoint = result_DNN_np[:,1]\n",
    "y_DNN_endpoint = pred_sample_endpoint\n",
    "\n",
    "tck_DNN_endpoint = interpolate.splrep(x_DNN_endpoint, y_DNN_endpoint)\n",
    "y_spline_DNN_endpoint = interpolate.splev(t_full, tck_DNN_endpoint, der=0)\n",
    "\n",
    "x_reference = gg_opt_red[:,1]\n",
    "y_reference = gg_opt_red[:,0]\n",
    "\n",
    "tck_reference = interpolate.splrep(x_reference, y_reference)\n",
    "y_spline_reference = interpolate.splev(t_full, tck_reference, der=0)\n",
    "\n",
    "print(y_spline_ADM, y_spline_DNN, y_spline_reference, y_spline_DNN_endpoint)"
   ]
  },
  {
   "cell_type": "code",
   "execution_count": 94,
   "metadata": {},
   "outputs": [],
   "source": [
    "set_dil = np.matlib.repmat(np.array(dil_fun), 16, 1)"
   ]
  },
  {
   "cell_type": "code",
   "execution_count": 100,
   "metadata": {},
   "outputs": [
    {
     "name": "stdout",
     "output_type": "stream",
     "text": [
      "[<matplotlib.lines.Line2D object at 0x0000021C5A1A1E88>] ['$dil_{optimiert} $']\n"
     ]
    }
   ],
   "source": [
    "# handles = ['1', '2', '3', '4', '5'] \n",
    "# labels = ['1', '2', '3', '4', '5'] \n",
    "\n",
    "fig1 = plt.subplots()\n",
    "ax1 = plt.subplot(211)\n",
    "ax1.plot(gg_ADM_np[1:,1], gg_ADM_np_endpoint[1:,0], '-.' , label=r'$\\dot m(CH_4)(steady)$ ADM1')\n",
    "ax1.plot(gg_ADM_np[1:,1], y_spline_DNN_endpoint[1:], '-.', label=r'$\\dot m(CH_4)(steady)$ DNN')\n",
    "\n",
    "# ax.plot(gg_np[:,1], np.reshape(gg_np[:,0], (100,1)), 'r-.')\n",
    "ax1.plot(gg_np[1:,1], gg_np[1:,0], '-.' , label=r'$\\dot m(CH_4)(ungeregelt)$')\n",
    "# ax1.plot(gg_ADM_np[1:,1], y_spline_reference[1:], '-.', label=r'$\\dot m(CH_4)_{reference}$')\n",
    "ax1.plot(gg_ADM_np[1:,1], set_repd[1:], 'r--', label=r'$\\dot m(CH_4)(setpoint) $')\n",
    "# ax1.set_title('Trajectory')\n",
    "ax1.set_ylabel(r'$\\dot m(CH_4)$ [m³/d]')\n",
    "\n",
    "handles, labels = ax1.get_legend_handles_labels()\n",
    "ax1.legend(handles, labels, loc='lower right')\n",
    "\n",
    "ax2 = plt.subplot(212)\n",
    "ax2.plot(gg_opt_red[:,1], set_dil, 'o-', label=r'$dil_{optimiert} $')\n",
    "# ax2.set_title('Trajectory')\n",
    "ax2.set_ylabel('Dilution [1/d]')\n",
    "ax2.set_xlabel('Zeit [d]')\n",
    "\n",
    "handles, labels = ax2.get_legend_handles_labels()\n",
    "ax2.legend(handles, labels, loc='best')\n",
    "\n",
    "plt.show()\n",
    "print(handles, labels)"
   ]
  },
  {
   "cell_type": "code",
   "execution_count": 101,
   "metadata": {},
   "outputs": [
    {
     "name": "stdout",
     "output_type": "stream",
     "text": [
      "[<matplotlib.lines.Line2D object at 0x0000021C5ACD1588>] ['$dil_{mpc}(t_i) $']\n"
     ]
    }
   ],
   "source": [
    "# handles = ['1', '2', '3'] \n",
    "# labels = ['1', '2', '3'] \n",
    "fig2 = plt.subplots()\n",
    "ax3 = plt.subplot(211)\n",
    "ax3.plot(t_full[1:], y_spline_ADM[1:], '-.', label=r'$\\dot m(CH_4)(mpc)$ ADM1')\n",
    "ax3.plot(t_full[1:], y_spline_DNN[1:], '-.', label=r'$\\dot m(CH_4)(mpc)$ DNN')\n",
    "ax3.plot(gg_ADM_np[1:,1], y_spline_reference[1:], '-.', label=r'$\\dot m(CH_4)(Referenz)$')\n",
    "# ax3.plot(gg_ADM_np[1:,1], set_repd[1:], 'r--')\n",
    "ax3.set_ylabel(r'$\\dot m(CH_4)$ [m³/d]')\n",
    "\n",
    "handles, labels = ax3.get_legend_handles_labels()\n",
    "ax3.legend(handles, labels, loc='best')\n",
    "\n",
    "ax4 = plt.subplot(212)\n",
    "ax4.plot(gg_opt_red[:,1], result_mpc_np[:,0], 'o-', label=r'$dil_{mpc}(t_i) $')\n",
    "# ax2.set_title('Trajectory')\n",
    "ax4.set_ylabel('Dilution [1/d]')\n",
    "ax4.set_xlabel('Zeit [d]')\n",
    "\n",
    "handles, labels = ax4.get_legend_handles_labels()\n",
    "ax4.legend(handles, labels, loc='best')\n",
    "\n",
    "# ax1.legend(loc='best')\n",
    "\n",
    "plt.show()\n",
    "print(handles, labels)"
   ]
  },
  {
   "cell_type": "code",
   "execution_count": 98,
   "metadata": {},
   "outputs": [
    {
     "name": "stdout",
     "output_type": "stream",
     "text": [
      "[<matplotlib.lines.Line2D object at 0x0000021C5AE311C8>, <matplotlib.lines.Line2D object at 0x0000021C5AEF0988>, <matplotlib.lines.Line2D object at 0x0000021C5AEFFC88>, <matplotlib.lines.Line2D object at 0x0000021C5AF0C988>, [<matplotlib.lines.Line2D object at 0x0000021C5AF0C648>], <matplotlib.lines.Line2D object at 0x0000021C5AF63708>, <matplotlib.lines.Line2D object at 0x0000021C5AF71A88>, [<matplotlib.lines.Line2D object at 0x0000021C5CD638C8>], '7', '8'] ['$\\\\dot m(CH_4)_{steady}$ $_{state} $ ADM1', '$\\\\dot m(CH_4)_{steady}$ $_{state} $ DNN', '$\\\\dot m(CH_4)_{reference}$', '$\\\\dot m(CH_4)_{setpoint} $', ['$dil_{optimized} $'], '$\\\\dot m(CH_4)_{mpc}$ ADM1', '$\\\\dot m(CH_4)_{mpc}$ DNN', ['$dil_{mpc} $'], '7', '8']\n"
     ]
    },
    {
     "name": "stderr",
     "output_type": "stream",
     "text": [
      "D:\\Anaconda\\lib\\site-packages\\ipykernel_launcher.py:36: UserWarning: Legend does not support [<matplotlib.lines.Line2D object at 0x0000021C5AF0C648>] instances.\n",
      "A proxy artist may be used instead.\n",
      "See: http://matplotlib.org/users/legend_guide.html#creating-artists-specifically-for-adding-to-the-legend-aka-proxy-artists\n",
      "D:\\Anaconda\\lib\\site-packages\\ipykernel_launcher.py:36: UserWarning: Legend does not support [<matplotlib.lines.Line2D object at 0x0000021C5CD638C8>] instances.\n",
      "A proxy artist may be used instead.\n",
      "See: http://matplotlib.org/users/legend_guide.html#creating-artists-specifically-for-adding-to-the-legend-aka-proxy-artists\n",
      "D:\\Anaconda\\lib\\site-packages\\ipykernel_launcher.py:36: UserWarning: Legend does not support '7' instances.\n",
      "A proxy artist may be used instead.\n",
      "See: http://matplotlib.org/users/legend_guide.html#creating-artists-specifically-for-adding-to-the-legend-aka-proxy-artists\n",
      "D:\\Anaconda\\lib\\site-packages\\ipykernel_launcher.py:36: UserWarning: Legend does not support '8' instances.\n",
      "A proxy artist may be used instead.\n",
      "See: http://matplotlib.org/users/legend_guide.html#creating-artists-specifically-for-adding-to-the-legend-aka-proxy-artists\n"
     ]
    }
   ],
   "source": [
    "# print(dil_fun)\n",
    "\n",
    "handles = ['1', '2', '3', '4', '5', '6', '7', '8'] \n",
    "labels = ['1', '2', '3', '4', '5', '6', '7', '8'] \n",
    "\n",
    "ax1 = plt.subplot(411)\n",
    "ax1.plot(gg_ADM_np[1:,1], gg_ADM_np_endpoint[1:,0], '-.' , label=r'$\\dot m(CH_4)_{steady}$ $_{state} $ ADM1')\n",
    "ax1.plot(gg_ADM_np[1:,1], y_spline_DNN_endpoint[1:], '-.', label=r'$\\dot m(CH_4)_{steady}$ $_{state} $ DNN')\n",
    "ax1.plot(gg_ADM_np[1:,1], y_spline_reference[1:], '-.', label=r'$\\dot m(CH_4)_{reference}$')\n",
    "ax1.plot(gg_ADM_np[1:,1], set_repd[1:], 'r--', label=r'$\\dot m(CH_4)_{setpoint} $')\n",
    "# ax1.set_title('Trajectory')\n",
    "ax1.set_ylabel(r'$\\dot m(CH_4)$ [m³/d]')\n",
    "\n",
    "ax2 = plt.subplot(412)\n",
    "ax2.plot(gg_opt_red[:,1], set_dil, 'o-', label=r'$dil_{optimized} $')\n",
    "# ax2.set_title('Trajectory')\n",
    "ax2.set_ylabel('Dilution [1/d]')\n",
    "\n",
    "ax3 = plt.subplot(413)\n",
    "ax3.plot(t_full[1:], y_spline_ADM[1:], '-.', label=r'$\\dot m(CH_4)_{mpc}$ ADM1')\n",
    "ax3.plot(t_full[1:], y_spline_DNN[1:], '-.', label=r'$\\dot m(CH_4)_{mpc}$ DNN')\n",
    "ax3.plot(gg_ADM_np[1:,1], y_spline_reference[1:], '-.')\n",
    "ax3.plot(gg_ADM_np[1:,1], set_repd[1:], 'r--')\n",
    "ax3.set_ylabel(r'$\\dot m(CH_4)$ [m³/d]')\n",
    "\n",
    "ax4 = plt.subplot(414)\n",
    "ax4.plot(gg_opt_red[:,1], result_mpc_np[:,0], 'o-', label=r'$dil_{mpc} $')\n",
    "# ax2.set_title('Trajectory')\n",
    "ax4.set_ylabel('Dilution [1/d]')\n",
    "ax4.set_xlabel('time [d]')\n",
    "\n",
    "handles[0:3], labels[0:3] = ax1.get_legend_handles_labels()\n",
    "handles[4], labels[4] = ax2.get_legend_handles_labels()\n",
    "handles[5:6], labels[5:6] = ax3.get_legend_handles_labels()\n",
    "handles[7], labels[7] = ax4.get_legend_handles_labels()\n",
    "ax4.legend(handles, labels, loc='best')\n",
    "\n",
    "# ax1.legend(loc='best')\n",
    "\n",
    "plt.show()\n",
    "print(handles, labels)"
   ]
  },
  {
   "cell_type": "code",
   "execution_count": 99,
   "metadata": {},
   "outputs": [
    {
     "ename": "NameError",
     "evalue": "name 'gas_sobol' is not defined",
     "output_type": "error",
     "traceback": [
      "\u001b[1;31m---------------------------------------------------------------------------\u001b[0m",
      "\u001b[1;31mNameError\u001b[0m                                 Traceback (most recent call last)",
      "\u001b[1;32m<ipython-input-99-0dd252622891>\u001b[0m in \u001b[0;36m<module>\u001b[1;34m\u001b[0m\n\u001b[0;32m      1\u001b[0m \u001b[0mfig\u001b[0m\u001b[1;33m,\u001b[0m \u001b[0max\u001b[0m \u001b[1;33m=\u001b[0m \u001b[0mplt\u001b[0m\u001b[1;33m.\u001b[0m\u001b[0msubplots\u001b[0m\u001b[1;33m(\u001b[0m\u001b[1;33m)\u001b[0m\u001b[1;33m\u001b[0m\u001b[1;33m\u001b[0m\u001b[0m\n\u001b[1;32m----> 2\u001b[1;33m \u001b[0max\u001b[0m\u001b[1;33m.\u001b[0m\u001b[0mplot\u001b[0m\u001b[1;33m(\u001b[0m\u001b[0mgg_np\u001b[0m\u001b[1;33m[\u001b[0m\u001b[1;33m:\u001b[0m\u001b[1;33m,\u001b[0m\u001b[1;36m1\u001b[0m\u001b[1;33m]\u001b[0m\u001b[1;33m,\u001b[0m \u001b[0mnp\u001b[0m\u001b[1;33m.\u001b[0m\u001b[0mreshape\u001b[0m\u001b[1;33m(\u001b[0m\u001b[0mgas_sobol\u001b[0m\u001b[1;33m[\u001b[0m\u001b[1;33m:\u001b[0m\u001b[1;33m,\u001b[0m\u001b[1;36m0\u001b[0m\u001b[1;33m]\u001b[0m\u001b[1;33m,\u001b[0m \u001b[1;33m(\u001b[0m\u001b[1;36m100\u001b[0m\u001b[1;33m,\u001b[0m\u001b[1;36m1\u001b[0m\u001b[1;33m)\u001b[0m\u001b[1;33m)\u001b[0m\u001b[1;33m,\u001b[0m \u001b[1;34m'r-.'\u001b[0m\u001b[1;33m)\u001b[0m\u001b[1;33m\u001b[0m\u001b[1;33m\u001b[0m\u001b[0m\n\u001b[0m\u001b[0;32m      3\u001b[0m \u001b[0max\u001b[0m\u001b[1;33m.\u001b[0m\u001b[0mplot\u001b[0m\u001b[1;33m(\u001b[0m\u001b[0mgg_np\u001b[0m\u001b[1;33m[\u001b[0m\u001b[1;33m:\u001b[0m\u001b[1;33m,\u001b[0m\u001b[1;36m1\u001b[0m\u001b[1;33m]\u001b[0m\u001b[1;33m,\u001b[0m \u001b[0mnp\u001b[0m\u001b[1;33m.\u001b[0m\u001b[0mreshape\u001b[0m\u001b[1;33m(\u001b[0m\u001b[0mgas_minimize\u001b[0m\u001b[1;33m[\u001b[0m\u001b[1;33m:\u001b[0m\u001b[1;33m,\u001b[0m\u001b[1;36m0\u001b[0m\u001b[1;33m]\u001b[0m\u001b[1;33m,\u001b[0m \u001b[1;33m(\u001b[0m\u001b[1;36m100\u001b[0m\u001b[1;33m,\u001b[0m\u001b[1;36m1\u001b[0m\u001b[1;33m)\u001b[0m\u001b[1;33m)\u001b[0m\u001b[1;33m,\u001b[0m \u001b[1;34m'b-.'\u001b[0m\u001b[1;33m)\u001b[0m\u001b[1;33m\u001b[0m\u001b[1;33m\u001b[0m\u001b[0m\n\u001b[0;32m      4\u001b[0m \u001b[0max\u001b[0m\u001b[1;33m.\u001b[0m\u001b[0mplot\u001b[0m\u001b[1;33m(\u001b[0m\u001b[0mgg_np\u001b[0m\u001b[1;33m[\u001b[0m\u001b[1;33m:\u001b[0m\u001b[1;33m,\u001b[0m\u001b[1;36m1\u001b[0m\u001b[1;33m]\u001b[0m\u001b[1;33m,\u001b[0m \u001b[0mnp\u001b[0m\u001b[1;33m.\u001b[0m\u001b[0mreshape\u001b[0m\u001b[1;33m(\u001b[0m\u001b[0mgg_np\u001b[0m\u001b[1;33m[\u001b[0m\u001b[1;33m:\u001b[0m\u001b[1;33m,\u001b[0m\u001b[1;36m0\u001b[0m\u001b[1;33m]\u001b[0m\u001b[1;33m,\u001b[0m \u001b[1;33m(\u001b[0m\u001b[1;36m100\u001b[0m\u001b[1;33m,\u001b[0m\u001b[1;36m1\u001b[0m\u001b[1;33m)\u001b[0m\u001b[1;33m)\u001b[0m\u001b[1;33m,\u001b[0m \u001b[1;34m'y-.'\u001b[0m\u001b[1;33m)\u001b[0m\u001b[1;33m\u001b[0m\u001b[1;33m\u001b[0m\u001b[0m\n\u001b[0;32m      5\u001b[0m \u001b[0max\u001b[0m\u001b[1;33m.\u001b[0m\u001b[0mset_xlabel\u001b[0m\u001b[1;33m(\u001b[0m\u001b[1;34m'Time [d]'\u001b[0m\u001b[1;33m)\u001b[0m\u001b[1;33m\u001b[0m\u001b[1;33m\u001b[0m\u001b[0m\n",
      "\u001b[1;31mNameError\u001b[0m: name 'gas_sobol' is not defined"
     ]
    }
   ],
   "source": [
    "fig, ax = plt.subplots()\n",
    "ax.plot(gg_np[:,1], np.reshape(gas_sobol[:,0], (100,1)), 'r-.')\n",
    "ax.plot(gg_np[:,1], np.reshape(gas_minimize[:,0], (100,1)), 'b-.')\n",
    "ax.plot(gg_np[:,1], np.reshape(gg_np[:,0], (100,1)), 'y-.')\n",
    "ax.set_xlabel('Time [d]')\n",
    "ax.set_ylabel('Concentration [m³/d]')\n",
    "plt.show()"
   ]
  },
  {
   "cell_type": "code",
   "execution_count": null,
   "metadata": {},
   "outputs": [],
   "source": []
  },
  {
   "cell_type": "code",
   "execution_count": 127,
   "metadata": {},
   "outputs": [
    {
     "name": "stdout",
     "output_type": "stream",
     "text": [
      "-0.09113776027679639\n"
     ]
    }
   ],
   "source": [
    "print(result_mpc_np[3][0])"
   ]
  },
  {
   "cell_type": "code",
   "execution_count": 112,
   "metadata": {},
   "outputs": [],
   "source": [
    "# print(gg_ADM_np)"
   ]
  },
  {
   "cell_type": "code",
   "execution_count": null,
   "metadata": {},
   "outputs": [],
   "source": []
  },
  {
   "cell_type": "code",
   "execution_count": 46,
   "metadata": {},
   "outputs": [
    {
     "name": "stdout",
     "output_type": "stream",
     "text": [
      "Warning: Desired error not necessarily achieved due to precision loss.\n",
      "         Current function value: 0.000000\n",
      "         Iterations: 3\n",
      "         Function evaluations: 62\n",
      "         Gradient evaluations: 25\n",
      "Warning: Desired error not necessarily achieved due to precision loss.\n",
      "         Current function value: 0.000000\n",
      "         Iterations: 6\n",
      "         Function evaluations: 60\n",
      "         Gradient evaluations: 24\n",
      "Warning: Desired error not necessarily achieved due to precision loss.\n",
      "         Current function value: 0.000000\n",
      "         Iterations: 8\n",
      "         Function evaluations: 99\n",
      "         Gradient evaluations: 43\n",
      "Warning: Desired error not necessarily achieved due to precision loss.\n",
      "         Current function value: 0.000000\n",
      "         Iterations: 4\n",
      "         Function evaluations: 62\n",
      "         Gradient evaluations: 25\n",
      "Optimization terminated successfully.\n",
      "         Current function value: 244676.268411\n",
      "         Iterations: 1\n",
      "         Function evaluations: 6\n",
      "         Gradient evaluations: 3\n",
      "Optimization terminated successfully.\n",
      "         Current function value: 3626.769905\n",
      "         Iterations: 1\n",
      "         Function evaluations: 6\n",
      "         Gradient evaluations: 3\n",
      "Optimization terminated successfully.\n",
      "         Current function value: 820703.594111\n",
      "         Iterations: 1\n",
      "         Function evaluations: 4\n",
      "         Gradient evaluations: 2\n",
      "Optimization terminated successfully.\n",
      "         Current function value: 2248615.510659\n",
      "         Iterations: 0\n",
      "         Function evaluations: 2\n",
      "         Gradient evaluations: 1\n",
      "Optimization terminated successfully.\n",
      "         Current function value: 2249356.471375\n",
      "         Iterations: 0\n",
      "         Function evaluations: 2\n",
      "         Gradient evaluations: 1\n",
      "Optimization terminated successfully.\n",
      "         Current function value: 2249390.248307\n",
      "         Iterations: 1\n",
      "         Function evaluations: 18\n",
      "         Gradient evaluations: 9\n",
      "Optimization terminated successfully.\n",
      "         Current function value: 2249938.067426\n",
      "         Iterations: 0\n",
      "         Function evaluations: 2\n",
      "         Gradient evaluations: 1\n",
      "Optimization terminated successfully.\n",
      "         Current function value: 2249898.081727\n",
      "         Iterations: 1\n",
      "         Function evaluations: 12\n",
      "         Gradient evaluations: 6\n",
      "Optimization terminated successfully.\n",
      "         Current function value: 2249922.210986\n",
      "         Iterations: 0\n",
      "         Function evaluations: 2\n",
      "         Gradient evaluations: 1\n",
      "Optimization terminated successfully.\n",
      "         Current function value: 2249878.433712\n",
      "         Iterations: 0\n",
      "         Function evaluations: 2\n",
      "         Gradient evaluations: 1\n",
      "Optimization terminated successfully.\n",
      "         Current function value: 2249845.227613\n",
      "         Iterations: 0\n",
      "         Function evaluations: 2\n",
      "         Gradient evaluations: 1\n",
      "Optimization terminated successfully.\n",
      "         Current function value: 2249918.878842\n",
      "         Iterations: 1\n",
      "         Function evaluations: 30\n",
      "         Gradient evaluations: 15\n",
      "Optimization terminated successfully.\n",
      "         Current function value: 2249860.049682\n",
      "         Iterations: 0\n",
      "         Function evaluations: 2\n",
      "         Gradient evaluations: 1\n",
      "Optimization terminated successfully.\n",
      "         Current function value: 380.572761\n",
      "         Iterations: 2\n",
      "         Function evaluations: 30\n",
      "         Gradient evaluations: 15\n",
      "Optimization terminated successfully.\n",
      "         Current function value: 2249805.242739\n",
      "         Iterations: 1\n",
      "         Function evaluations: 10\n",
      "         Gradient evaluations: 5\n",
      "Optimization terminated successfully.\n",
      "         Current function value: 2249846.606408\n",
      "         Iterations: 0\n",
      "         Function evaluations: 2\n",
      "         Gradient evaluations: 1\n",
      "Systemzeit: 0.502s\n",
      "[[0.027633274695476648, 1.2447565119598914e-07], [0.027633273955964693, 1.2447565119598914e-07], [0.027633280758680562, 2.153114876387699e-09], [0.027633274988134053, 1.2447565119598914e-07], [-0.28943830326794423, 244676.26841131496], [-0.4944406538563589, 3626.7699048687286], [-0.95, 820703.5941109231], [0.07, 2248615.5106588984], [0.08, 2249356.471374682], [0.09017995472707549, 2249390.24830664], [0.1, 2249938.067425952], [0.14481484374511683, 2249898.081727069], [0.12, 2249922.2109856056], [0.13, 2249878.4337121216], [0.14, 2249845.227612873], [0.19099373672531683, 2249918.878842203], [0.16, 2249860.049682259], [-0.5320884019027972, 380.57276051523655], [0.1894314601936745, 2249805.242738973], [0.19, 2249846.606407966]]\n"
     ]
    }
   ],
   "source": []
  },
  {
   "cell_type": "code",
   "execution_count": 46,
   "metadata": {},
   "outputs": [
    {
     "name": "stdout",
     "output_type": "stream",
     "text": [
      "Warning: Desired error not necessarily achieved due to precision loss.\n",
      "         Current function value: 0.000000\n",
      "         Iterations: 3\n",
      "         Function evaluations: 62\n",
      "         Gradient evaluations: 25\n",
      "Warning: Desired error not necessarily achieved due to precision loss.\n",
      "         Current function value: 0.000000\n",
      "         Iterations: 6\n",
      "         Function evaluations: 60\n",
      "         Gradient evaluations: 24\n",
      "Warning: Desired error not necessarily achieved due to precision loss.\n",
      "         Current function value: 0.000000\n",
      "         Iterations: 8\n",
      "         Function evaluations: 99\n",
      "         Gradient evaluations: 43\n",
      "Warning: Desired error not necessarily achieved due to precision loss.\n",
      "         Current function value: 0.000000\n",
      "         Iterations: 4\n",
      "         Function evaluations: 62\n",
      "         Gradient evaluations: 25\n",
      "Optimization terminated successfully.\n",
      "         Current function value: 244676.268411\n",
      "         Iterations: 1\n",
      "         Function evaluations: 6\n",
      "         Gradient evaluations: 3\n",
      "Optimization terminated successfully.\n",
      "         Current function value: 3626.769905\n",
      "         Iterations: 1\n",
      "         Function evaluations: 6\n",
      "         Gradient evaluations: 3\n",
      "Optimization terminated successfully.\n",
      "         Current function value: 820703.594111\n",
      "         Iterations: 1\n",
      "         Function evaluations: 4\n",
      "         Gradient evaluations: 2\n",
      "Optimization terminated successfully.\n",
      "         Current function value: 2248615.510659\n",
      "         Iterations: 0\n",
      "         Function evaluations: 2\n",
      "         Gradient evaluations: 1\n",
      "Optimization terminated successfully.\n",
      "         Current function value: 2249356.471375\n",
      "         Iterations: 0\n",
      "         Function evaluations: 2\n",
      "         Gradient evaluations: 1\n",
      "Optimization terminated successfully.\n",
      "         Current function value: 2249390.248307\n",
      "         Iterations: 1\n",
      "         Function evaluations: 18\n",
      "         Gradient evaluations: 9\n",
      "Optimization terminated successfully.\n",
      "         Current function value: 2249938.067426\n",
      "         Iterations: 0\n",
      "         Function evaluations: 2\n",
      "         Gradient evaluations: 1\n",
      "Optimization terminated successfully.\n",
      "         Current function value: 2249898.081727\n",
      "         Iterations: 1\n",
      "         Function evaluations: 12\n",
      "         Gradient evaluations: 6\n",
      "Optimization terminated successfully.\n",
      "         Current function value: 2249922.210986\n",
      "         Iterations: 0\n",
      "         Function evaluations: 2\n",
      "         Gradient evaluations: 1\n",
      "Optimization terminated successfully.\n",
      "         Current function value: 2249878.433712\n",
      "         Iterations: 0\n",
      "         Function evaluations: 2\n",
      "         Gradient evaluations: 1\n",
      "Optimization terminated successfully.\n",
      "         Current function value: 2249845.227613\n",
      "         Iterations: 0\n",
      "         Function evaluations: 2\n",
      "         Gradient evaluations: 1\n",
      "Optimization terminated successfully.\n",
      "         Current function value: 2249918.878842\n",
      "         Iterations: 1\n",
      "         Function evaluations: 30\n",
      "         Gradient evaluations: 15\n",
      "Optimization terminated successfully.\n",
      "         Current function value: 2249860.049682\n",
      "         Iterations: 0\n",
      "         Function evaluations: 2\n",
      "         Gradient evaluations: 1\n",
      "Optimization terminated successfully.\n",
      "         Current function value: 380.572761\n",
      "         Iterations: 2\n",
      "         Function evaluations: 30\n",
      "         Gradient evaluations: 15\n",
      "Optimization terminated successfully.\n",
      "         Current function value: 2249805.242739\n",
      "         Iterations: 1\n",
      "         Function evaluations: 10\n",
      "         Gradient evaluations: 5\n",
      "Optimization terminated successfully.\n",
      "         Current function value: 2249846.606408\n",
      "         Iterations: 0\n",
      "         Function evaluations: 2\n",
      "         Gradient evaluations: 1\n",
      "Systemzeit: 0.502s\n",
      "[[0.027633274695476648, 1.2447565119598914e-07], [0.027633273955964693, 1.2447565119598914e-07], [0.027633280758680562, 2.153114876387699e-09], [0.027633274988134053, 1.2447565119598914e-07], [-0.28943830326794423, 244676.26841131496], [-0.4944406538563589, 3626.7699048687286], [-0.95, 820703.5941109231], [0.07, 2248615.5106588984], [0.08, 2249356.471374682], [0.09017995472707549, 2249390.24830664], [0.1, 2249938.067425952], [0.14481484374511683, 2249898.081727069], [0.12, 2249922.2109856056], [0.13, 2249878.4337121216], [0.14, 2249845.227612873], [0.19099373672531683, 2249918.878842203], [0.16, 2249860.049682259], [-0.5320884019027972, 380.57276051523655], [0.1894314601936745, 2249805.242738973], [0.19, 2249846.606407966]]\n"
     ]
    }
   ],
   "source": [
    "def ch4_ADM_DNN(Dil_test, max_f, target_ch4, sub):\n",
    "    \"\"\"ADM DNN Difference\"\"\"\n",
    "#     print(Dil_test)\n",
    "    dil = float(Dil_test)\n",
    "    sub[3] = dil\n",
    "#     max_f = 2570.348355\n",
    "#     target_ch4 = 1250\n",
    "    DNN_test = torch.tensor(sub, dtype=torch.float)\n",
    "#     gg_opt_test = eng.ADM_Sim_ML_remote(0.8147, 0.0791, 0.1062, float(Dil_test))\n",
    "#     gg_opt_test = eng.ADM_Sim_ML_remote(float(sub[0]), float(sub[1]), float(sub[2]), float(Dil_test))\n",
    "    \n",
    "    pred_sample_opt = net(DNN_test)\n",
    "    pred_sample_opt = pred_sample_opt.detach().numpy()\n",
    "    return (target_ch4 - (pred_sample_opt[-1] * max_f))**2\n",
    "\n",
    "\n",
    "result_list = []\n",
    "target_list = []\n",
    "\n",
    "bounds = Bounds([0], [0.2])\n",
    "# nonlinear_constraint = NonlinearConstraint(hess=BFGS())\n",
    "\n",
    "start_proc = []\n",
    "ende_proc = []\n",
    "\n",
    "# start_proc = time.process_time()\n",
    "start_time = time.time()\n",
    "sub = [0.8147, 0.0791, 0.1062, 0]\n",
    "\n",
    "for iv in range(20):\n",
    "    x0 = np.array([iv/100])\n",
    "#     res = minimize(ch4_ADM_DNN, x0, method='nelder-mead',\n",
    "#                    options={'xatol': 1e-8, 'disp': True})\n",
    "    res = minimize(ch4_ADM_DNN, x0, args=(max_f, target_ch4, sub), method='BFGS', options={'disp': True})\n",
    "#     result_list.append(res.x)\n",
    "#     res = minimize(ch4_ADM_DNN, x0, method='trust-constr',bounds=bounds, options={'disp': True})\n",
    "    result_list.append([float(res.x), res.fun])\n",
    "\n",
    "# ende_proc = time.process_time()\n",
    "end_time = time.time()\n",
    "print('Systemzeit: {:5.3f}s'.format(end_time - start_time))\n",
    "print(result_list)"
   ]
  },
  {
   "cell_type": "code",
   "execution_count": 463,
   "metadata": {},
   "outputs": [
    {
     "name": "stdout",
     "output_type": "stream",
     "text": [
      "0.02691873166492691\n"
     ]
    }
   ],
   "source": [
    "# gg_opt_test = eng.ADM_Sim_ML_remote(0.8147, 0.0791, 0.1062, 0.1)\n",
    "# print(gg_opt_test[-1][0])"
   ]
  },
  {
   "cell_type": "code",
   "execution_count": 474,
   "metadata": {},
   "outputs": [
    {
     "name": "stdout",
     "output_type": "stream",
     "text": [
      "0.02\n",
      "0.1\n",
      "0.15\n"
     ]
    }
   ],
   "source": [
    "x1 = [0.02, 0.1, 0.15]\n",
    "\n",
    "len(x1)\n",
    "for iv in x1:\n",
    "    print(np.array(iv))"
   ]
  },
  {
   "cell_type": "code",
   "execution_count": 61,
   "metadata": {},
   "outputs": [
    {
     "name": "stdout",
     "output_type": "stream",
     "text": [
      "Warning: Desired error not necessarily achieved due to precision loss.\n",
      "         Current function value: 0.000000\n",
      "         Iterations: 7\n",
      "         Function evaluations: 127\n",
      "         Gradient evaluations: 57\n",
      "Warning: Desired error not necessarily achieved due to precision loss.\n",
      "         Current function value: 0.000000\n",
      "         Iterations: 6\n",
      "         Function evaluations: 44\n",
      "         Gradient evaluations: 16\n",
      "Warning: Desired error not necessarily achieved due to precision loss.\n",
      "         Current function value: 0.000000\n",
      "         Iterations: 7\n",
      "         Function evaluations: 76\n",
      "         Gradient evaluations: 32\n",
      "Warning: Desired error not necessarily achieved due to precision loss.\n",
      "         Current function value: 0.000000\n",
      "         Iterations: 5\n",
      "         Function evaluations: 79\n",
      "         Gradient evaluations: 34\n",
      "Optimization terminated successfully.\n",
      "         Current function value: 207348.063891\n",
      "         Iterations: 1\n",
      "         Function evaluations: 4\n",
      "         Gradient evaluations: 2\n",
      "Optimization terminated successfully.\n",
      "         Current function value: 207348.063891\n",
      "         Iterations: 1\n",
      "         Function evaluations: 4\n",
      "         Gradient evaluations: 2\n",
      "Optimization terminated successfully.\n",
      "         Current function value: 207348.063891\n",
      "         Iterations: 1\n",
      "         Function evaluations: 4\n",
      "         Gradient evaluations: 2\n",
      "Optimization terminated successfully.\n",
      "         Current function value: 207348.063891\n",
      "         Iterations: 1\n",
      "         Function evaluations: 4\n",
      "         Gradient evaluations: 2\n",
      "Optimization terminated successfully.\n",
      "         Current function value: 207348.063891\n",
      "         Iterations: 1\n",
      "         Function evaluations: 4\n",
      "         Gradient evaluations: 2\n",
      "Optimization terminated successfully.\n",
      "         Current function value: 207348.063891\n",
      "         Iterations: 1\n",
      "         Function evaluations: 4\n",
      "         Gradient evaluations: 2\n",
      "Optimization terminated successfully.\n",
      "         Current function value: 207348.063891\n",
      "         Iterations: 1\n",
      "         Function evaluations: 4\n",
      "         Gradient evaluations: 2\n",
      "Optimization terminated successfully.\n",
      "         Current function value: 207348.063891\n",
      "         Iterations: 1\n",
      "         Function evaluations: 4\n",
      "         Gradient evaluations: 2\n",
      "Optimization terminated successfully.\n",
      "         Current function value: 207348.063891\n",
      "         Iterations: 1\n",
      "         Function evaluations: 4\n",
      "         Gradient evaluations: 2\n",
      "Optimization terminated successfully.\n",
      "         Current function value: 207348.063891\n",
      "         Iterations: 1\n",
      "         Function evaluations: 4\n",
      "         Gradient evaluations: 2\n",
      "Optimization terminated successfully.\n",
      "         Current function value: 207348.063891\n",
      "         Iterations: 1\n",
      "         Function evaluations: 4\n",
      "         Gradient evaluations: 2\n",
      "Optimization terminated successfully.\n",
      "         Current function value: 207348.063891\n",
      "         Iterations: 1\n",
      "         Function evaluations: 4\n",
      "         Gradient evaluations: 2\n",
      "Optimization terminated successfully.\n",
      "         Current function value: 207348.063891\n",
      "         Iterations: 1\n",
      "         Function evaluations: 4\n",
      "         Gradient evaluations: 2\n",
      "Optimization terminated successfully.\n",
      "         Current function value: 207348.063891\n",
      "         Iterations: 1\n",
      "         Function evaluations: 4\n",
      "         Gradient evaluations: 2\n",
      "Optimization terminated successfully.\n",
      "         Current function value: 207348.063891\n",
      "         Iterations: 1\n",
      "         Function evaluations: 4\n",
      "         Gradient evaluations: 2\n",
      "Optimization terminated successfully.\n",
      "         Current function value: 207348.063891\n",
      "         Iterations: 1\n",
      "         Function evaluations: 4\n",
      "         Gradient evaluations: 2\n",
      "Systemzeit: 618.333s\n",
      "[[0.022244529958831475, 1.2777026934014382e-07], [0.022244531328299177, 8.51188528832864e-08], [0.022244529956980386, 1.2782052460649829e-07], [0.02224452996420167, 1.2763784241554621e-07], [-0.97, 207348.06389110722], [-0.96, 207348.06389110722], [-0.95, 207348.06389110722], [-0.94, 207348.06389110722], [-0.93, 207348.06389110722], [-0.92, 207348.06389110722], [-0.91, 207348.06389110722], [-0.9, 207348.06389110722], [-0.89, 207348.06389110722], [-0.8799999999999998, 207348.06389110722], [-0.87, 207348.06389110722], [-0.86, 207348.06389110722], [-0.85, 207348.06389110722], [-0.84, 207348.06389110722], [-0.8300000000000001, 207348.06389110722], [-0.8200000000000001, 207348.06389110722]]\n"
     ]
    }
   ],
   "source": [
    "def ch4_ADM(Dil, max_f, target_ch4, sub):\n",
    "    \"\"\"ADM DNN Difference\"\"\"\n",
    "#     print(Dil_test)\n",
    "    dil = float(Dil)\n",
    "\n",
    "    sub[3] = dil\n",
    "    \n",
    "#     max_f = 2570.348355\n",
    "#     target_ch4 = 1250.0\n",
    "    \n",
    "#     DNN_test = torch.tensor(sub, dtype=torch.float)\n",
    "    \n",
    "    gg_opt_test = eng.ADM_Sim_ML_remote(0.8147, 0.0791, 0.1062, float(Dil))\n",
    "#     pred_sample_opt = net(DNN_test)\n",
    "#     pred_sample_opt = pred_sample_opt.detach().numpy()\n",
    "    \n",
    "    return (target_ch4 - np.array(gg_opt_test[-1][0]))**2\n",
    "\n",
    "\n",
    "result_list_ADM = []\n",
    "target_list_ADM = []\n",
    "\n",
    "# from scipy.optimize import Bounds\n",
    "bounds = Bounds([0], [0.2])\n",
    "\n",
    "# from scipy.optimize import BFGS\n",
    "# from scipy.optimize import NonlinearConstraint\n",
    "# nonlinear_constraint = NonlinearConstraint(hess=BFGS())\n",
    "\n",
    "start_proc_1 = []\n",
    "ende_proc_1 = []\n",
    "\n",
    "start_time_1  = time.time()\n",
    "\n",
    "# x1 = [0.06, 0.1, 0.15]\n",
    "\n",
    "# len(x1)\n",
    "# for iv in x1:\n",
    "#     print(x1[iv])\n",
    "\n",
    "sub = [0.8147, 0.0791, 0.1062, 0]\n",
    "\n",
    "for iv in range(20):\n",
    "    x1_1 = np.array([iv/100])\n",
    "# for iv in x1:\n",
    "#     x1_1 = np.array(iv)\n",
    "#     print(x1)\n",
    "#     res1 = minimize(ch4_ADM, x1, method='nelder-mead',\n",
    "#                    options={'xatol': 1e-8, 'disp': True})\n",
    "    res1 = minimize(ch4_ADM, x1_1, args=(max_f, target_ch4, sub), method='BFGS', options={'disp': True})\n",
    "#     result_list.append(res.x)\n",
    "#     res1 = minimize(ch4_ADM, x1_1, method='trust-constr',bounds=bounds, options={'disp': True})\n",
    "    result_list_ADM.append([float(res1.x), res1.fun])\n",
    "\n",
    "end_time_1  = time.time()\n",
    "print('Systemzeit: {:5.3f}s'.format(end_time_1 - start_time_1))\n",
    "print(result_list_ADM)"
   ]
  },
  {
   "cell_type": "code",
   "execution_count": 53,
   "metadata": {},
   "outputs": [
    {
     "name": "stdout",
     "output_type": "stream",
     "text": [
      "[[ 8.90532949e-04  5.37126647e+05]\n",
      " [ 2.21935234e-02  5.90133598e-08]\n",
      " [ 2.21935230e-02  5.90133598e-08]\n",
      " [-2.78746735e-01  7.14438068e+04]\n",
      " [-3.36664972e-01  2.09087309e+04]\n",
      " [-4.94324469e-01  3.59219914e+04]\n",
      " [-9.50000000e-01  1.33616706e+06]\n",
      " [ 7.00000000e-02  1.56134629e+06]\n",
      " [ 8.00000000e-02  1.56196373e+06]\n",
      " [ 9.04221631e-02  1.56202108e+06]\n",
      " [ 1.00000000e-01  1.56244839e+06]\n",
      " [ 1.55734911e-01  1.56241258e+06]\n",
      " [ 1.20000000e-01  1.56243518e+06]\n",
      " [ 1.30000000e-01  1.56239870e+06]\n",
      " [ 1.40000000e-01  1.56237102e+06]\n",
      " [ 1.90226144e-01  1.56238586e+06]\n",
      " [ 1.60000000e-01  1.56238338e+06]\n",
      " [ 1.16017733e-01  1.56245279e+06]\n",
      " [ 1.84639929e-01  1.56235848e+06]\n",
      " [ 1.90000000e-01  1.56237217e+06]]\n"
     ]
    }
   ],
   "source": [
    "# Ergebnis der Optimierung Dilution | Funktionswert\n",
    "results_min = np.array(result_list)\n",
    "print(results_min)"
   ]
  },
  {
   "cell_type": "code",
   "execution_count": 58,
   "metadata": {},
   "outputs": [
    {
     "name": "stdout",
     "output_type": "stream",
     "text": [
      "(array([1, 2], dtype=int64), array([1, 1], dtype=int64))\n",
      "1\n",
      "[2.21935234e-02 5.90133598e-08]\n"
     ]
    }
   ],
   "source": [
    "np.min(abs(results_min))\n",
    "\n",
    "# def index_finding(results_min, min_value):\n",
    "#     list_1 = [sublist[1] for sublist in results_min]\n",
    "#     indices = [i for i, x in enumerate(results_min) if x == min_value]\n",
    "#     return indices\n",
    "\n",
    "# print(index_finding(results_min, np.min(abs(results_min))))\n",
    "\n",
    "result = numpy.where(results_min == numpy.amin(results_min[:,1]))\n",
    "print(result)\n",
    "\n",
    "listOfCordinates = list(zip(result[0], result[1]))\n",
    "print(listOfCordinates[0][0])\n",
    "\n",
    "dil_fun = results_min[listOfCordinates[0][0]]\n",
    "\n",
    "print(results_min[listOfCordinates[0][0]])\n",
    "\n",
    "# listOfCordinates[0]"
   ]
  },
  {
   "cell_type": "code",
   "execution_count": 55,
   "metadata": {},
   "outputs": [
    {
     "ename": "NameError",
     "evalue": "name 'max_value' is not defined",
     "output_type": "error",
     "traceback": [
      "\u001b[1;31m---------------------------------------------------------------------------\u001b[0m",
      "\u001b[1;31mNameError\u001b[0m                                 Traceback (most recent call last)",
      "\u001b[1;32m<ipython-input-55-ef609f1f9fa3>\u001b[0m in \u001b[0;36m<module>\u001b[1;34m\u001b[0m\n\u001b[0;32m      6\u001b[0m     \u001b[1;32mreturn\u001b[0m \u001b[0mmax\u001b[0m\u001b[1;33m(\u001b[0m\u001b[1;33m[\u001b[0m\u001b[0msublist\u001b[0m\u001b[1;33m[\u001b[0m\u001b[1;33m-\u001b[0m\u001b[1;36m1\u001b[0m\u001b[1;33m]\u001b[0m \u001b[1;32mfor\u001b[0m \u001b[0msublist\u001b[0m \u001b[1;32min\u001b[0m \u001b[0mpred_sample\u001b[0m\u001b[1;33m]\u001b[0m\u001b[1;33m)\u001b[0m\u001b[1;33m\u001b[0m\u001b[1;33m\u001b[0m\u001b[0m\n\u001b[0;32m      7\u001b[0m \u001b[1;33m\u001b[0m\u001b[0m\n\u001b[1;32m----> 8\u001b[1;33m \u001b[0mprint\u001b[0m\u001b[1;33m(\u001b[0m\u001b[0mmax_value\u001b[0m\u001b[1;33m(\u001b[0m\u001b[0mpred_sample\u001b[0m\u001b[1;33m)\u001b[0m\u001b[1;33m)\u001b[0m\u001b[1;33m\u001b[0m\u001b[1;33m\u001b[0m\u001b[0m\n\u001b[0m\u001b[0;32m      9\u001b[0m \u001b[0mmax_sample\u001b[0m \u001b[1;33m=\u001b[0m \u001b[0mmax_value\u001b[0m\u001b[1;33m(\u001b[0m\u001b[0mpred_sample\u001b[0m\u001b[1;33m)\u001b[0m\u001b[1;33m\u001b[0m\u001b[1;33m\u001b[0m\u001b[0m\n\u001b[0;32m     10\u001b[0m \u001b[1;33m\u001b[0m\u001b[0m\n",
      "\u001b[1;31mNameError\u001b[0m: name 'max_value' is not defined"
     ]
    }
   ],
   "source": [
    "# bestimme den maximalen Gasstrom im Gleichgewicht\n",
    "\n",
    "def min_value(result_list):\n",
    "    list_1 = [sublist[1] for sublist in result_list]\n",
    "#     print(list_1)\n",
    "    return max([sublist[-1] for sublist in pred_sample])\n",
    "\n",
    "print(max_value(pred_sample))\n",
    "max_sample = max_value(pred_sample)\n",
    "\n",
    "max_gas = max_sample * max_field[-1]\n",
    "print(max_gas)\n",
    "# bestimme den zugehörigen Index\n",
    "\n",
    "def index_finding(pred_sample, max_sample):\n",
    "    list_1 = [sublist[-1] for sublist in pred_sample]\n",
    "    indices = [i for i, x in enumerate(list_1) if x == max_sample]\n",
    "    return indices\n",
    "\n",
    "print(index_finding(pred_sample, max_sample))"
   ]
  },
  {
   "cell_type": "code",
   "execution_count": 57,
   "metadata": {},
   "outputs": [
    {
     "name": "stdout",
     "output_type": "stream",
     "text": [
      "[0.19]\n"
     ]
    }
   ],
   "source": [
    "print(res.x)"
   ]
  },
  {
   "cell_type": "code",
   "execution_count": 60,
   "metadata": {},
   "outputs": [
    {
     "name": "stdout",
     "output_type": "stream",
     "text": [
      "1249.9997570733449\n"
     ]
    }
   ],
   "source": [
    "sub = [0.8147, 0.0791, 0.1062, dil_fun[0]]\n",
    "DNN_test = torch.tensor(sub, dtype=torch.float)\n",
    "pred_sample_val = net(DNN_test)\n",
    "print(pred_sample_val[-1].detach().numpy() * 2570.348355)"
   ]
  },
  {
   "cell_type": "code",
   "execution_count": 238,
   "metadata": {},
   "outputs": [
    {
     "ename": "KeyboardInterrupt",
     "evalue": "",
     "output_type": "error",
     "traceback": [
      "\u001b[1;31m---------------------------------------------------------------------------\u001b[0m",
      "\u001b[1;31mKeyError\u001b[0m                                  Traceback (most recent call last)",
      "\u001b[1;32mD:\\Anaconda\\lib\\site-packages\\scipy\\optimize\\_shgo_lib\\triangulation.py\u001b[0m in \u001b[0;36m__getitem__\u001b[1;34m(self, x, indexed)\u001b[0m\n\u001b[0;32m    629\u001b[0m         \u001b[1;32mtry\u001b[0m\u001b[1;33m:\u001b[0m\u001b[1;33m\u001b[0m\u001b[1;33m\u001b[0m\u001b[0m\n\u001b[1;32m--> 630\u001b[1;33m             \u001b[1;32mreturn\u001b[0m \u001b[0mself\u001b[0m\u001b[1;33m.\u001b[0m\u001b[0mcache\u001b[0m\u001b[1;33m[\u001b[0m\u001b[0mx\u001b[0m\u001b[1;33m]\u001b[0m\u001b[1;33m\u001b[0m\u001b[1;33m\u001b[0m\u001b[0m\n\u001b[0m\u001b[0;32m    631\u001b[0m         \u001b[1;32mexcept\u001b[0m \u001b[0mKeyError\u001b[0m\u001b[1;33m:\u001b[0m\u001b[1;33m\u001b[0m\u001b[1;33m\u001b[0m\u001b[0m\n",
      "\u001b[1;31mKeyError\u001b[0m: (0.32413387298583984,)",
      "\nDuring handling of the above exception, another exception occurred:\n",
      "\u001b[1;31mKeyboardInterrupt\u001b[0m                         Traceback (most recent call last)",
      "\u001b[1;32m<ipython-input-238-41e132fa28f1>\u001b[0m in \u001b[0;36m<module>\u001b[1;34m\u001b[0m\n\u001b[0;32m      1\u001b[0m \u001b[0mbounds_1\u001b[0m \u001b[1;33m=\u001b[0m \u001b[1;33m[\u001b[0m\u001b[1;33m(\u001b[0m\u001b[1;36m0\u001b[0m\u001b[1;33m,\u001b[0m \u001b[1;36m0.2\u001b[0m\u001b[1;33m)\u001b[0m\u001b[1;33m]\u001b[0m\u001b[1;33m\u001b[0m\u001b[1;33m\u001b[0m\u001b[0m\n\u001b[0;32m      2\u001b[0m \u001b[0mresults_1\u001b[0m \u001b[1;33m=\u001b[0m \u001b[0mdict\u001b[0m\u001b[1;33m(\u001b[0m\u001b[1;33m)\u001b[0m\u001b[1;33m\u001b[0m\u001b[1;33m\u001b[0m\u001b[0m\n\u001b[1;32m----> 3\u001b[1;33m \u001b[0mresults_1\u001b[0m\u001b[1;33m[\u001b[0m\u001b[1;34m'shgo'\u001b[0m\u001b[1;33m]\u001b[0m \u001b[1;33m=\u001b[0m \u001b[0moptimize\u001b[0m\u001b[1;33m.\u001b[0m\u001b[0mshgo\u001b[0m\u001b[1;33m(\u001b[0m\u001b[0mch4_ADM_DNN\u001b[0m\u001b[1;33m,\u001b[0m \u001b[0mbounds_1\u001b[0m\u001b[1;33m,\u001b[0m \u001b[0mn\u001b[0m\u001b[1;33m=\u001b[0m\u001b[1;36m20\u001b[0m\u001b[1;33m,\u001b[0m \u001b[0miters\u001b[0m\u001b[1;33m=\u001b[0m\u001b[1;36m150\u001b[0m\u001b[1;33m)\u001b[0m\u001b[1;33m\u001b[0m\u001b[1;33m\u001b[0m\u001b[0m\n\u001b[0m\u001b[0;32m      4\u001b[0m \u001b[0mresults_1\u001b[0m\u001b[1;33m[\u001b[0m\u001b[1;34m'shgo'\u001b[0m\u001b[1;33m]\u001b[0m\u001b[1;33m\u001b[0m\u001b[1;33m\u001b[0m\u001b[0m\n",
      "\u001b[1;32mD:\\Anaconda\\lib\\site-packages\\scipy\\optimize\\_shgo.py\u001b[0m in \u001b[0;36mshgo\u001b[1;34m(func, bounds, args, constraints, n, iters, callback, minimizer_kwargs, options, sampling_method)\u001b[0m\n\u001b[0;32m    419\u001b[0m \u001b[1;33m\u001b[0m\u001b[0m\n\u001b[0;32m    420\u001b[0m     \u001b[1;31m# Run the algorithm, process results and test success\u001b[0m\u001b[1;33m\u001b[0m\u001b[1;33m\u001b[0m\u001b[1;33m\u001b[0m\u001b[0m\n\u001b[1;32m--> 421\u001b[1;33m     \u001b[0mshc\u001b[0m\u001b[1;33m.\u001b[0m\u001b[0mconstruct_complex\u001b[0m\u001b[1;33m(\u001b[0m\u001b[1;33m)\u001b[0m\u001b[1;33m\u001b[0m\u001b[1;33m\u001b[0m\u001b[0m\n\u001b[0m\u001b[0;32m    422\u001b[0m \u001b[1;33m\u001b[0m\u001b[0m\n\u001b[0;32m    423\u001b[0m     \u001b[1;32mif\u001b[0m \u001b[1;32mnot\u001b[0m \u001b[0mshc\u001b[0m\u001b[1;33m.\u001b[0m\u001b[0mbreak_routine\u001b[0m\u001b[1;33m:\u001b[0m\u001b[1;33m\u001b[0m\u001b[1;33m\u001b[0m\u001b[0m\n",
      "\u001b[1;32mD:\\Anaconda\\lib\\site-packages\\scipy\\optimize\\_shgo.py\u001b[0m in \u001b[0;36mconstruct_complex\u001b[1;34m(self)\u001b[0m\n\u001b[0;32m    724\u001b[0m                 \u001b[1;32mbreak\u001b[0m\u001b[1;33m\u001b[0m\u001b[1;33m\u001b[0m\u001b[0m\n\u001b[0;32m    725\u001b[0m             \u001b[1;31m# Iterate complex, process minimisers\u001b[0m\u001b[1;33m\u001b[0m\u001b[1;33m\u001b[0m\u001b[1;33m\u001b[0m\u001b[0m\n\u001b[1;32m--> 726\u001b[1;33m             \u001b[0mself\u001b[0m\u001b[1;33m.\u001b[0m\u001b[0miterate\u001b[0m\u001b[1;33m(\u001b[0m\u001b[1;33m)\u001b[0m\u001b[1;33m\u001b[0m\u001b[1;33m\u001b[0m\u001b[0m\n\u001b[0m\u001b[0;32m    727\u001b[0m             \u001b[0mself\u001b[0m\u001b[1;33m.\u001b[0m\u001b[0mstopping_criteria\u001b[0m\u001b[1;33m(\u001b[0m\u001b[1;33m)\u001b[0m\u001b[1;33m\u001b[0m\u001b[1;33m\u001b[0m\u001b[0m\n\u001b[0;32m    728\u001b[0m \u001b[1;33m\u001b[0m\u001b[0m\n",
      "\u001b[1;32mD:\\Anaconda\\lib\\site-packages\\scipy\\optimize\\_shgo.py\u001b[0m in \u001b[0;36miterate\u001b[1;34m(self)\u001b[0m\n\u001b[0;32m    867\u001b[0m \u001b[1;33m\u001b[0m\u001b[0m\n\u001b[0;32m    868\u001b[0m     \u001b[1;32mdef\u001b[0m \u001b[0miterate\u001b[0m\u001b[1;33m(\u001b[0m\u001b[0mself\u001b[0m\u001b[1;33m)\u001b[0m\u001b[1;33m:\u001b[0m\u001b[1;33m\u001b[0m\u001b[1;33m\u001b[0m\u001b[0m\n\u001b[1;32m--> 869\u001b[1;33m         \u001b[0mself\u001b[0m\u001b[1;33m.\u001b[0m\u001b[0miterate_complex\u001b[0m\u001b[1;33m(\u001b[0m\u001b[1;33m)\u001b[0m\u001b[1;33m\u001b[0m\u001b[1;33m\u001b[0m\u001b[0m\n\u001b[0m\u001b[0;32m    870\u001b[0m \u001b[1;33m\u001b[0m\u001b[0m\n\u001b[0;32m    871\u001b[0m         \u001b[1;31m# Build minimizer pool\u001b[0m\u001b[1;33m\u001b[0m\u001b[1;33m\u001b[0m\u001b[1;33m\u001b[0m\u001b[0m\n",
      "\u001b[1;32mD:\\Anaconda\\lib\\site-packages\\scipy\\optimize\\_shgo.py\u001b[0m in \u001b[0;36miterate_hypercube\u001b[1;34m(self)\u001b[0m\n\u001b[0;32m    890\u001b[0m                               self.g_args)\n\u001b[0;32m    891\u001b[0m         \u001b[1;32melse\u001b[0m\u001b[1;33m:\u001b[0m\u001b[1;33m\u001b[0m\u001b[1;33m\u001b[0m\u001b[0m\n\u001b[1;32m--> 892\u001b[1;33m             \u001b[0mself\u001b[0m\u001b[1;33m.\u001b[0m\u001b[0mHC\u001b[0m\u001b[1;33m.\u001b[0m\u001b[0msplit_generation\u001b[0m\u001b[1;33m(\u001b[0m\u001b[1;33m)\u001b[0m\u001b[1;33m\u001b[0m\u001b[1;33m\u001b[0m\u001b[0m\n\u001b[0m\u001b[0;32m    893\u001b[0m \u001b[1;33m\u001b[0m\u001b[0m\n\u001b[0;32m    894\u001b[0m         \u001b[1;31m# feasible sampling points counted by the triangulation.py routines\u001b[0m\u001b[1;33m\u001b[0m\u001b[1;33m\u001b[0m\u001b[1;33m\u001b[0m\u001b[0m\n",
      "\u001b[1;32mD:\\Anaconda\\lib\\site-packages\\scipy\\optimize\\_shgo_lib\\triangulation.py\u001b[0m in \u001b[0;36msplit_generation\u001b[1;34m(self)\u001b[0m\n\u001b[0;32m    236\u001b[0m                     \u001b[0mself\u001b[0m\u001b[1;33m.\u001b[0m\u001b[0msplit_simplex_symmetry\u001b[0m\u001b[1;33m(\u001b[0m\u001b[0mc\u001b[0m\u001b[1;33m,\u001b[0m \u001b[0mself\u001b[0m\u001b[1;33m.\u001b[0m\u001b[0mgen\u001b[0m \u001b[1;33m+\u001b[0m \u001b[1;36m1\u001b[0m\u001b[1;33m)\u001b[0m\u001b[1;33m\u001b[0m\u001b[1;33m\u001b[0m\u001b[0m\n\u001b[0;32m    237\u001b[0m                 \u001b[1;32melse\u001b[0m\u001b[1;33m:\u001b[0m\u001b[1;33m\u001b[0m\u001b[1;33m\u001b[0m\u001b[0m\n\u001b[1;32m--> 238\u001b[1;33m                     \u001b[0mself\u001b[0m\u001b[1;33m.\u001b[0m\u001b[0msub_generate_cell\u001b[0m\u001b[1;33m(\u001b[0m\u001b[0mc\u001b[0m\u001b[1;33m,\u001b[0m \u001b[0mself\u001b[0m\u001b[1;33m.\u001b[0m\u001b[0mgen\u001b[0m \u001b[1;33m+\u001b[0m \u001b[1;36m1\u001b[0m\u001b[1;33m)\u001b[0m\u001b[1;33m\u001b[0m\u001b[1;33m\u001b[0m\u001b[0m\n\u001b[0m\u001b[0;32m    239\u001b[0m         \u001b[1;32mexcept\u001b[0m \u001b[0mIndexError\u001b[0m\u001b[1;33m:\u001b[0m\u001b[1;33m\u001b[0m\u001b[1;33m\u001b[0m\u001b[0m\n\u001b[0;32m    240\u001b[0m             \u001b[0mno_splits\u001b[0m \u001b[1;33m=\u001b[0m \u001b[1;32mTrue\u001b[0m  \u001b[1;31m# USED IN SHGO\u001b[0m\u001b[1;33m\u001b[0m\u001b[1;33m\u001b[0m\u001b[0m\n",
      "\u001b[1;32mD:\\Anaconda\\lib\\site-packages\\scipy\\optimize\\_shgo_lib\\triangulation.py\u001b[0m in \u001b[0;36msub_generate_cell\u001b[1;34m(self, C_i, gen)\u001b[0m\n\u001b[0;32m    208\u001b[0m             \u001b[0msupremum\u001b[0m \u001b[1;33m=\u001b[0m \u001b[0mtuple\u001b[0m\u001b[1;33m(\u001b[0m\u001b[0mv\u001b[0m\u001b[1;33m.\u001b[0m\u001b[0mx\u001b[0m\u001b[1;33m)\u001b[0m\u001b[1;33m\u001b[0m\u001b[1;33m\u001b[0m\u001b[0m\n\u001b[0;32m    209\u001b[0m             H_new.append(\n\u001b[1;32m--> 210\u001b[1;33m                 self.construct_hypercube(origin_new, supremum, gen, C_i.hg_n))\n\u001b[0m\u001b[0;32m    211\u001b[0m \u001b[1;33m\u001b[0m\u001b[0m\n\u001b[0;32m    212\u001b[0m         \u001b[1;32mfor\u001b[0m \u001b[0mi\u001b[0m\u001b[1;33m,\u001b[0m \u001b[0mconnections\u001b[0m \u001b[1;32min\u001b[0m \u001b[0menumerate\u001b[0m\u001b[1;33m(\u001b[0m\u001b[0mself\u001b[0m\u001b[1;33m.\u001b[0m\u001b[0mgraph\u001b[0m\u001b[1;33m)\u001b[0m\u001b[1;33m:\u001b[0m\u001b[1;33m\u001b[0m\u001b[1;33m\u001b[0m\u001b[0m\n",
      "\u001b[1;32mD:\\Anaconda\\lib\\site-packages\\scipy\\optimize\\_shgo_lib\\triangulation.py\u001b[0m in \u001b[0;36mconstruct_hypercube\u001b[1;34m(self, origin, supremum, gen, hgr, printout)\u001b[0m\n\u001b[0;32m    277\u001b[0m \u001b[1;33m\u001b[0m\u001b[0m\n\u001b[0;32m    278\u001b[0m         \u001b[1;31m# Add new centroid\u001b[0m\u001b[1;33m\u001b[0m\u001b[1;33m\u001b[0m\u001b[1;33m\u001b[0m\u001b[0m\n\u001b[1;32m--> 279\u001b[1;33m         \u001b[0mC_new\u001b[0m\u001b[1;33m.\u001b[0m\u001b[0madd_vertex\u001b[0m\u001b[1;33m(\u001b[0m\u001b[0mself\u001b[0m\u001b[1;33m.\u001b[0m\u001b[0mV\u001b[0m\u001b[1;33m[\u001b[0m\u001b[0mC_new\u001b[0m\u001b[1;33m.\u001b[0m\u001b[0mcentroid\u001b[0m\u001b[1;33m]\u001b[0m\u001b[1;33m)\u001b[0m\u001b[1;33m\u001b[0m\u001b[1;33m\u001b[0m\u001b[0m\n\u001b[0m\u001b[0;32m    280\u001b[0m         \u001b[0mV_new\u001b[0m\u001b[1;33m.\u001b[0m\u001b[0mappend\u001b[0m\u001b[1;33m(\u001b[0m\u001b[0mC_new\u001b[0m\u001b[1;33m.\u001b[0m\u001b[0mcentroid\u001b[0m\u001b[1;33m)\u001b[0m\u001b[1;33m\u001b[0m\u001b[1;33m\u001b[0m\u001b[0m\n\u001b[0;32m    281\u001b[0m \u001b[1;33m\u001b[0m\u001b[0m\n",
      "\u001b[1;32mD:\\Anaconda\\lib\\site-packages\\scipy\\optimize\\_shgo_lib\\triangulation.py\u001b[0m in \u001b[0;36m__getitem__\u001b[1;34m(self, x, indexed)\u001b[0m\n\u001b[0;32m    636\u001b[0m                               \u001b[0mg_cons\u001b[0m\u001b[1;33m=\u001b[0m\u001b[0mself\u001b[0m\u001b[1;33m.\u001b[0m\u001b[0mg_cons\u001b[0m\u001b[1;33m,\u001b[0m\u001b[1;33m\u001b[0m\u001b[1;33m\u001b[0m\u001b[0m\n\u001b[0;32m    637\u001b[0m                               \u001b[0mg_cons_args\u001b[0m\u001b[1;33m=\u001b[0m\u001b[0mself\u001b[0m\u001b[1;33m.\u001b[0m\u001b[0mg_cons_args\u001b[0m\u001b[1;33m,\u001b[0m\u001b[1;33m\u001b[0m\u001b[1;33m\u001b[0m\u001b[0m\n\u001b[1;32m--> 638\u001b[1;33m                               index=self.index)\n\u001b[0m\u001b[0;32m    639\u001b[0m             \u001b[1;32melse\u001b[0m\u001b[1;33m:\u001b[0m\u001b[1;33m\u001b[0m\u001b[1;33m\u001b[0m\u001b[0m\n\u001b[0;32m    640\u001b[0m                 xval = Vertex(x, bounds=self.bounds,\n",
      "\u001b[1;32mD:\\Anaconda\\lib\\site-packages\\scipy\\optimize\\_shgo_lib\\triangulation.py\u001b[0m in \u001b[0;36m__init__\u001b[1;34m(self, x, bounds, func, func_args, g_cons, g_cons_args, nn, index)\u001b[0m\n\u001b[0;32m    555\u001b[0m                         \u001b[1;32mbreak\u001b[0m\u001b[1;33m\u001b[0m\u001b[1;33m\u001b[0m\u001b[0m\n\u001b[0;32m    556\u001b[0m             \u001b[1;32mif\u001b[0m \u001b[0mself\u001b[0m\u001b[1;33m.\u001b[0m\u001b[0mfeasible\u001b[0m\u001b[1;33m:\u001b[0m\u001b[1;33m\u001b[0m\u001b[1;33m\u001b[0m\u001b[0m\n\u001b[1;32m--> 557\u001b[1;33m                 \u001b[0mself\u001b[0m\u001b[1;33m.\u001b[0m\u001b[0mf\u001b[0m \u001b[1;33m=\u001b[0m \u001b[0mfunc\u001b[0m\u001b[1;33m(\u001b[0m\u001b[0mx_a\u001b[0m\u001b[1;33m,\u001b[0m \u001b[1;33m*\u001b[0m\u001b[0mfunc_args\u001b[0m\u001b[1;33m)\u001b[0m\u001b[1;33m\u001b[0m\u001b[1;33m\u001b[0m\u001b[0m\n\u001b[0m\u001b[0;32m    558\u001b[0m \u001b[1;33m\u001b[0m\u001b[0m\n\u001b[0;32m    559\u001b[0m         \u001b[1;32mif\u001b[0m \u001b[0mnn\u001b[0m \u001b[1;32mis\u001b[0m \u001b[1;32mnot\u001b[0m \u001b[1;32mNone\u001b[0m\u001b[1;33m:\u001b[0m\u001b[1;33m\u001b[0m\u001b[1;33m\u001b[0m\u001b[0m\n",
      "\u001b[1;32m<ipython-input-228-4639ac52a6f3>\u001b[0m in \u001b[0;36mch4_ADM_DNN\u001b[1;34m(Dil_test)\u001b[0m\n\u001b[0;32m     16\u001b[0m \u001b[1;33m\u001b[0m\u001b[0m\n\u001b[0;32m     17\u001b[0m \u001b[1;31m#     gg_opt_test = eng.ADM_Sim_ML_remote(0.8147, 0.0791, 0.1062, float(Dil_test))\u001b[0m\u001b[1;33m\u001b[0m\u001b[1;33m\u001b[0m\u001b[1;33m\u001b[0m\u001b[0m\n\u001b[1;32m---> 18\u001b[1;33m     \u001b[0mpred_sample_opt\u001b[0m \u001b[1;33m=\u001b[0m \u001b[0mnet\u001b[0m\u001b[1;33m(\u001b[0m\u001b[0mDNN_test\u001b[0m\u001b[1;33m)\u001b[0m\u001b[1;33m\u001b[0m\u001b[1;33m\u001b[0m\u001b[0m\n\u001b[0m\u001b[0;32m     19\u001b[0m     \u001b[0mpred_sample_opt\u001b[0m \u001b[1;33m=\u001b[0m \u001b[0mpred_sample_opt\u001b[0m\u001b[1;33m.\u001b[0m\u001b[0mdetach\u001b[0m\u001b[1;33m(\u001b[0m\u001b[1;33m)\u001b[0m\u001b[1;33m.\u001b[0m\u001b[0mnumpy\u001b[0m\u001b[1;33m(\u001b[0m\u001b[1;33m)\u001b[0m\u001b[1;33m\u001b[0m\u001b[1;33m\u001b[0m\u001b[0m\n\u001b[0;32m     20\u001b[0m \u001b[1;33m\u001b[0m\u001b[0m\n",
      "\u001b[1;32mD:\\Anaconda\\lib\\site-packages\\torch\\nn\\modules\\module.py\u001b[0m in \u001b[0;36m__call__\u001b[1;34m(self, *input, **kwargs)\u001b[0m\n\u001b[0;32m    530\u001b[0m             \u001b[0mresult\u001b[0m \u001b[1;33m=\u001b[0m \u001b[0mself\u001b[0m\u001b[1;33m.\u001b[0m\u001b[0m_slow_forward\u001b[0m\u001b[1;33m(\u001b[0m\u001b[1;33m*\u001b[0m\u001b[0minput\u001b[0m\u001b[1;33m,\u001b[0m \u001b[1;33m**\u001b[0m\u001b[0mkwargs\u001b[0m\u001b[1;33m)\u001b[0m\u001b[1;33m\u001b[0m\u001b[1;33m\u001b[0m\u001b[0m\n\u001b[0;32m    531\u001b[0m         \u001b[1;32melse\u001b[0m\u001b[1;33m:\u001b[0m\u001b[1;33m\u001b[0m\u001b[1;33m\u001b[0m\u001b[0m\n\u001b[1;32m--> 532\u001b[1;33m             \u001b[0mresult\u001b[0m \u001b[1;33m=\u001b[0m \u001b[0mself\u001b[0m\u001b[1;33m.\u001b[0m\u001b[0mforward\u001b[0m\u001b[1;33m(\u001b[0m\u001b[1;33m*\u001b[0m\u001b[0minput\u001b[0m\u001b[1;33m,\u001b[0m \u001b[1;33m**\u001b[0m\u001b[0mkwargs\u001b[0m\u001b[1;33m)\u001b[0m\u001b[1;33m\u001b[0m\u001b[1;33m\u001b[0m\u001b[0m\n\u001b[0m\u001b[0;32m    533\u001b[0m         \u001b[1;32mfor\u001b[0m \u001b[0mhook\u001b[0m \u001b[1;32min\u001b[0m \u001b[0mself\u001b[0m\u001b[1;33m.\u001b[0m\u001b[0m_forward_hooks\u001b[0m\u001b[1;33m.\u001b[0m\u001b[0mvalues\u001b[0m\u001b[1;33m(\u001b[0m\u001b[1;33m)\u001b[0m\u001b[1;33m:\u001b[0m\u001b[1;33m\u001b[0m\u001b[1;33m\u001b[0m\u001b[0m\n\u001b[0;32m    534\u001b[0m             \u001b[0mhook_result\u001b[0m \u001b[1;33m=\u001b[0m \u001b[0mhook\u001b[0m\u001b[1;33m(\u001b[0m\u001b[0mself\u001b[0m\u001b[1;33m,\u001b[0m \u001b[0minput\u001b[0m\u001b[1;33m,\u001b[0m \u001b[0mresult\u001b[0m\u001b[1;33m)\u001b[0m\u001b[1;33m\u001b[0m\u001b[1;33m\u001b[0m\u001b[0m\n",
      "\u001b[1;32mD:\\Anaconda\\lib\\site-packages\\torch\\nn\\modules\\container.py\u001b[0m in \u001b[0;36mforward\u001b[1;34m(self, input)\u001b[0m\n\u001b[0;32m     98\u001b[0m     \u001b[1;32mdef\u001b[0m \u001b[0mforward\u001b[0m\u001b[1;33m(\u001b[0m\u001b[0mself\u001b[0m\u001b[1;33m,\u001b[0m \u001b[0minput\u001b[0m\u001b[1;33m)\u001b[0m\u001b[1;33m:\u001b[0m\u001b[1;33m\u001b[0m\u001b[1;33m\u001b[0m\u001b[0m\n\u001b[0;32m     99\u001b[0m         \u001b[1;32mfor\u001b[0m \u001b[0mmodule\u001b[0m \u001b[1;32min\u001b[0m \u001b[0mself\u001b[0m\u001b[1;33m:\u001b[0m\u001b[1;33m\u001b[0m\u001b[1;33m\u001b[0m\u001b[0m\n\u001b[1;32m--> 100\u001b[1;33m             \u001b[0minput\u001b[0m \u001b[1;33m=\u001b[0m \u001b[0mmodule\u001b[0m\u001b[1;33m(\u001b[0m\u001b[0minput\u001b[0m\u001b[1;33m)\u001b[0m\u001b[1;33m\u001b[0m\u001b[1;33m\u001b[0m\u001b[0m\n\u001b[0m\u001b[0;32m    101\u001b[0m         \u001b[1;32mreturn\u001b[0m \u001b[0minput\u001b[0m\u001b[1;33m\u001b[0m\u001b[1;33m\u001b[0m\u001b[0m\n\u001b[0;32m    102\u001b[0m \u001b[1;33m\u001b[0m\u001b[0m\n",
      "\u001b[1;32mD:\\Anaconda\\lib\\site-packages\\torch\\nn\\modules\\module.py\u001b[0m in \u001b[0;36m__call__\u001b[1;34m(self, *input, **kwargs)\u001b[0m\n\u001b[0;32m    530\u001b[0m             \u001b[0mresult\u001b[0m \u001b[1;33m=\u001b[0m \u001b[0mself\u001b[0m\u001b[1;33m.\u001b[0m\u001b[0m_slow_forward\u001b[0m\u001b[1;33m(\u001b[0m\u001b[1;33m*\u001b[0m\u001b[0minput\u001b[0m\u001b[1;33m,\u001b[0m \u001b[1;33m**\u001b[0m\u001b[0mkwargs\u001b[0m\u001b[1;33m)\u001b[0m\u001b[1;33m\u001b[0m\u001b[1;33m\u001b[0m\u001b[0m\n\u001b[0;32m    531\u001b[0m         \u001b[1;32melse\u001b[0m\u001b[1;33m:\u001b[0m\u001b[1;33m\u001b[0m\u001b[1;33m\u001b[0m\u001b[0m\n\u001b[1;32m--> 532\u001b[1;33m             \u001b[0mresult\u001b[0m \u001b[1;33m=\u001b[0m \u001b[0mself\u001b[0m\u001b[1;33m.\u001b[0m\u001b[0mforward\u001b[0m\u001b[1;33m(\u001b[0m\u001b[1;33m*\u001b[0m\u001b[0minput\u001b[0m\u001b[1;33m,\u001b[0m \u001b[1;33m**\u001b[0m\u001b[0mkwargs\u001b[0m\u001b[1;33m)\u001b[0m\u001b[1;33m\u001b[0m\u001b[1;33m\u001b[0m\u001b[0m\n\u001b[0m\u001b[0;32m    533\u001b[0m         \u001b[1;32mfor\u001b[0m \u001b[0mhook\u001b[0m \u001b[1;32min\u001b[0m \u001b[0mself\u001b[0m\u001b[1;33m.\u001b[0m\u001b[0m_forward_hooks\u001b[0m\u001b[1;33m.\u001b[0m\u001b[0mvalues\u001b[0m\u001b[1;33m(\u001b[0m\u001b[1;33m)\u001b[0m\u001b[1;33m:\u001b[0m\u001b[1;33m\u001b[0m\u001b[1;33m\u001b[0m\u001b[0m\n\u001b[0;32m    534\u001b[0m             \u001b[0mhook_result\u001b[0m \u001b[1;33m=\u001b[0m \u001b[0mhook\u001b[0m\u001b[1;33m(\u001b[0m\u001b[0mself\u001b[0m\u001b[1;33m,\u001b[0m \u001b[0minput\u001b[0m\u001b[1;33m,\u001b[0m \u001b[0mresult\u001b[0m\u001b[1;33m)\u001b[0m\u001b[1;33m\u001b[0m\u001b[1;33m\u001b[0m\u001b[0m\n",
      "\u001b[1;32mD:\\Anaconda\\lib\\site-packages\\torch\\nn\\modules\\linear.py\u001b[0m in \u001b[0;36mforward\u001b[1;34m(self, input)\u001b[0m\n\u001b[0;32m     85\u001b[0m \u001b[1;33m\u001b[0m\u001b[0m\n\u001b[0;32m     86\u001b[0m     \u001b[1;32mdef\u001b[0m \u001b[0mforward\u001b[0m\u001b[1;33m(\u001b[0m\u001b[0mself\u001b[0m\u001b[1;33m,\u001b[0m \u001b[0minput\u001b[0m\u001b[1;33m)\u001b[0m\u001b[1;33m:\u001b[0m\u001b[1;33m\u001b[0m\u001b[1;33m\u001b[0m\u001b[0m\n\u001b[1;32m---> 87\u001b[1;33m         \u001b[1;32mreturn\u001b[0m \u001b[0mF\u001b[0m\u001b[1;33m.\u001b[0m\u001b[0mlinear\u001b[0m\u001b[1;33m(\u001b[0m\u001b[0minput\u001b[0m\u001b[1;33m,\u001b[0m \u001b[0mself\u001b[0m\u001b[1;33m.\u001b[0m\u001b[0mweight\u001b[0m\u001b[1;33m,\u001b[0m \u001b[0mself\u001b[0m\u001b[1;33m.\u001b[0m\u001b[0mbias\u001b[0m\u001b[1;33m)\u001b[0m\u001b[1;33m\u001b[0m\u001b[1;33m\u001b[0m\u001b[0m\n\u001b[0m\u001b[0;32m     88\u001b[0m \u001b[1;33m\u001b[0m\u001b[0m\n\u001b[0;32m     89\u001b[0m     \u001b[1;32mdef\u001b[0m \u001b[0mextra_repr\u001b[0m\u001b[1;33m(\u001b[0m\u001b[0mself\u001b[0m\u001b[1;33m)\u001b[0m\u001b[1;33m:\u001b[0m\u001b[1;33m\u001b[0m\u001b[1;33m\u001b[0m\u001b[0m\n",
      "\u001b[1;32mD:\\Anaconda\\lib\\site-packages\\torch\\nn\\functional.py\u001b[0m in \u001b[0;36mlinear\u001b[1;34m(input, weight, bias)\u001b[0m\n\u001b[0;32m   1372\u001b[0m         \u001b[0moutput\u001b[0m \u001b[1;33m=\u001b[0m \u001b[0minput\u001b[0m\u001b[1;33m.\u001b[0m\u001b[0mmatmul\u001b[0m\u001b[1;33m(\u001b[0m\u001b[0mweight\u001b[0m\u001b[1;33m.\u001b[0m\u001b[0mt\u001b[0m\u001b[1;33m(\u001b[0m\u001b[1;33m)\u001b[0m\u001b[1;33m)\u001b[0m\u001b[1;33m\u001b[0m\u001b[1;33m\u001b[0m\u001b[0m\n\u001b[0;32m   1373\u001b[0m         \u001b[1;32mif\u001b[0m \u001b[0mbias\u001b[0m \u001b[1;32mis\u001b[0m \u001b[1;32mnot\u001b[0m \u001b[1;32mNone\u001b[0m\u001b[1;33m:\u001b[0m\u001b[1;33m\u001b[0m\u001b[1;33m\u001b[0m\u001b[0m\n\u001b[1;32m-> 1374\u001b[1;33m             \u001b[0moutput\u001b[0m \u001b[1;33m+=\u001b[0m \u001b[0mbias\u001b[0m\u001b[1;33m\u001b[0m\u001b[1;33m\u001b[0m\u001b[0m\n\u001b[0m\u001b[0;32m   1375\u001b[0m         \u001b[0mret\u001b[0m \u001b[1;33m=\u001b[0m \u001b[0moutput\u001b[0m\u001b[1;33m\u001b[0m\u001b[1;33m\u001b[0m\u001b[0m\n\u001b[0;32m   1376\u001b[0m     \u001b[1;32mreturn\u001b[0m \u001b[0mret\u001b[0m\u001b[1;33m\u001b[0m\u001b[1;33m\u001b[0m\u001b[0m\n",
      "\u001b[1;31mKeyboardInterrupt\u001b[0m: "
     ]
    }
   ],
   "source": [
    "# bounds_1 = [(0, 0.2)]\n",
    "# results_1 = dict()\n",
    "# results_1['shgo'] = optimize.shgo(ch4_ADM_DNN, bounds_1, n=20, iters=150)\n",
    "# results_1['shgo']"
   ]
  },
  {
   "cell_type": "code",
   "execution_count": 65,
   "metadata": {},
   "outputs": [
    {
     "name": "stdout",
     "output_type": "stream",
     "text": [
      "Systemzeit: 2.449s\n"
     ]
    }
   ],
   "source": [
    "bounds_1 = [(0, 0.2)]\n",
    "results_2 = dict()\n",
    "start_proc = time.time()\n",
    "results_2['shgo_sobol'] = optimize.shgo(ch4_ADM_DNN, bounds_1, args=(max_f, target_ch4, sub), n=20, iters=60,\n",
    "                                      sampling_method='sobol')\n",
    "ende_proc = time.time()\n",
    "print('Systemzeit: {:5.3f}s'.format(ende_proc-start_proc))"
   ]
  },
  {
   "cell_type": "code",
   "execution_count": 487,
   "metadata": {},
   "outputs": [
    {
     "ename": "TypeError",
     "evalue": "unsupported operand type(s) for -: 'float' and 'list'",
     "output_type": "error",
     "traceback": [
      "\u001b[1;31m---------------------------------------------------------------------------\u001b[0m",
      "\u001b[1;31mTypeError\u001b[0m                                 Traceback (most recent call last)",
      "\u001b[1;32m<ipython-input-487-2143832c3bc3>\u001b[0m in \u001b[0;36m<module>\u001b[1;34m\u001b[0m\n\u001b[0;32m      4\u001b[0m                                       sampling_method='sobol')\n\u001b[0;32m      5\u001b[0m \u001b[0mende_proc_2\u001b[0m \u001b[1;33m=\u001b[0m \u001b[0mtime\u001b[0m\u001b[1;33m.\u001b[0m\u001b[0mtime\u001b[0m\u001b[1;33m(\u001b[0m\u001b[1;33m)\u001b[0m\u001b[1;33m\u001b[0m\u001b[1;33m\u001b[0m\u001b[0m\n\u001b[1;32m----> 6\u001b[1;33m \u001b[0mprint\u001b[0m\u001b[1;33m(\u001b[0m\u001b[1;34m'Systemzeit: {:5.3f}s'\u001b[0m\u001b[1;33m.\u001b[0m\u001b[0mformat\u001b[0m\u001b[1;33m(\u001b[0m\u001b[0mende_proc_2\u001b[0m\u001b[1;33m-\u001b[0m\u001b[0mstart_proc_1\u001b[0m\u001b[1;33m)\u001b[0m\u001b[1;33m)\u001b[0m\u001b[1;33m\u001b[0m\u001b[1;33m\u001b[0m\u001b[0m\n\u001b[0m",
      "\u001b[1;31mTypeError\u001b[0m: unsupported operand type(s) for -: 'float' and 'list'"
     ]
    }
   ],
   "source": [
    "\n",
    "results_3 = dict()\n",
    "start_proc_2 = time.time()\n",
    "results_3['shgo_sobol'] = optimize.shgo(ch4_ADM, bounds_1, n=20, iters=60,\n",
    "                                      sampling_method='sobol')\n",
    "ende_proc_2 = time.time()\n",
    "print('Systemzeit: {:5.3f}s'.format(ende_proc_2-start_proc_2))"
   ]
  },
  {
   "cell_type": "code",
   "execution_count": 66,
   "metadata": {},
   "outputs": [
    {
     "data": {
      "text/plain": [
       "1.5692005099118647e-07"
      ]
     },
     "execution_count": 66,
     "metadata": {},
     "output_type": "execute_result"
    }
   ],
   "source": [
    "results_2['shgo_sobol'].fun"
   ]
  },
  {
   "cell_type": "code",
   "execution_count": 67,
   "metadata": {},
   "outputs": [],
   "source": [
    "x_sobol = float(results_2['shgo_sobol'].x)"
   ]
  },
  {
   "cell_type": "code",
   "execution_count": 74,
   "metadata": {},
   "outputs": [
    {
     "name": "stdout",
     "output_type": "stream",
     "text": [
      "0.022193523444705664\n"
     ]
    }
   ],
   "source": [
    "x_minimize = float(dil_fun[0])\n",
    "print(x_minimize)"
   ]
  },
  {
   "cell_type": "code",
   "execution_count": 69,
   "metadata": {},
   "outputs": [
    {
     "name": "stdout",
     "output_type": "stream",
     "text": [
      "1249.9996038686443\n"
     ]
    }
   ],
   "source": [
    "sub = [0.8147, 0.0791, 0.1062, results_2['shgo_sobol'].x]\n",
    "DNN_test = torch.tensor(sub, dtype=torch.float)\n",
    "pred_sample_val = net(DNN_test)\n",
    "print(pred_sample_val[-1].detach().numpy() * 2570.348355)"
   ]
  },
  {
   "cell_type": "code",
   "execution_count": 71,
   "metadata": {},
   "outputs": [
    {
     "data": {
      "text/plain": [
       "(100, 2)"
      ]
     },
     "execution_count": 71,
     "metadata": {},
     "output_type": "execute_result"
    }
   ],
   "source": [
    "gas_sobol = np.array(eng.ADM_Sim_ML_remote(carbo, protein, fat, x_sobol))\n",
    "# print(gas_sobol)\n",
    "gas_sobol.shape"
   ]
  },
  {
   "cell_type": "code",
   "execution_count": 75,
   "metadata": {},
   "outputs": [
    {
     "data": {
      "text/plain": [
       "(100, 2)"
      ]
     },
     "execution_count": 75,
     "metadata": {},
     "output_type": "execute_result"
    }
   ],
   "source": [
    "gas_minimize = np.array(eng.ADM_Sim_ML_remote(carbo, protein, fat, x_minimize))\n",
    "gas_minimize.shape"
   ]
  },
  {
   "cell_type": "code",
   "execution_count": 76,
   "metadata": {},
   "outputs": [],
   "source": [
    "fig, ax = plt.subplots()\n",
    "ax.plot(gg_np[:,1], np.reshape(gas_sobol[:,0], (100,1)), 'r-.')\n",
    "ax.plot(gg_np[:,1], np.reshape(gas_minimize[:,0], (100,1)), 'b-.')\n",
    "ax.plot(gg_np[:,1], np.reshape(gg_np[:,0], (100,1)), 'y-.')\n",
    "ax.set_xlabel('Time [d]')\n",
    "ax.set_ylabel('Concentration [m³/d]')\n",
    "plt.show()"
   ]
  },
  {
   "cell_type": "code",
   "execution_count": null,
   "metadata": {},
   "outputs": [],
   "source": []
  },
  {
   "cell_type": "code",
   "execution_count": null,
   "metadata": {},
   "outputs": [],
   "source": []
  },
  {
   "cell_type": "code",
   "execution_count": null,
   "metadata": {},
   "outputs": [],
   "source": []
  },
  {
   "cell_type": "code",
   "execution_count": 177,
   "metadata": {},
   "outputs": [
    {
     "name": "stdout",
     "output_type": "stream",
     "text": [
      "Optimization terminated successfully.\n",
      "         Current function value: 0.000000\n",
      "         Iterations: 19\n",
      "         Function evaluations: 38\n",
      "[0.03928055]\n"
     ]
    }
   ],
   "source": [
    "# import numpy as np\n",
    "# from scipy.optimize import minimize\n",
    "\n",
    "# def ch4_ADM_DNN(Dil_test):\n",
    "#     \"\"\"ADM DNN Difference\"\"\"\n",
    "#     dil = float(Dil_test)\n",
    "    \n",
    "#     sub = [0.8147, 0.0791, 0.1062, 0]\n",
    "#     sub[3] = dil\n",
    "    \n",
    "#     max_f = 2570.348355\n",
    "    \n",
    "#     DNN_test = torch.tensor(sub, dtype=torch.float)\n",
    "    \n",
    "#     gg_opt_test = eng.ADM_Sim_ML_remote(0.8147, 0.0791, 0.1062, float(Dil_test))\n",
    "#     pred_sample = net(DNN_test)\n",
    "#     pred_sample = pred_sample.detach().numpy()\n",
    "    \n",
    "#     return (gg_opt_test[-1][0] - (pred_sample[-1] * max_f))**2\n",
    "\n",
    "# x0 = np.array([0.04])\n",
    "# res = minimize(ch4_ADM_DNN, x0, method='nelder-mead',\n",
    "#                options={'xatol': 1e-8, 'disp': True})\n",
    "\n",
    "# # Optimization terminated successfully.\n",
    "# #          Current function value: 0.000000\n",
    "# #          Iterations: 339\n",
    "# #          Function evaluations: 571\n",
    "\n",
    "# print(res.x)\n",
    "# # [1. 1. 1. 1. 1.]"
   ]
  },
  {
   "cell_type": "code",
   "execution_count": 176,
   "metadata": {},
   "outputs": [
    {
     "name": "stdout",
     "output_type": "stream",
     "text": [
      "[0.8147, 0.0791, 0.1062, 0.04]\n",
      "2036.672802666155\n",
      "2034.8197917846462\n",
      "2036.672802689514\n",
      "2034.8197917846462\n"
     ]
    },
    {
     "data": {
      "text/plain": [
       "3.433649413558567"
      ]
     },
     "execution_count": 176,
     "metadata": {},
     "output_type": "execute_result"
    }
   ],
   "source": [
    "## Test der einzelnen Variablentypen\n",
    "\n",
    "# x0 = 0.04\n",
    "# # sub[-1] = x0\n",
    "\n",
    "# sub_1 = []\n",
    "\n",
    "# sub = [0.8147, 0.0791, 0.1062]\n",
    "# # sub[3] = 0.04\n",
    "\n",
    "# sub_1 = sub.append(x0)\n",
    "\n",
    "# print(sub)\n",
    "\n",
    "# max_f = 2570.348355\n",
    "# DNN_test = torch.tensor(sub, dtype=torch.float)\n",
    "\n",
    "# DNN_test = torch.tensor(sub, dtype=torch.float)\n",
    "# pred_sample = net(DNN_test)\n",
    "\n",
    "# gg_opt_test = eng.ADM_Sim_ML_remote(0.8147, 0.0791, 0.1062, float(x0))\n",
    "\n",
    "# res_DNN = pred_sample[-1].detach().numpy()\n",
    "\n",
    "# print(res_DNN * max_field[-1])\n",
    "# print(gg_opt_test[-1][0])\n",
    "\n",
    "# zwischen = float((res_DNN * max_f))\n",
    "# zwischen_1 = float(np.array(gg_opt_test[-1][0]))\n",
    "\n",
    "# print(zwischen)\n",
    "# print(zwischen_1)\n",
    "\n",
    "# (zwischen_1 - zwischen)**2"
   ]
  },
  {
   "cell_type": "code",
   "execution_count": 43,
   "metadata": {},
   "outputs": [],
   "source": [
    "# x_new_1 = x_test\n",
    "# print(x_new_1)"
   ]
  },
  {
   "cell_type": "code",
   "execution_count": 81,
   "metadata": {},
   "outputs": [
    {
     "name": "stdout",
     "output_type": "stream",
     "text": [
      "[[0.8147 0.0791 0.1062 0.1338]\n",
      " [0.8147 0.0791 0.1062 0.1338]\n",
      " [0.8147 0.0791 0.1062 0.1338]\n",
      " ...\n",
      " [0.8147 0.0791 0.1062 0.1338]\n",
      " [0.8147 0.0791 0.1062 0.1338]\n",
      " [0.8147 0.0791 0.1062 0.1338]]\n"
     ]
    }
   ],
   "source": [
    "import numpy.matlib\n",
    "size = (10000, 1)\n",
    "\n",
    "x_new_1 = np.matlib.repmat(sub, size[0], size[1])\n",
    "print(x_new_1)"
   ]
  },
  {
   "cell_type": "code",
   "execution_count": 82,
   "metadata": {},
   "outputs": [],
   "source": [
    "dil_set = np.linspace(0,0.20,size[0])"
   ]
  },
  {
   "cell_type": "code",
   "execution_count": 83,
   "metadata": {},
   "outputs": [],
   "source": [
    "# Erstelle Liste mit möglichen Dilutionen bei Substrateingang\n",
    "dil_list = []\n",
    "test_list = []\n",
    "x_new = []\n",
    "x_t = np.zeros((size[0],4))\n",
    "\n",
    "for iii in range(size[0]):\n",
    "    x_new = x_new_1[0]\n",
    "    x_new[3] = dil_set[iii]\n",
    "    x_t[:][iii] = x_new "
   ]
  },
  {
   "cell_type": "code",
   "execution_count": 84,
   "metadata": {},
   "outputs": [],
   "source": [
    "# # Erstelle Liste mit möglichen Dilutionen bei Substrateingang\n",
    "\n",
    "# dil_list = []\n",
    "# test_list = []\n",
    "# x_new = []\n",
    "# x_t = np.zeros((size[0],4))\n",
    "# # print(x_t)\n",
    "# for iii in range(size[0]):\n",
    "#     dil_list.append((iii+1)/size[0])\n",
    "# #     x_new = x_new_1[0].numpy()\n",
    "#     x_new = x_new_1[0]\n",
    "#     x_new[3] = (iii+1)/size[0]\n",
    "#     test_list.append(x_new[:])\n",
    "# #     print(x_new)\n",
    "#     x_t[:][iii] = x_new "
   ]
  },
  {
   "cell_type": "code",
   "execution_count": 85,
   "metadata": {},
   "outputs": [
    {
     "name": "stdout",
     "output_type": "stream",
     "text": [
      "[[8.14700000e-01 7.91000000e-02 1.06200000e-01 0.00000000e+00]\n",
      " [8.14700000e-01 7.91000000e-02 1.06200000e-01 2.00020002e-05]\n",
      " [8.14700000e-01 7.91000000e-02 1.06200000e-01 4.00040004e-05]\n",
      " ...\n",
      " [8.14700000e-01 7.91000000e-02 1.06200000e-01 1.99959996e-01]\n",
      " [8.14700000e-01 7.91000000e-02 1.06200000e-01 1.99979998e-01]\n",
      " [8.14700000e-01 7.91000000e-02 1.06200000e-01 2.00000000e-01]]\n"
     ]
    }
   ],
   "source": [
    "print(x_t)"
   ]
  },
  {
   "cell_type": "code",
   "execution_count": 86,
   "metadata": {},
   "outputs": [],
   "source": [
    "# Wandle Liste von Listen in Tensorwerte um\n",
    "x_test_new = torch.tensor(x_t, dtype=torch.float)"
   ]
  },
  {
   "cell_type": "code",
   "execution_count": 87,
   "metadata": {},
   "outputs": [
    {
     "data": {
      "text/plain": [
       "tensor([0.8147, 0.0791, 0.1062, 0.0010])"
      ]
     },
     "execution_count": 87,
     "metadata": {},
     "output_type": "execute_result"
    }
   ],
   "source": [
    "x_test_new[52]"
   ]
  },
  {
   "cell_type": "code",
   "execution_count": 88,
   "metadata": {},
   "outputs": [
    {
     "name": "stdout",
     "output_type": "stream",
     "text": [
      "[[ 1.4948666e-01  2.7012298e-01  1.8675372e-01 ...  2.1281400e-01\n",
      "   2.1462199e-01  2.0113951e-01]\n",
      " [ 1.4937021e-01  2.6993647e-01  1.8672803e-01 ...  2.1274930e-01\n",
      "   2.1456936e-01  2.0114046e-01]\n",
      " [ 1.4925356e-01  2.6974982e-01  1.8670233e-01 ...  2.1268451e-01\n",
      "   2.1451662e-01  2.0114140e-01]\n",
      " ...\n",
      " [ 2.9099911e-01  4.0772557e-04 -1.3835728e-04 ... -1.5135109e-04\n",
      "  -1.4905632e-04 -1.4655292e-04]\n",
      " [ 2.9099405e-01  3.9905310e-04 -1.4588237e-04 ... -1.5814602e-04\n",
      "  -1.5580654e-04 -1.5328825e-04]\n",
      " [ 2.9098898e-01  3.9023161e-04 -1.5343726e-04 ... -1.6497076e-04\n",
      "  -1.6260147e-04 -1.6005337e-04]]\n"
     ]
    }
   ],
   "source": [
    "# Nutze das Netz um Vorhersagen für die verschiedenen Dilutionen bei Substratwerten zu machen\n",
    "pred_sample = net(x_test_new)\n",
    "pred_sample = pred_sample.detach().numpy()\n",
    "print(pred_sample)\n",
    "pred_sample.shape\n",
    "\n",
    "# schreibe die Ergebnisse der Methangasmenge in csv-file\n",
    "import csv\n",
    "\n",
    "with open(\"out.csv\", \"w\", newline=\"\") as f:\n",
    "    writer = csv.writer(f)\n",
    "    writer.writerows(pred_sample)"
   ]
  },
  {
   "cell_type": "code",
   "execution_count": 89,
   "metadata": {},
   "outputs": [
    {
     "name": "stdout",
     "output_type": "stream",
     "text": [
      "0.97502023\n",
      "2506.1416437716566\n",
      "[2626]\n"
     ]
    }
   ],
   "source": [
    "# bestimme den maximalen Gasstrom im Gleichgewicht\n",
    "\n",
    "def max_value(pred_sample):\n",
    "    list_1 = [sublist[-1] for sublist in pred_sample]\n",
    "#     print(list_1)\n",
    "    return max([sublist[-1] for sublist in pred_sample])\n",
    "\n",
    "print(max_value(pred_sample))\n",
    "max_sample = max_value(pred_sample)\n",
    "\n",
    "max_gas = max_sample * max_field[-1]\n",
    "print(max_gas)\n",
    "# bestimme den zugehörigen Index\n",
    "\n",
    "def index_finding(pred_sample, max_sample):\n",
    "    list_1 = [sublist[-1] for sublist in pred_sample]\n",
    "    indices = [i for i, x in enumerate(list_1) if x == max_sample]\n",
    "    return indices\n",
    "\n",
    "print(index_finding(pred_sample, max_sample))"
   ]
  },
  {
   "cell_type": "code",
   "execution_count": 90,
   "metadata": {},
   "outputs": [
    {
     "name": "stdout",
     "output_type": "stream",
     "text": [
      "[[0.3631046  0.99394935 0.8814493  0.9764217  0.9767894  0.9763525\n",
      "  0.9758691  0.9759009  0.97562957 0.9755889  0.97503865 0.97598356\n",
      "  0.97576016 0.97582316 0.9754733  0.97502023]]\n",
      "[[0.8147     0.0791     0.1062     0.05252525]]\n",
      "[0.05252525]\n"
     ]
    }
   ],
   "source": [
    "# Gegenprobe\n",
    "\n",
    "x_point = torch.tensor(x_t[:][index_finding(pred_sample, max_sample)], dtype=torch.float)\n",
    "pred_sample_point = net(x_point)\n",
    "pred_sample_point = pred_sample_point.detach().numpy()\n",
    "print(pred_sample_point)\n",
    "\n",
    "print(x_t[index_finding(pred_sample, max_sample)])\n",
    "\n",
    "dil_opt = x_t[index_finding(pred_sample, max_sample),-1]\n",
    "print(dil_opt)"
   ]
  },
  {
   "cell_type": "code",
   "execution_count": 91,
   "metadata": {},
   "outputs": [
    {
     "name": "stdout",
     "output_type": "stream",
     "text": [
      "0.05252525252525253\n"
     ]
    }
   ],
   "source": [
    "dil_opt_scalar = np.ndarray.item(dil_opt)\n",
    "print(dil_opt_scalar)"
   ]
  },
  {
   "cell_type": "code",
   "execution_count": 55,
   "metadata": {},
   "outputs": [
    {
     "name": "stdout",
     "output_type": "stream",
     "text": [
      "0.010499708223207734\n"
     ]
    }
   ],
   "source": [
    "# # Rücktransformation\n",
    "# dil_opt_ADM = dil_opt_scalar * max_field_dil\n",
    "\n",
    "# print(dil_opt_ADM)"
   ]
  },
  {
   "cell_type": "code",
   "execution_count": 56,
   "metadata": {},
   "outputs": [],
   "source": [
    "# dil_opt_ADM_1 = (dil_opt_scalar - 0.001) * max_field_dil\n",
    "# dil_opt_ADM_2 = (dil_opt_scalar + 0.001) * max_field_dil"
   ]
  },
  {
   "cell_type": "code",
   "execution_count": 92,
   "metadata": {},
   "outputs": [
    {
     "name": "stdout",
     "output_type": "stream",
     "text": [
      "[2518.5529310138977,300.0]\n"
     ]
    }
   ],
   "source": [
    "gg_opt = eng.ADM_Sim_ML_remote(carbo, protein, fat, dil_opt_scalar)\n",
    "print(gg_opt[-1])"
   ]
  },
  {
   "cell_type": "code",
   "execution_count": 94,
   "metadata": {},
   "outputs": [
    {
     "name": "stdout",
     "output_type": "stream",
     "text": [
      "[2482.0921502030724,300.0]\n"
     ]
    }
   ],
   "source": [
    "gg_opt_1 = eng.ADM_Sim_ML_remote(carbo, protein, fat, (dil_opt_scalar - 0.001) )\n",
    "print(gg_opt_1[-1])"
   ]
  },
  {
   "cell_type": "code",
   "execution_count": 99,
   "metadata": {},
   "outputs": [
    {
     "name": "stdout",
     "output_type": "stream",
     "text": [
      "[2554.56295124515,300.0]\n"
     ]
    }
   ],
   "source": [
    "gg_opt_2 = eng.ADM_Sim_ML_remote(carbo, protein, fat,  (dil_opt_scalar + 0.001))\n",
    "print(gg_opt_2[-1])"
   ]
  },
  {
   "cell_type": "code",
   "execution_count": 100,
   "metadata": {},
   "outputs": [],
   "source": [
    "gg_np_opt = np.array(gg_opt)\n",
    "gg_opt_red_1 = np.array(gg_opt[1:49:5])\n",
    "gg_opt_red_2 = np.array(gg_opt[49:len(t_full):10])\n",
    "\n",
    "gg_opt_red = np.concatenate((gg_opt_red_1 ,gg_opt_red_2), axis=0)"
   ]
  },
  {
   "cell_type": "code",
   "execution_count": 101,
   "metadata": {},
   "outputs": [
    {
     "name": "stdout",
     "output_type": "stream",
     "text": [
      "[[1705.35487687    0.        ]\n",
      " [ 912.34516192    3.03030303]\n",
      " [2278.12636276    6.06060606]\n",
      " [2385.98400552    9.09090909]\n",
      " [2518.74071505   12.12121212]\n",
      " [2696.31060606   15.15151515]\n",
      " [2827.0699134    18.18181818]\n",
      " [2592.48352189   21.21212121]\n",
      " [2508.45272033   24.24242424]\n",
      " [2509.22666228   27.27272727]\n",
      " [2510.95185194   30.3030303 ]\n",
      " [2512.3332418    33.33333333]\n",
      " [2513.45587418   36.36363636]\n",
      " [2514.37543456   39.39393939]\n",
      " [2515.13021019   42.42424242]\n",
      " [2515.74977299   45.45454545]\n",
      " [2516.25813485   48.48484848]\n",
      " [2516.67507873   51.51515152]\n",
      " [2517.01692417   54.54545455]\n",
      " [2517.29710771   57.57575758]\n",
      " [2517.52667804   60.60606061]\n",
      " [2517.71470761   63.63636364]\n",
      " [2517.86864618   66.66666667]\n",
      " [2517.99461239   69.6969697 ]\n",
      " [2518.09763282   72.72727273]\n",
      " [2518.1818381    75.75757576]\n",
      " [2518.25062297   78.78787879]\n",
      " [2518.30677711   81.81818182]\n",
      " [2518.35259218   84.84848485]\n",
      " [2518.38994975   87.87878788]\n",
      " [2518.4203939    90.90909091]\n",
      " [2518.44519133   93.93939394]\n",
      " [2518.46537825   96.96969697]\n",
      " [2518.48180497  100.        ]\n",
      " [2518.49516595  103.03030303]\n",
      " [2518.50602904  106.06060606]\n",
      " [2518.51485808  109.09090909]\n",
      " [2518.52203152  112.12121212]\n",
      " [2518.52785807  115.15151515]\n",
      " [2518.53258945  118.18181818]\n",
      " [2518.53643041  121.21212121]\n",
      " [2518.53954796  124.24242424]\n",
      " [2518.54207782  127.27272727]\n",
      " [2518.54413039  130.3030303 ]\n",
      " [2518.54579547  133.33333333]\n",
      " [2518.54714601  136.36363636]\n",
      " [2518.5482413   139.39393939]\n",
      " [2518.54912948  142.42424242]\n",
      " [2518.54984962  145.45454545]\n",
      " [2518.55043349  148.48484848]\n",
      " [2518.55090682  151.51515152]\n",
      " [2518.55129052  154.54545455]\n",
      " [2518.55160153  157.57575758]\n",
      " [2518.55185361  160.60606061]\n",
      " [2518.55205793  163.63636364]\n",
      " [2518.55222351  166.66666667]\n",
      " [2518.55235772  169.6969697 ]\n",
      " [2518.55246647  172.72727273]\n",
      " [2518.55255459  175.75757576]\n",
      " [2518.55262601  178.78787879]\n",
      " [2518.55268389  181.81818182]\n",
      " [2518.55273079  184.84848485]\n",
      " [2518.55276878  187.87878788]\n",
      " [2518.55279957  190.90909091]\n",
      " [2518.55282452  193.93939394]\n",
      " [2518.55284474  196.96969697]\n",
      " [2518.55286112  200.        ]\n",
      " [2518.5528744   203.03030303]\n",
      " [2518.55288515  206.06060606]\n",
      " [2518.55289387  209.09090909]\n",
      " [2518.55290093  212.12121212]\n",
      " [2518.55290665  215.15151515]\n",
      " [2518.55291129  218.18181818]\n",
      " [2518.55291504  221.21212121]\n",
      " [2518.55291809  224.24242424]\n",
      " [2518.55292055  227.27272727]\n",
      " [2518.55292255  230.3030303 ]\n",
      " [2518.55292417  233.33333333]\n",
      " [2518.55292548  236.36363636]\n",
      " [2518.55292655  239.39393939]\n",
      " [2518.55292741  242.42424242]\n",
      " [2518.5529281   245.45454545]\n",
      " [2518.55292867  248.48484848]\n",
      " [2518.55292913  251.51515152]\n",
      " [2518.5529295   254.54545455]\n",
      " [2518.5529298   257.57575758]\n",
      " [2518.55293004  260.60606061]\n",
      " [2518.55293024  263.63636364]\n",
      " [2518.5529304   266.66666667]\n",
      " [2518.55293053  269.6969697 ]\n",
      " [2518.55293064  272.72727273]\n",
      " [2518.55293072  275.75757576]\n",
      " [2518.5529308   278.78787879]\n",
      " [2518.55293085  281.81818182]\n",
      " [2518.55293089  284.84848485]\n",
      " [2518.55293093  287.87878788]\n",
      " [2518.55293096  290.90909091]\n",
      " [2518.55293098  293.93939394]\n",
      " [2518.552931    296.96969697]\n",
      " [2518.55293101  300.        ]] [[ 912.34516192    3.03030303]\n",
      " [2827.0699134    18.18181818]\n",
      " [2512.3332418    33.33333333]\n",
      " [2516.25813485   48.48484848]\n",
      " [2517.71470761   63.63636364]\n",
      " [2518.25062297   78.78787879]\n",
      " [2518.44519133   93.93939394]\n",
      " [2518.51485808  109.09090909]\n",
      " [2518.53954796  124.24242424]\n",
      " [2518.5482413   139.39393939]\n",
      " [2518.55043349  148.48484848]\n",
      " [2518.55262601  178.78787879]\n",
      " [2518.55289387  209.09090909]\n",
      " [2518.55292655  239.39393939]\n",
      " [2518.55293053  269.6969697 ]\n",
      " [2518.55293101  300.        ]]\n"
     ]
    }
   ],
   "source": [
    "print(gg_np_opt, gg_opt_red)"
   ]
  },
  {
   "cell_type": "code",
   "execution_count": 408,
   "metadata": {},
   "outputs": [
    {
     "name": "stdout",
     "output_type": "stream",
     "text": [
      "[array([0.12292828, 0.24983801, 0.22678312, 0.25135212, 0.25131813,\n",
      "       0.25134225, 0.2513754 , 0.25140355, 0.25142432, 0.25143875,\n",
      "       0.25144505, 0.25145772, 0.25146321, 0.25146555, 0.25146655,\n",
      "       0.25146697])]\n",
      "[0.0525]\n"
     ]
    }
   ],
   "source": [
    "norm_gg_opt = gg_opt_red[:,0]\n",
    "gg_norm_opt = []\n",
    "dil_norm_opt = []\n",
    "\n",
    "gg_norm_opt.append(norm_gg_opt[:]/max_field.values) \n",
    "print(gg_norm_opt)\n",
    "\n",
    "dil_norm_opt.append(dil_opt_ADM/max_field_dil)\n",
    "print(dil_norm_opt)"
   ]
  },
  {
   "cell_type": "code",
   "execution_count": 109,
   "metadata": {},
   "outputs": [],
   "source": [
    "fig, ax = plt.subplots()\n",
    "ax.plot(gg_np[:,1], np.reshape(gg_np[:,0], (100,1)), 'r-.')\n",
    "ax.plot(gg_np[:,1], np.reshape(gg_np_opt[:,0], (100,1)), 'b-.')\n",
    "ax.plot(gg_opt_red[:,1], np.reshape(gg_opt_red[:,0], (16,1)), 'gx')\n",
    "ax.set_xlabel('Time [d]')\n",
    "ax.set_ylabel('Concentration [m³/d]')\n",
    "plt.show()"
   ]
  },
  {
   "cell_type": "code",
   "execution_count": null,
   "metadata": {},
   "outputs": [],
   "source": []
  },
  {
   "cell_type": "code",
   "execution_count": null,
   "metadata": {},
   "outputs": [],
   "source": []
  },
  {
   "cell_type": "code",
   "execution_count": null,
   "metadata": {},
   "outputs": [],
   "source": []
  },
  {
   "cell_type": "code",
   "execution_count": 9,
   "metadata": {},
   "outputs": [
    {
     "name": "stdout",
     "output_type": "stream",
     "text": [
      "Overwriting multi_lin_func.m\n"
     ]
    }
   ],
   "source": [
    "%%file multi_lin_func.m\n",
    "\n",
    "function p = multi_lin_func(a,b)\n",
    "    % in-file comments can be added like this\n",
    "    a = a+1;\n",
    "    b = b+1;\n",
    "    p = a+b;\n",
    "end"
   ]
  },
  {
   "cell_type": "code",
   "execution_count": 10,
   "metadata": {},
   "outputs": [
    {
     "ename": "NameError",
     "evalue": "name 'multi_lin_func' is not defined",
     "output_type": "error",
     "traceback": [
      "\u001b[1;31m---------------------------------------------------------------------------\u001b[0m",
      "\u001b[1;31mNameError\u001b[0m                                 Traceback (most recent call last)",
      "\u001b[1;32m<ipython-input-10-11748ea6e037>\u001b[0m in \u001b[0;36m<module>\u001b[1;34m\u001b[0m\n\u001b[1;32m----> 1\u001b[1;33m \u001b[0mmulti_lin_func\u001b[0m\u001b[1;33m(\u001b[0m\u001b[1;36m1\u001b[0m\u001b[1;33m,\u001b[0m\u001b[1;36m2\u001b[0m\u001b[1;33m)\u001b[0m\u001b[1;33m\u001b[0m\u001b[1;33m\u001b[0m\u001b[0m\n\u001b[0m",
      "\u001b[1;31mNameError\u001b[0m: name 'multi_lin_func' is not defined"
     ]
    }
   ],
   "source": [
    "multi_lin_func(1,2)"
   ]
  },
  {
   "cell_type": "markdown",
   "metadata": {},
   "source": [
    "# ab hier normaler Code"
   ]
  },
  {
   "cell_type": "code",
   "execution_count": 197,
   "metadata": {},
   "outputs": [
    {
     "name": "stdout",
     "output_type": "stream",
     "text": [
      "tensor([0.8147, 0.0791, 0.1062, 0.1338])\n",
      "[ 6.4616990e-01 -4.7296286e-05  1.5363097e-05  2.0101666e-05\n",
      "  2.0295382e-05  1.9475818e-05  1.8432736e-05  1.8864870e-05\n",
      "  1.8239021e-05  1.7896295e-05  1.6897917e-05  1.9192696e-05\n",
      "  1.8596649e-05  1.8909574e-05  1.8209219e-05  1.7240644e-05]\n",
      "[6.4522964e-01 6.8613990e-05 9.6559243e-06 7.8648100e-06 7.5854050e-06\n",
      " 7.5538346e-06 7.5499147e-06 7.5493431e-06 7.5492367e-06 7.5492103e-06\n",
      " 7.5492048e-06 7.5491998e-06 7.5491994e-06 7.5491994e-06 7.5491994e-06\n",
      " 7.5491994e-06]\n",
      "[-9.40263271e-04  1.15910276e-04 -5.70717293e-06 -1.22368565e-05\n",
      " -1.27099765e-05 -1.19219831e-05 -1.08828217e-05 -1.13155274e-05\n",
      " -1.06897842e-05 -1.03470848e-05 -9.34871241e-06 -1.16434958e-05\n",
      " -1.10474502e-05 -1.13603746e-05 -1.06600201e-05 -9.69144457e-06]\n"
     ]
    }
   ],
   "source": [
    "# Testing a sample of testdata\n",
    "pred_sample = net(x_test[0])\n",
    "pred_sample = pred_sample.detach().numpy()\n",
    "y_real = y_test[0].detach().numpy()\n",
    "\n",
    "print(x_test[0])\n",
    "print(pred_sample)\n",
    "print(y_real)\n",
    "\n",
    "\n",
    "# showing deviation\n",
    "print(y_real - pred_sample)\n",
    "\n",
    "\n",
    "time_list = []\n",
    "for ii in range(16):\n",
    "    time_list.append('time_' + str(ii+1))\n",
    "\n",
    "time_series = data_raw[time_list]\n",
    "t = time_series.loc[0].to_numpy()\n",
    "\n",
    "plt.scatter(t, y_real)\n",
    "plt.scatter(t, pred_sample)\n",
    "plt.show()"
   ]
  },
  {
   "cell_type": "code",
   "execution_count": 20,
   "metadata": {},
   "outputs": [
    {
     "name": "stdout",
     "output_type": "stream",
     "text": [
      "tensor(85.5266, grad_fn=<SumBackward0>)\n"
     ]
    }
   ],
   "source": [
    "loss = my_loss(prediction_test, y_test)\n",
    "print(loss)"
   ]
  },
  {
   "cell_type": "code",
   "execution_count": 21,
   "metadata": {},
   "outputs": [
    {
     "name": "stdout",
     "output_type": "stream",
     "text": [
      "tensor(-45.1772, grad_fn=<MeanBackward0>)\n",
      "tensor(96.6993, grad_fn=<MeanBackward0>)\n",
      "[[ 6.4616984e-01 -4.7266483e-05  1.5363097e-05 ...  1.8894672e-05\n",
      "   1.8209219e-05  1.7240644e-05]\n",
      " [ 8.7011850e-01  4.1598082e-04  3.4973025e-05 ...  1.0550022e-05\n",
      "   1.0460615e-05  1.0371208e-05]\n",
      " [ 3.4827200e-01  1.2359023e-04  2.6479363e-05 ...  1.7613173e-05\n",
      "   1.7985702e-05  1.8715858e-05]\n",
      " ...\n",
      " [ 6.4195526e-01  1.5226007e-04  2.2202730e-05 ...  2.3275614e-05\n",
      "   2.2545457e-05  2.1561980e-05]\n",
      " [ 3.3384410e-01  2.1347404e-04  2.9742718e-05 ...  1.5795231e-05\n",
      "   1.6406178e-05  1.7508864e-05]\n",
      " [ 3.2752940e-01  1.5044212e-04 -1.0073185e-05 ... -2.1666288e-05\n",
      "  -2.0742416e-05 -1.9431114e-05]]\n",
      "[[6.45229638e-01 6.86139902e-05 9.65592426e-06 ... 7.54919938e-06\n",
      "  7.54919938e-06 7.54919938e-06]\n",
      " [8.67476821e-01 2.62590096e-04 1.99666647e-05 ... 9.37213827e-06\n",
      "  9.37213827e-06 9.37213827e-06]\n",
      " [3.47151935e-01 1.24998696e-05 4.75467732e-06 ... 4.95788299e-06\n",
      "  4.95788299e-06 4.95788299e-06]\n",
      " ...\n",
      " [6.45257831e-01 6.98388030e-05 9.79269498e-06 ... 7.63798562e-06\n",
      "  7.63798562e-06 7.63798562e-06]\n",
      " [3.32661837e-01 1.17699965e-05 4.78575748e-06 ... 5.03337878e-06\n",
      "  5.03337878e-06 5.03337878e-06]\n",
      " [3.25116068e-01 1.10322999e-05 4.60629462e-06 ... 4.85983810e-06\n",
      "  4.85983810e-06 4.85983810e-06]]\n",
      "85.5266\n",
      "(1200, 16)\n",
      "[8.839829e-07, 6.978462e-06, 1.254536e-06, 5.145794e-07, 8.459534e-06, 1.1309859e-05, 1.739895e-06, 1.620444e-07, 1.1551756e-06, 1.595813e-05, 2.6400676e-05, 8.864385e-06, 6.6532516e-07, 4.6391706e-06, 3.5876155e-07, 9.364592e-06]\n"
     ]
    }
   ],
   "source": [
    "score_model_pre = 100-(abs((prediction_test - y_test)/y_test))\n",
    "score_model = torch.mean(score_model_pre)\n",
    "print(score_model)\n",
    "\n",
    "prediction_train = net(x_data)\n",
    "score_model_pre = 100-(abs((prediction_train - y_data)/y_data))\n",
    "score_model = torch.mean(score_model_pre)\n",
    "print(score_model)\n",
    "\n",
    "print(prediction_test.detach().numpy())\n",
    "print(y_test.detach().numpy())\n",
    "\n",
    "abw = ((prediction_test.detach().numpy() - y_test.detach().numpy())**2)\n",
    "print(abw.sum())\n",
    "print(abw.shape)\n",
    "\n",
    "max_list = []\n",
    "for ii in range(16):\n",
    "    max_list.append(max(abw[ii,:]))\n",
    "print(max_list)"
   ]
  },
  {
   "cell_type": "code",
   "execution_count": 164,
   "metadata": {},
   "outputs": [
    {
     "data": {
      "text/html": [
       "<div>\n",
       "<style scoped>\n",
       "    .dataframe tbody tr th:only-of-type {\n",
       "        vertical-align: middle;\n",
       "    }\n",
       "\n",
       "    .dataframe tbody tr th {\n",
       "        vertical-align: top;\n",
       "    }\n",
       "\n",
       "    .dataframe thead th {\n",
       "        text-align: right;\n",
       "    }\n",
       "</style>\n",
       "<table border=\"1\" class=\"dataframe\">\n",
       "  <thead>\n",
       "    <tr style=\"text-align: right;\">\n",
       "      <th></th>\n",
       "      <th>time_1</th>\n",
       "      <th>time_2</th>\n",
       "      <th>time_3</th>\n",
       "      <th>time_4</th>\n",
       "      <th>time_5</th>\n",
       "      <th>time_6</th>\n",
       "      <th>time_7</th>\n",
       "      <th>time_8</th>\n",
       "      <th>time_9</th>\n",
       "      <th>time_10</th>\n",
       "      <th>time_11</th>\n",
       "      <th>time_12</th>\n",
       "      <th>time_13</th>\n",
       "      <th>time_14</th>\n",
       "      <th>time_15</th>\n",
       "      <th>time_16</th>\n",
       "    </tr>\n",
       "  </thead>\n",
       "  <tbody>\n",
       "    <tr>\n",
       "      <th>0</th>\n",
       "      <td>3.030303</td>\n",
       "      <td>18.181818</td>\n",
       "      <td>33.333333</td>\n",
       "      <td>48.484848</td>\n",
       "      <td>63.636364</td>\n",
       "      <td>78.787879</td>\n",
       "      <td>93.939394</td>\n",
       "      <td>109.090909</td>\n",
       "      <td>124.242424</td>\n",
       "      <td>139.393939</td>\n",
       "      <td>148.484848</td>\n",
       "      <td>178.787879</td>\n",
       "      <td>209.090909</td>\n",
       "      <td>239.393939</td>\n",
       "      <td>269.69697</td>\n",
       "      <td>300</td>\n",
       "    </tr>\n",
       "    <tr>\n",
       "      <th>1</th>\n",
       "      <td>3.030303</td>\n",
       "      <td>18.181818</td>\n",
       "      <td>33.333333</td>\n",
       "      <td>48.484848</td>\n",
       "      <td>63.636364</td>\n",
       "      <td>78.787879</td>\n",
       "      <td>93.939394</td>\n",
       "      <td>109.090909</td>\n",
       "      <td>124.242424</td>\n",
       "      <td>139.393939</td>\n",
       "      <td>148.484848</td>\n",
       "      <td>178.787879</td>\n",
       "      <td>209.090909</td>\n",
       "      <td>239.393939</td>\n",
       "      <td>269.69697</td>\n",
       "      <td>300</td>\n",
       "    </tr>\n",
       "    <tr>\n",
       "      <th>2</th>\n",
       "      <td>3.030303</td>\n",
       "      <td>18.181818</td>\n",
       "      <td>33.333333</td>\n",
       "      <td>48.484848</td>\n",
       "      <td>63.636364</td>\n",
       "      <td>78.787879</td>\n",
       "      <td>93.939394</td>\n",
       "      <td>109.090909</td>\n",
       "      <td>124.242424</td>\n",
       "      <td>139.393939</td>\n",
       "      <td>148.484848</td>\n",
       "      <td>178.787879</td>\n",
       "      <td>209.090909</td>\n",
       "      <td>239.393939</td>\n",
       "      <td>269.69697</td>\n",
       "      <td>300</td>\n",
       "    </tr>\n",
       "    <tr>\n",
       "      <th>3</th>\n",
       "      <td>3.030303</td>\n",
       "      <td>18.181818</td>\n",
       "      <td>33.333333</td>\n",
       "      <td>48.484848</td>\n",
       "      <td>63.636364</td>\n",
       "      <td>78.787879</td>\n",
       "      <td>93.939394</td>\n",
       "      <td>109.090909</td>\n",
       "      <td>124.242424</td>\n",
       "      <td>139.393939</td>\n",
       "      <td>148.484848</td>\n",
       "      <td>178.787879</td>\n",
       "      <td>209.090909</td>\n",
       "      <td>239.393939</td>\n",
       "      <td>269.69697</td>\n",
       "      <td>300</td>\n",
       "    </tr>\n",
       "    <tr>\n",
       "      <th>4</th>\n",
       "      <td>3.030303</td>\n",
       "      <td>18.181818</td>\n",
       "      <td>33.333333</td>\n",
       "      <td>48.484848</td>\n",
       "      <td>63.636364</td>\n",
       "      <td>78.787879</td>\n",
       "      <td>93.939394</td>\n",
       "      <td>109.090909</td>\n",
       "      <td>124.242424</td>\n",
       "      <td>139.393939</td>\n",
       "      <td>148.484848</td>\n",
       "      <td>178.787879</td>\n",
       "      <td>209.090909</td>\n",
       "      <td>239.393939</td>\n",
       "      <td>269.69697</td>\n",
       "      <td>300</td>\n",
       "    </tr>\n",
       "  </tbody>\n",
       "</table>\n",
       "</div>"
      ],
      "text/plain": [
       "     time_1     time_2     time_3     time_4     time_5     time_6     time_7  \\\n",
       "0  3.030303  18.181818  33.333333  48.484848  63.636364  78.787879  93.939394   \n",
       "1  3.030303  18.181818  33.333333  48.484848  63.636364  78.787879  93.939394   \n",
       "2  3.030303  18.181818  33.333333  48.484848  63.636364  78.787879  93.939394   \n",
       "3  3.030303  18.181818  33.333333  48.484848  63.636364  78.787879  93.939394   \n",
       "4  3.030303  18.181818  33.333333  48.484848  63.636364  78.787879  93.939394   \n",
       "\n",
       "       time_8      time_9     time_10     time_11     time_12     time_13  \\\n",
       "0  109.090909  124.242424  139.393939  148.484848  178.787879  209.090909   \n",
       "1  109.090909  124.242424  139.393939  148.484848  178.787879  209.090909   \n",
       "2  109.090909  124.242424  139.393939  148.484848  178.787879  209.090909   \n",
       "3  109.090909  124.242424  139.393939  148.484848  178.787879  209.090909   \n",
       "4  109.090909  124.242424  139.393939  148.484848  178.787879  209.090909   \n",
       "\n",
       "      time_14    time_15  time_16  \n",
       "0  239.393939  269.69697      300  \n",
       "1  239.393939  269.69697      300  \n",
       "2  239.393939  269.69697      300  \n",
       "3  239.393939  269.69697      300  \n",
       "4  239.393939  269.69697      300  "
      ]
     },
     "execution_count": 164,
     "metadata": {},
     "output_type": "execute_result"
    }
   ],
   "source": [
    "import numpy as np\n",
    "import numpy.matlib\n",
    "# import mplcursors\n",
    "\n",
    "time_list = []\n",
    "for ii in range(16):\n",
    "    time_list.append('time_' + str(ii+1))\n",
    "\n",
    "time_series = data_raw[time_list]\n",
    "\n",
    "\n",
    "t = time_series.loc[0].to_numpy()\n",
    "time_series.head()"
   ]
  },
  {
   "cell_type": "code",
   "execution_count": 23,
   "metadata": {},
   "outputs": [],
   "source": [
    "%matplotlib qt"
   ]
  },
  {
   "cell_type": "code",
   "execution_count": 167,
   "metadata": {},
   "outputs": [
    {
     "name": "stdout",
     "output_type": "stream",
     "text": [
      "7.86481e-06\n",
      "2.0116568e-05\n"
     ]
    }
   ],
   "source": [
    "from mpl_toolkits.mplot3d import Axes3D\n",
    "y1 = y_test.numpy()\n",
    "y2 = prediction_test.detach().numpy()\n",
    "t = time_series.loc[0].to_numpy()\n",
    "# t = np.matlib.repmat(t, len(y1), 1)\n",
    "print(y1[0,3])\n",
    "print(y2[0,3])\n",
    "\n",
    "for i in range(10,20):\n",
    "    fig = plt.figure()\n",
    "    plt.plot(t, y1[i+10,:], 'bo--', label=r'$\\dot m(CH_4)$ ADM1' , alpha=0.5)\n",
    "    plt.plot(t, y2[i+10,:], marker=6, color='r', label=r'$\\dot m(CH_4)$ ML', alpha=0.5)\n",
    "    plt.legend(loc='best')\n",
    "    plt.xlabel('time [d]')\n",
    "    plt.ylabel(r'$\\dot m(CH_4)$ [m³/d]')\n",
    "    plt.show()"
   ]
  },
  {
   "cell_type": "code",
   "execution_count": 69,
   "metadata": {},
   "outputs": [],
   "source": [
    "# path = 'C:/Users/david.wagner/Desktop/Biomasse-Institut/Machine_Learning_Corr/checkpoint_ohneAuswasch_16dim_1.pth.tar'\n",
    "# checkpoint = {'x_test': x_test, 'y_test': y_test, 'x_data': x_data, 'y_data': y_data,\n",
    "#               'model': model,\n",
    "#               'state_dict': model.state_dict()}\n",
    "\n",
    "# torch.save(checkpoint, path)"
   ]
  },
  {
   "cell_type": "code",
   "execution_count": 70,
   "metadata": {},
   "outputs": [],
   "source": [
    "# checkpoint_1 = torch.load(path,  map_location=lambda storage, loc: storage)"
   ]
  },
  {
   "cell_type": "code",
   "execution_count": 71,
   "metadata": {},
   "outputs": [],
   "source": [
    "# x_data_1 = checkpoint['x_data'] "
   ]
  },
  {
   "cell_type": "code",
   "execution_count": 73,
   "metadata": {},
   "outputs": [
    {
     "name": "stdout",
     "output_type": "stream",
     "text": [
      "tensor([[0.4294, 0.0866, 0.4840, 1.0000],\n",
      "        [0.4852, 0.3456, 0.1692, 0.9925],\n",
      "        [0.4716, 0.4852, 0.0433, 0.5376],\n",
      "        ...,\n",
      "        [0.6208, 0.3367, 0.0425, 0.4188],\n",
      "        [0.3414, 0.5566, 0.1020, 0.5719],\n",
      "        [0.6203, 0.2340, 0.1457, 0.9593]]) tensor([[0.4294, 0.0866, 0.4840, 1.0000],\n",
      "        [0.4852, 0.3456, 0.1692, 0.9925],\n",
      "        [0.4716, 0.4852, 0.0433, 0.5376],\n",
      "        ...,\n",
      "        [0.6208, 0.3367, 0.0425, 0.4188],\n",
      "        [0.3414, 0.5566, 0.1020, 0.5719],\n",
      "        [0.6203, 0.2340, 0.1457, 0.9593]])\n"
     ]
    }
   ],
   "source": [
    "# print(x_data_1, x_data)"
   ]
  },
  {
   "cell_type": "code",
   "execution_count": null,
   "metadata": {},
   "outputs": [],
   "source": []
  }
 ],
 "metadata": {
  "kernelspec": {
   "display_name": "Python 3",
   "language": "python",
   "name": "python3"
  },
  "language_info": {
   "codemirror_mode": {
    "name": "ipython",
    "version": 3
   },
   "file_extension": ".py",
   "mimetype": "text/x-python",
   "name": "python",
   "nbconvert_exporter": "python",
   "pygments_lexer": "ipython3",
   "version": "3.7.7"
  }
 },
 "nbformat": 4,
 "nbformat_minor": 4
}
